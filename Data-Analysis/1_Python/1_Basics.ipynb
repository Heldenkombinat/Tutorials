{
 "cells": [
  {
   "cell_type": "markdown",
   "metadata": {},
   "source": [
    "# Python for Data Analysis - Basics\n",
    "\n",
    "This tutorial is based on the open-source [notebooks](https://github.com/manujeevanprakash/Python-and-Numpy-Basics) of Manu Jeevan Prakash."
   ]
  },
  {
   "cell_type": "markdown",
   "metadata": {},
   "source": [
    "While working on this notebook, an instructor will guide you through the basic concepts of programming languages. \n",
    "\n",
    "Self-learners should take the first eight lessons of the free Python course in [Code Academy](https://www.codecademy.com/learn/learn-python) before going through this condensed guide.\n",
    "If you have 10 hours and enough coffe just take all the 12 lessons! ;-)\n",
    "\n",
    "Manu also made a good compilation of more advanced resources in his [blog](http://bigdataexaminer.com/2015/05/18/5-amazingly-powerful-python-libraries-for-data-science/).\n",
    "\n",
    "\n",
    "At this point, there is two important things to remember:\n",
    "\n",
    "* Python places an emphasis on **readablity**, **simplicity** and **explicitiness**.\n",
    "\n",
    "* Everything is an **object** in python, and objects have attributes.\n"
   ]
  },
  {
   "cell_type": "markdown",
   "metadata": {},
   "source": [
    "## Conditionals, Control Flow and Loops"
   ]
  },
  {
   "cell_type": "markdown",
   "metadata": {},
   "source": [
    "In this tutorial we will review the basics of *conditionals*, *control flow* and *loops* while working on examples of different functions of the Python language.\n",
    "\n",
    "We will only briefly mention the commonly used format of **ternary expresions**."
   ]
  },
  {
   "cell_type": "code",
   "execution_count": 1,
   "metadata": {},
   "outputs": [],
   "source": [
    "# These are called ternary expressions:\n",
    "s1 = 'I can not read.'\n",
    "s2 = 'This is a beautiful quote.' if s1 == 'I can not read.' else 'I am a rabbit.'\n",
    "print(s2)"
   ]
  },
  {
   "cell_type": "markdown",
   "metadata": {},
   "source": [
    "## Built-In Functions and Types"
   ]
  },
  {
   "cell_type": "markdown",
   "metadata": {},
   "source": [
    "First, we will start with some of the Python **Buit-In** [functions](https://docs.python.org/3/library/functions.html) and [types](https://docs.python.org/3/library/stdtypes.html).\n",
    "You can find all the available modules in the official documentation of the Python [Standard Library](https://docs.python.org/3/library/) ."
   ]
  },
  {
   "cell_type": "markdown",
   "metadata": {},
   "source": [
    "### Booleans"
   ]
  },
  {
   "cell_type": "code",
   "execution_count": 2,
   "metadata": {},
   "outputs": [],
   "source": [
    "# As we already saw, boolean values in python are written as True and False.\n",
    "print(True and True)\n",
    "print(True or False)\n",
    "print(True and False)"
   ]
  },
  {
   "cell_type": "code",
   "execution_count": 3,
   "metadata": {},
   "outputs": [],
   "source": [
    "# Empty iterables (lists, dictionaries, strings, tuples, etc.) are \"Falsy\".\n",
    "# Once they contain at least one element, they are considered \"Truthy\".\n",
    "print(bool([]), bool([1, 2, 3]))\n",
    "print(bool(''), bool('Hi'))\n",
    "print(bool(0), bool(1))"
   ]
  },
  {
   "cell_type": "markdown",
   "metadata": {},
   "source": [
    "You can check the type of an object using the `type()` function.\n",
    "\n",
    "You can check whether an object is an instance of a particular type using the `isinstance()` function."
   ]
  },
  {
   "cell_type": "code",
   "execution_count": 4,
   "metadata": {},
   "outputs": [],
   "source": [
    "a = 'This is a string.'\n",
    "print(type(a))\n",
    "print(isinstance(a, str))\n",
    "print(isinstance(a, float))\n",
    "print(isinstance(a, int))\n",
    "print(isinstance(a, (str, float, int)))\n",
    "\n",
    "b = 4.5 \n",
    "print(type(b))\n",
    "print(isinstance(b, str))\n",
    "print(isinstance(b, float))\n",
    "print(isinstance(b, int))\n",
    "print(isinstance(b, (str, float, int)))"
   ]
  },
  {
   "cell_type": "markdown",
   "metadata": {},
   "source": [
    "The attributes of a python object can be accessed using `object.attribute_name`."
   ]
  },
  {
   "cell_type": "code",
   "execution_count": 5,
   "metadata": {},
   "outputs": [],
   "source": [
    "# Remove <tab> and press the tab button:\n",
    "#a.<tab>  # This will return a SyntaxError."
   ]
  },
  {
   "cell_type": "markdown",
   "metadata": {},
   "source": [
    "## Mutable and Immutable Objects"
   ]
  },
  {
   "cell_type": "markdown",
   "metadata": {},
   "source": [
    "Objects whose *value can be changed* once they are created, are called **mutable** objects.\n",
    "\n",
    "For example:\n",
    "* Lists\n",
    "* Dictionaries\n",
    "* Arrays\n",
    "\n",
    "Objects whose *value cannot be changed* once they are created, are called **immutable** objects.\n",
    "\n",
    "For example:\n",
    "* Strings\n",
    "* Tuples"
   ]
  },
  {
   "cell_type": "code",
   "execution_count": 6,
   "metadata": {
    "scrolled": false
   },
   "outputs": [],
   "source": [
    "animals = ['Penguin', 'Dog', 'Cow', 'Python']\n",
    "animals[2] = 'Cat'\n",
    "print(animals)\n",
    "\n",
    "numbers = (10, 20, 1, 123)\n",
    "#numbers[1] = 1984    # This will return a TypeError."
   ]
  },
  {
   "cell_type": "markdown",
   "metadata": {},
   "source": [
    "## Mutable"
   ]
  },
  {
   "cell_type": "markdown",
   "metadata": {},
   "source": [
    "### Lists"
   ]
  },
  {
   "cell_type": "markdown",
   "metadata": {},
   "source": [
    "Now we will discuss in more detail some useful concepts:\n",
    "\n",
    "* Adding and removing elements from a list\n",
    "* Combining and conctenating lists\n",
    "* Sorting\n",
    "* List slicing"
   ]
  },
  {
   "cell_type": "code",
   "execution_count": 7,
   "metadata": {},
   "outputs": [],
   "source": [
    "# Notice the difference between append() and extend():\n",
    "countries = ['Germany', 'Zambia', 'United Kingdom','Mexico']\n",
    "countries.append(['Portugal', 'Canada'])\n",
    "print(countries)\n",
    "\n",
    "countries = ['Germany', 'Zambia', 'United Kingdom','Mexico']\n",
    "countries.extend(['Portugal', 'Canada'])\n",
    "print(countries)"
   ]
  },
  {
   "cell_type": "code",
   "execution_count": 8,
   "metadata": {},
   "outputs": [],
   "source": [
    "# sort() according to number of characters:\n",
    "countries.sort()\n",
    "print(countries)\n",
    "\n",
    "# sort() according to number of characters:\n",
    "countries.sort(key=len)\n",
    "print(countries)"
   ]
  },
  {
   "cell_type": "markdown",
   "metadata": {},
   "source": [
    "Differently to the **method** `.sort()`, the **function** `sorted()` returns a new object."
   ]
  },
  {
   "cell_type": "code",
   "execution_count": 9,
   "metadata": {},
   "outputs": [
    {
     "name": "stdout",
     "output_type": "stream",
     "text": [
      "[8, 5, 1, 3, 9, 7, 2, 4, 6]\n",
      "[1, 2, 3, 4, 5, 6, 7, 8, 9]\n"
     ]
    }
   ],
   "source": [
    "countries = [8, 5, 1, 3, 9, 7, 2, 4, 6]\n",
    "print(countries)\n",
    "\n",
    "countries = [8, 5, 1, 3, 9, 7, 2, 4, 6]\n",
    "countries.sort()\n",
    "print(countries)"
   ]
  },
  {
   "cell_type": "code",
   "execution_count": 10,
   "metadata": {},
   "outputs": [
    {
     "name": "stdout",
     "output_type": "stream",
     "text": [
      "[8, 5, 1, 3, 9, 7, 2, 4, 6]\n",
      "[1, 2, 3, 4, 5, 6, 7, 8, 9]\n"
     ]
    }
   ],
   "source": [
    "countries = [8, 5, 1, 3, 9, 7, 2, 4, 6]\n",
    "sorted(countries)\n",
    "print(countries)\n",
    "\n",
    "countries = [8, 5, 1, 3, 9, 7, 2, 4, 6]\n",
    "countries = sorted(countries)\n",
    "print(countries)"
   ]
  },
  {
   "cell_type": "markdown",
   "metadata": {},
   "source": [
    "Bisect finds the location where an element should be inserted to keep it sorted.\n",
    "\n",
    "Remember that Python has **zero-based** indexing."
   ]
  },
  {
   "cell_type": "code",
   "execution_count": 11,
   "metadata": {},
   "outputs": [
    {
     "name": "stdout",
     "output_type": "stream",
     "text": [
      "[0, 1, 2, 3, 4, 5]\n",
      "3\n",
      "6\n"
     ]
    }
   ],
   "source": [
    "from bisect import bisect\n",
    "\n",
    "a = [0, 1, 2, 3, 4, 5]\n",
    "print(a)\n",
    "\n",
    "b = bisect(a, 2)\n",
    "print(b)\n",
    "\n",
    "c = bisect(a, 6)\n",
    "print(c)"
   ]
  },
  {
   "cell_type": "markdown",
   "metadata": {},
   "source": [
    "When iterating over a sequence, you can keep track of the index of the current element with `enumerate`."
   ]
  },
  {
   "cell_type": "code",
   "execution_count": 12,
   "metadata": {},
   "outputs": [
    {
     "name": "stdout",
     "output_type": "stream",
     "text": [
      "0 Italian\n",
      "1 Farsi\n",
      "2 Spanish\n",
      "3 Mandarin\n"
     ]
    }
   ],
   "source": [
    "languages = ['Italian', 'Farsi', 'Spanish', 'Mandarin']\n",
    "\n",
    "for index, value in enumerate(languages):\n",
    "    print(index, value)"
   ]
  },
  {
   "cell_type": "markdown",
   "metadata": {},
   "source": [
    "You can use `zip()` to join lists into a list of tuples."
   ]
  },
  {
   "cell_type": "code",
   "execution_count": 13,
   "metadata": {},
   "outputs": [
    {
     "name": "stdout",
     "output_type": "stream",
     "text": [
      "[('magician', 'c', 'mean'), ('singer', 'c++', 'median'), ('sales man', 'java', 'mode'), ('priest', 'javascript', 'skewness')]\n",
      "0: magician, c, mean\n",
      "1: singer, c++, median\n",
      "2: sales man, java, mode\n",
      "3: priest, javascript, skewness\n"
     ]
    }
   ],
   "source": [
    "jobs = ['magician', 'singer', 'sales man', 'priest']\n",
    "languages = ['c', 'c++', 'java', 'javascript']\n",
    "stats = ['mean', 'median', 'mode', 'skewness']\n",
    "\n",
    "print(list(zip(jobs, languages, stats)))\n",
    "\n",
    "for i, (x, y, z) in enumerate(zip(jobs, languages, stats)):\n",
    "    print('{0}: {1}, {2}, {3}'.format(i, x, y, z))"
   ]
  },
  {
   "cell_type": "markdown",
   "metadata": {},
   "source": [
    "You can *unzip* a zipped sequence as follows:"
   ]
  },
  {
   "cell_type": "code",
   "execution_count": 14,
   "metadata": {},
   "outputs": [
    {
     "name": "stdout",
     "output_type": "stream",
     "text": [
      "('Elvis', 'Frank', 'Placido')\n",
      "('Presley', 'Sinatra', 'Domingo')\n"
     ]
    }
   ],
   "source": [
    "singers = [('Elvis', 'Presley'), ('Frank', 'Sinatra'), ('Placido', 'Domingo')]\n",
    "\n",
    "first_names, last_names = zip(*singers)\n",
    "\n",
    "print(first_names)\n",
    "print(last_names)"
   ]
  },
  {
   "cell_type": "markdown",
   "metadata": {},
   "source": [
    "Use `reversed()` to reverse a sequence:"
   ]
  },
  {
   "cell_type": "code",
   "execution_count": 15,
   "metadata": {},
   "outputs": [
    {
     "name": "stdout",
     "output_type": "stream",
     "text": [
      "[0, 1, 2, 3, 4, 5, 6, 7, 8, 9]\n",
      "[9, 8, 7, 6, 5, 4, 3, 2, 1, 0]\n"
     ]
    }
   ],
   "source": [
    "print(list(range(10)))\n",
    "print(list(reversed(range(10))))"
   ]
  },
  {
   "cell_type": "markdown",
   "metadata": {},
   "source": [
    "### Dictionaries"
   ]
  },
  {
   "cell_type": "markdown",
   "metadata": {},
   "source": [
    "Some key concepts to remember in dictionary are:\n",
    "\n",
    "* How to access elements in a dictionary\n",
    "* `.keys()` and `.values()` methods\n",
    "* `pop` and `del` methods"
   ]
  },
  {
   "cell_type": "markdown",
   "metadata": {},
   "source": [
    "You can combine two dictionaries using `update()`."
   ]
  },
  {
   "cell_type": "code",
   "execution_count": 16,
   "metadata": {},
   "outputs": [
    {
     "name": "stdout",
     "output_type": "stream",
     "text": [
      "{'foo': 'bar', 123: 'abc', 'baz': '123', 'abc': 123}\n",
      "{'foo': '123', 123: 'abc', 'abc': 123}\n"
     ]
    }
   ],
   "source": [
    "d1 = {'foo': 'bar', 123: 'abc'}\n",
    "d2 = {'baz': '123', 'abc': 123}\n",
    "d1.update(d2)\n",
    "print(d1)\n",
    "\n",
    "# The new dictionary overrides the previous value of 'foo':\n",
    "d1 = {'foo': 'bar', 123: 'abc'}\n",
    "d2 = {'foo': '123', 'abc': 123}\n",
    "d1.update(d2)\n",
    "print(d1)"
   ]
  },
  {
   "cell_type": "markdown",
   "metadata": {},
   "source": [
    "The `dict()` function accepts tuples; therefore, you can use `zip()` to create key-value pairs."
   ]
  },
  {
   "cell_type": "code",
   "execution_count": 17,
   "metadata": {},
   "outputs": [
    {
     "name": "stdout",
     "output_type": "stream",
     "text": [
      "{0: 9, 1: 8, 2: 7, 3: 6, 4: 5, 5: 4, 6: 3, 7: 2, 8: 1, 9: 0}\n"
     ]
    }
   ],
   "source": [
    "keys = range(10)\n",
    "values = reversed(range(10))\n",
    "wow_dict = dict(zip(keys, values))\n",
    "print(wow_dict)"
   ]
  },
  {
   "cell_type": "markdown",
   "metadata": {},
   "source": [
    "The keys of a dictionary should be *immutable* (int, string, float, tuple).\n",
    "The technical term for this is [hashability](https://docs.python.org/3/glossary.html).\n",
    "An object is hashable if it has a hash value which never changes during its lifetime and can be compared to other objects.\n",
    "Hashable objects which compare equal must have the same hash value."
   ]
  },
  {
   "cell_type": "code",
   "execution_count": 18,
   "metadata": {},
   "outputs": [
    {
     "name": "stdout",
     "output_type": "stream",
     "text": [
      "6920973180326063016\n",
      "2528502973977326415\n"
     ]
    }
   ],
   "source": [
    "print(hash('string'))\n",
    "print(hash((1, 2, 3)))\n",
    "#print(hash([1, 2, 3]))  # This will return a TypeError."
   ]
  },
  {
   "cell_type": "markdown",
   "metadata": {},
   "source": [
    "If necessary, you can cast a `list` into a `tuple` and use it as a key in a dictionary."
   ]
  },
  {
   "cell_type": "code",
   "execution_count": 19,
   "metadata": {},
   "outputs": [
    {
     "name": "stdout",
     "output_type": "stream",
     "text": [
      "{(4, 5, 6): 789}\n"
     ]
    }
   ],
   "source": [
    "d = {}\n",
    "l = [4, 5, 6]\n",
    "t = tuple(l)\n",
    "d[t] = 789\n",
    "print(d)"
   ]
  },
  {
   "cell_type": "markdown",
   "metadata": {},
   "source": [
    "Let's take a look to dictionary comphrehensions."
   ]
  },
  {
   "cell_type": "code",
   "execution_count": 20,
   "metadata": {},
   "outputs": [
    {
     "name": "stdout",
     "output_type": "stream",
     "text": [
      "{'M': ['Manchester', 'Mancity'], 'L': ['Liverpool'], 'A': ['Arsenal'], 'C': ['Chelsea'], 'T': ['Tottenham'], 'B': ['Barcelona'], 'D': ['Dortmund']}\n"
     ]
    }
   ],
   "source": [
    "football_list = ['Manchester', 'Liverpool', 'Arsenal', 'Chelsea',\n",
    "                  'Mancity', 'Tottenham', 'Barcelona', 'Dortmund']\n",
    "football_dict = {}\n",
    "\n",
    "for club in football_list:\n",
    "    # Get the initial letter of the club name:\n",
    "    initial = club[0]\n",
    "    if initial not in football_dict.keys(): \n",
    "        football_dict[initial] = [club]\n",
    "    else:\n",
    "        football_dict[initial].append(club)\n",
    "        \n",
    "print(football_dict)"
   ]
  },
  {
   "cell_type": "markdown",
   "metadata": {},
   "source": [
    "The Same operation can be done using `defaultdict`.\n",
    "Usually, a Python dictionary throws a KeyError if you try to get an item with a key that is not currently in the dictionary.\n",
    "In contrast, defaultdict will simply create any items that you try to access if they do not exist yet.\n",
    "defaultdict is part of the `collections` library.\n",
    "To create an instance, defaultdict calls the object that you pass in the constructor (it can be any object, including function and type objects)."
   ]
  },
  {
   "cell_type": "code",
   "execution_count": 21,
   "metadata": {},
   "outputs": [
    {
     "name": "stdout",
     "output_type": "stream",
     "text": [
      "defaultdict(<class 'list'>, {'M': ['M'], 'L': ['L'], 'A': ['A'], 'C': ['C'], 'T': ['T'], 'B': ['B'], 'D': ['D']})\n"
     ]
    }
   ],
   "source": [
    "from collections import defaultdict\n",
    "\n",
    "football_defdict = defaultdict(list)\n",
    "\n",
    "for club in football_dict:\n",
    "    football_defdict[club[0]].append(club)\n",
    "    \n",
    "print(football_defdict)"
   ]
  },
  {
   "cell_type": "markdown",
   "metadata": {},
   "source": [
    "### Arrays"
   ]
  },
  {
   "cell_type": "markdown",
   "metadata": {},
   "source": [
    "Arrays are not data types handled by the built-in functions in Python.\n",
    "For this we need to use the **Numpy** [library](https://scipy.org/install.html).\n",
    "\n",
    "You can rename imported modules with the extension `as`."
   ]
  },
  {
   "cell_type": "code",
   "execution_count": 22,
   "metadata": {},
   "outputs": [
    {
     "name": "stdout",
     "output_type": "stream",
     "text": [
      "<class 'list'>\n",
      "[6, 7.5, 8, 0, 1]\n",
      "<class 'numpy.ndarray'>\n",
      "[6.  7.5 8.  0.  1. ]\n"
     ]
    }
   ],
   "source": [
    "import numpy as np\n",
    "\n",
    "# Define a list of numbers:\n",
    "data_list = [6, 7.5, 8, 0, 1]\n",
    "print(type(data_list))\n",
    "print(data_list)\n",
    "\n",
    "# Convert the list into an array using numpy:\n",
    "data_array = np.array(data_list)\n",
    "print(type(data_array))\n",
    "print(data_array)"
   ]
  },
  {
   "cell_type": "markdown",
   "metadata": {},
   "source": [
    "Try these functions, they are self explanatory:"
   ]
  },
  {
   "cell_type": "code",
   "execution_count": 23,
   "metadata": {},
   "outputs": [
    {
     "name": "stdout",
     "output_type": "stream",
     "text": [
      "2 2 2.0\n",
      "True\n",
      "True\n",
      "1.0\n"
     ]
    }
   ],
   "source": [
    "x = 2\n",
    "y = x \n",
    "z = float(x)\n",
    "print(x, y, z)\n",
    "\n",
    "print(x is y)\n",
    "print(z is not x)\n",
    "print(x / y)"
   ]
  },
  {
   "cell_type": "markdown",
   "metadata": {},
   "source": [
    "You can also use the following operators:"
   ]
  },
  {
   "cell_type": "code",
   "execution_count": 24,
   "metadata": {},
   "outputs": [
    {
     "name": "stdout",
     "output_type": "stream",
     "text": [
      "1\n",
      "4\n",
      "True False\n"
     ]
    }
   ],
   "source": [
    "# This is called floor divide, it drops the fractional remainder:\n",
    "print(x // y)\n",
    "\n",
    "# Raise x to the y the power:\n",
    "print(x**y)\n",
    "\n",
    "# True if y is less-than or equal-to y:\n",
    "print(x <= y, x < y)"
   ]
  },
  {
   "cell_type": "markdown",
   "metadata": {},
   "source": [
    "The same applies to other logical operators such as `&`, `|`, `^`, `==` and `!=`."
   ]
  },
  {
   "cell_type": "markdown",
   "metadata": {},
   "source": [
    "## Immutable"
   ]
  },
  {
   "cell_type": "markdown",
   "metadata": {},
   "source": [
    "### Strings"
   ]
  },
  {
   "cell_type": "markdown",
   "metadata": {},
   "source": [
    "You can write multiline strings using triple quotes ''' or \"\"\"."
   ]
  },
  {
   "cell_type": "code",
   "execution_count": 25,
   "metadata": {},
   "outputs": [
    {
     "name": "stdout",
     "output_type": "stream",
     "text": [
      "\n",
      "Hello myself!\n",
      "Do I want another cup of coffee?\n",
      "\n"
     ]
    }
   ],
   "source": [
    "print(\"\"\"\n",
    "Hello myself!\n",
    "Do I want another cup of coffee?\n",
    "\"\"\")"
   ]
  },
  {
   "cell_type": "code",
   "execution_count": 26,
   "metadata": {},
   "outputs": [],
   "source": [
    "# As we said, python strings don't support item assignment:\n",
    "s = 'This is a profound string.'\n",
    "#s[10] = 'X'  # This will return a TypeError."
   ]
  },
  {
   "cell_type": "code",
   "execution_count": 27,
   "metadata": {},
   "outputs": [
    {
     "name": "stdout",
     "output_type": "stream",
     "text": [
      "This is a great string.\n"
     ]
    }
   ],
   "source": [
    "# However, there is a way around this:\n",
    "s2 = s.replace('profound', 'great')\n",
    "print(s2)"
   ]
  },
  {
   "cell_type": "code",
   "execution_count": 28,
   "metadata": {},
   "outputs": [
    {
     "name": "stdout",
     "output_type": "stream",
     "text": [
      "123456\n",
      "<class 'str'>\n"
     ]
    }
   ],
   "source": [
    "# Many python objects can be converted to a string using 'str' function\n",
    "x = 123456\n",
    "y = str(x)\n",
    "print(y)\n",
    "print(type(y))"
   ]
  },
  {
   "cell_type": "code",
   "execution_count": 29,
   "metadata": {},
   "outputs": [
    {
     "name": "stdout",
     "output_type": "stream",
     "text": [
      "['S', 'u', 'p', 'e', 'r', 'm', 'a', 'n']\n",
      "Sup\n",
      "erman\n",
      "man\n"
     ]
    }
   ],
   "source": [
    "# Strings act like other sequences, such as lists and tuples:\n",
    "s = 'Superman'\n",
    "print(list(s))\n",
    "\n",
    "# So, you can also slice a python string:\n",
    "print(s[:3])\n",
    "print(s[3:])\n",
    "print(s[-3:])"
   ]
  },
  {
   "cell_type": "code",
   "execution_count": 30,
   "metadata": {},
   "outputs": [
    {
     "name": "stdout",
     "output_type": "stream",
     "text": [
      "Python is a funky language, I'm loving it.\n"
     ]
    }
   ],
   "source": [
    "# String concentation is very useful:\n",
    "p = 'Python is a funky language'\n",
    "q = \", I'm loving it.\"\n",
    "z = p + q\n",
    "print(z)"
   ]
  },
  {
   "cell_type": "markdown",
   "metadata": {},
   "source": [
    "We often need to do string formatting while analysing data.\n",
    "You can format a string using the method `format()` and define the length of floats with the operator `%`. For example, use `%3f` to format a number with 3 decimal points.\n",
    "You can find more options in the official [documentation](https://docs.python.org/3.4/library/string.html#format-specification-mini-language)."
   ]
  },
  {
   "cell_type": "code",
   "execution_count": 31,
   "metadata": {},
   "outputs": [
    {
     "name": "stdout",
     "output_type": "stream",
     "text": [
      "Amount: 1234.5679. Currency: EUR\n",
      "Amount:    1234.5679. Currency: USD\n",
      "Amount: 1.235e+03. Currency: CNY\n"
     ]
    }
   ],
   "source": [
    "print('Amount: {:2.4f}. Currency: {:s}'.format(1234.56789, 'EUR'))\n",
    "print('Amount: {:12.4f}. Currency: {:s}'.format(1234.56789, 'USD'))\n",
    "print('Amount: {:2.4}. Currency: {:s}'.format(1234.56789, 'CNY'))"
   ]
  },
  {
   "cell_type": "markdown",
   "metadata": {},
   "source": [
    "### Tuples"
   ]
  },
  {
   "cell_type": "markdown",
   "metadata": {},
   "source": [
    "Tuples can be defined by the `,` operator.\n",
    "Once created, a tuple has a fixed length and content."
   ]
  },
  {
   "cell_type": "code",
   "execution_count": 32,
   "metadata": {},
   "outputs": [
    {
     "name": "stdout",
     "output_type": "stream",
     "text": [
      "(1, 2, 3)\n",
      "2\n",
      "((1, 2, 3), (4, 5, 6))\n",
      "(4, 5, 6)\n",
      "6\n"
     ]
    }
   ],
   "source": [
    "t1 = 1, 2, 3\n",
    "print(t1)\n",
    "print(t1[1])\n",
    "\n",
    "t2 = (1, 2, 3), (4, 5, 6)  # Nested tuples.\n",
    "print(t2)\n",
    "print(t2[1])\n",
    "print(t2[1][2])"
   ]
  },
  {
   "cell_type": "markdown",
   "metadata": {},
   "source": [
    "You can cast any sequence into a tuple by using `tuple()`:"
   ]
  },
  {
   "cell_type": "code",
   "execution_count": 33,
   "metadata": {},
   "outputs": [
    {
     "name": "stdout",
     "output_type": "stream",
     "text": [
      "(4, 0, 2)\n",
      "('P', 'y', 't', 'h', 'o', 'n')\n"
     ]
    }
   ],
   "source": [
    "t1 = tuple([4, 0, 2])\n",
    "print(t1)\n",
    "\n",
    "t2 = tuple('Python')\n",
    "print(t2)"
   ]
  },
  {
   "cell_type": "markdown",
   "metadata": {},
   "source": [
    "However, you can `append()` to a list inside a tuple:"
   ]
  },
  {
   "cell_type": "code",
   "execution_count": 34,
   "metadata": {},
   "outputs": [
    {
     "name": "stdout",
     "output_type": "stream",
     "text": [
      "('Conchita', [1, 2], 'Wurst')\n",
      "('Conchita', [1, 2, 3], 'Wurst')\n"
     ]
    }
   ],
   "source": [
    "x = tuple(['Conchita', [1, 2], 'Wurst'])\n",
    "print(x)\n",
    "\n",
    "x[1].append(3)\n",
    "print(x)"
   ]
  },
  {
   "cell_type": "markdown",
   "metadata": {},
   "source": [
    "You can concatenate tuples using the `+` symbol:"
   ]
  },
  {
   "cell_type": "code",
   "execution_count": 35,
   "metadata": {},
   "outputs": [
    {
     "name": "stdout",
     "output_type": "stream",
     "text": [
      "MeanMedianMode\n",
      "('Mean', 'Median', 'Mode')\n"
     ]
    }
   ],
   "source": [
    "y = ('Mean') + ('Median') + ('Mode')\n",
    "print(y)\n",
    "\n",
    "y = ('Mean',) + ('Median',) + ('Mode',)\n",
    "print(y)"
   ]
  },
  {
   "cell_type": "markdown",
   "metadata": {},
   "source": [
    "You can also perform arithmetic operations on tuples:"
   ]
  },
  {
   "cell_type": "code",
   "execution_count": 36,
   "metadata": {},
   "outputs": [
    {
     "name": "stdout",
     "output_type": "stream",
     "text": [
      "('Mean', 'Median', 'Mode', 'Mean', 'Median', 'Mode')\n"
     ]
    }
   ],
   "source": [
    "print(y * 2)"
   ]
  },
  {
   "cell_type": "markdown",
   "metadata": {},
   "source": [
    "Often we need to **unpack** tuples:"
   ]
  },
  {
   "cell_type": "code",
   "execution_count": 37,
   "metadata": {},
   "outputs": [
    {
     "name": "stdout",
     "output_type": "stream",
     "text": [
      "Theano\n",
      "Open cv\n",
      "Torch\n"
     ]
    }
   ],
   "source": [
    "deep_learning = ('Theano', 'Open cv', 'Torch')\n",
    "\n",
    "x, y, z = deep_learning\n",
    "print(x)\n",
    "print(y)\n",
    "print(z)"
   ]
  },
  {
   "cell_type": "code",
   "execution_count": 38,
   "metadata": {},
   "outputs": [
    {
     "name": "stdout",
     "output_type": "stream",
     "text": [
      "Germany ('Mexico', 'China')\n",
      "Germany Mexico China\n"
     ]
    }
   ],
   "source": [
    "countries = 'Germany', ('Mexico','China')  \n",
    "\n",
    "a, b = countries\n",
    "print(a, b)\n",
    "\n",
    "a, (b, c) = countries\n",
    "print(a, b, c)"
   ]
  },
  {
   "cell_type": "markdown",
   "metadata": {},
   "source": [
    "You can use `.count()` to count how many values are there in a tuple:"
   ]
  },
  {
   "cell_type": "code",
   "execution_count": 39,
   "metadata": {},
   "outputs": [
    {
     "name": "stdout",
     "output_type": "stream",
     "text": [
      "2\n"
     ]
    }
   ],
   "source": [
    "countries ='Canada', ('Peru',' France'), 'Peru', 'Peru'\n",
    "print(countries.count('Peru'))"
   ]
  },
  {
   "cell_type": "markdown",
   "metadata": {},
   "source": [
    "### Sets"
   ]
  },
  {
   "cell_type": "markdown",
   "metadata": {},
   "source": [
    "A set is an unordered collection of unique elements."
   ]
  },
  {
   "cell_type": "code",
   "execution_count": 40,
   "metadata": {},
   "outputs": [
    {
     "name": "stdout",
     "output_type": "stream",
     "text": [
      "{2, 3, 4}\n",
      "{2, 3, 4}\n"
     ]
    }
   ],
   "source": [
    "print(    {2, 2, 3, 3, 3, 4, 4, 4, 4} )\n",
    "print(set([2, 2, 3, 3, 3, 4, 4, 4, 4]))"
   ]
  },
  {
   "cell_type": "markdown",
   "metadata": {},
   "source": [
    "Sets support mathematical operations like **union**, **intersection**, **difference**, and **symmetric difference**."
   ]
  },
  {
   "cell_type": "code",
   "execution_count": 41,
   "metadata": {},
   "outputs": [
    {
     "name": "stdout",
     "output_type": "stream",
     "text": [
      "{1, 2, 3, 4, 5, 6, 7}\n",
      "{3, 4, 5}\n",
      "{1, 2}\n",
      "{1, 2, 6, 7}\n",
      "True\n"
     ]
    }
   ],
   "source": [
    "a = {1, 2, 3, 4, 5}\n",
    "b = {3, 4, 5, 6, 7}\n",
    "\n",
    "print(a | b)  # Union\n",
    "print(a & b)  # Intersection\n",
    "print(a - b)  # Difference\n",
    "print(a ^ b)  # Symmetric difference\n",
    "print({1, 2, 3} == {3, 3, 3, 2, 2, 1})  # Comparisson of values"
   ]
  },
  {
   "cell_type": "markdown",
   "metadata": {},
   "source": [
    "### Date-Time"
   ]
  },
  {
   "cell_type": "markdown",
   "metadata": {},
   "source": [
    "Date and time are not data types handled by the built-in functions in Python.\n",
    "For this we need to import the `datetime` module from the **Standard Library**.\n",
    "You can find all the available directives for parsing datetime strings in the official [documentation](https://docs.python.org/3/library/datetime.html#strftime-and-strptime-behavior)."
   ]
  },
  {
   "cell_type": "code",
   "execution_count": 42,
   "metadata": {},
   "outputs": [
    {
     "name": "stdout",
     "output_type": "stream",
     "text": [
      "31\n",
      "30\n",
      "2018-12-31\n",
      "15:30:45\n"
     ]
    }
   ],
   "source": [
    "from datetime import datetime\n",
    "\n",
    "# Do not write number 6 as 06; you will get an invalid token error.\n",
    "dt = datetime(2018, 12, 31, 15, 30, 45)\n",
    "print(dt.day)\n",
    "print(dt.minute)\n",
    "print(dt.date())\n",
    "print(dt.time())"
   ]
  },
  {
   "cell_type": "markdown",
   "metadata": {},
   "source": [
    "`strftime()` converts the date and time into a string with the specified format:"
   ]
  },
  {
   "cell_type": "code",
   "execution_count": 43,
   "metadata": {},
   "outputs": [
    {
     "data": {
      "text/plain": [
       "'31/12/2018 15:30:45'"
      ]
     },
     "execution_count": 43,
     "metadata": {},
     "output_type": "execute_result"
    }
   ],
   "source": [
    "dt.strftime('%d/%m/%Y %H:%M:%S')"
   ]
  },
  {
   "cell_type": "markdown",
   "metadata": {},
   "source": [
    "Strings can be converted to datetime objects using `strptime()`:"
   ]
  },
  {
   "cell_type": "code",
   "execution_count": 44,
   "metadata": {},
   "outputs": [
    {
     "name": "stdout",
     "output_type": "stream",
     "text": [
      "2018-12-31 00:00:00\n"
     ]
    }
   ],
   "source": [
    "dt = datetime.strptime('2018-12-31', '%Y-%m-%d') \n",
    "print(dt)"
   ]
  },
  {
   "cell_type": "markdown",
   "metadata": {},
   "source": [
    "You can use `replace()` to edit a datetime object:"
   ]
  },
  {
   "cell_type": "code",
   "execution_count": 45,
   "metadata": {},
   "outputs": [
    {
     "name": "stdout",
     "output_type": "stream",
     "text": [
      "2018-12-31 15:30:45\n"
     ]
    }
   ],
   "source": [
    "dt2 = dt.replace(hour=15, minute=30, second=45)\n",
    "print(dt2)"
   ]
  },
  {
   "cell_type": "markdown",
   "metadata": {},
   "source": [
    "You can also perform arithmetic operaitons on datetime objects:"
   ]
  },
  {
   "cell_type": "code",
   "execution_count": 46,
   "metadata": {},
   "outputs": [
    {
     "name": "stdout",
     "output_type": "stream",
     "text": [
      "2000-01-01 12:00:00\n",
      "2001-01-01 13:30:30\n"
     ]
    }
   ],
   "source": [
    "dt1 = datetime(2000, 1, 1, 12, 0, 0)\n",
    "print(dt1)\n",
    "\n",
    "dt2 = datetime(2001, 1, 1, 13, 30, 30)\n",
    "print(dt2)"
   ]
  },
  {
   "cell_type": "code",
   "execution_count": 47,
   "metadata": {},
   "outputs": [
    {
     "name": "stdout",
     "output_type": "stream",
     "text": [
      "<class 'datetime.timedelta'>\n",
      "366 days, 1:30:30\n",
      "2001-01-01 13:30:30\n"
     ]
    }
   ],
   "source": [
    "time_delta = dt2 - dt1\n",
    "\n",
    "print(type(time_delta))\n",
    "print(time_delta)\n",
    "print(dt1 + time_delta)"
   ]
  },
  {
   "cell_type": "markdown",
   "metadata": {},
   "source": [
    "## Handling Exceptions"
   ]
  },
  {
   "cell_type": "markdown",
   "metadata": {},
   "source": [
    "Handling exceptions is only a fancy name for handling **code errors**.\n",
    "\n",
    "In Python, many functions only work on certain type of input.\n",
    "For example, the float function returns a value error when you feed it with a string."
   ]
  },
  {
   "cell_type": "code",
   "execution_count": 48,
   "metadata": {},
   "outputs": [
    {
     "name": "stdout",
     "output_type": "stream",
     "text": [
      "123.0\n"
     ]
    }
   ],
   "source": [
    "print(float('123'))\n",
    "#print(float('one two three'))  # This will return a ValueError.\n",
    "#print(float((9,8)))  # This will return a TypeError."
   ]
  },
  {
   "cell_type": "markdown",
   "metadata": {},
   "source": [
    "Suppose that we want the float function to return the input value.\n",
    "We can do this using **try / except** handlers:"
   ]
  },
  {
   "cell_type": "code",
   "execution_count": 49,
   "metadata": {},
   "outputs": [
    {
     "name": "stdout",
     "output_type": "stream",
     "text": [
      "123.0\n",
      "one two three\n"
     ]
    }
   ],
   "source": [
    "def return_float(x):\n",
    "    try:\n",
    "        return float(x)\n",
    "    except:\n",
    "        return x\n",
    "\n",
    "print(return_float('123'))\n",
    "print(return_float('one two three'))  # This time it won't return a ValueError."
   ]
  },
  {
   "cell_type": "markdown",
   "metadata": {},
   "source": [
    "Value and Type errors are defined as **exception** values."
   ]
  },
  {
   "cell_type": "code",
   "execution_count": 50,
   "metadata": {},
   "outputs": [
    {
     "name": "stdout",
     "output_type": "stream",
     "text": [
      "could not convert string to float: 'one two three'\n",
      "one two three\n",
      "float() argument must be a string or a number, not 'tuple'\n",
      "(9, 8)\n"
     ]
    }
   ],
   "source": [
    "def return_float(x):\n",
    "    try:\n",
    "        return float(x)\n",
    "    except(ValueError, TypeError) as exception:\n",
    "        print(exception)\n",
    "        return x\n",
    "\n",
    "print(return_float('one two three'))\n",
    "print(return_float((9,8)))"
   ]
  },
  {
   "cell_type": "markdown",
   "metadata": {},
   "source": [
    "## Functions"
   ]
  },
  {
   "cell_type": "markdown",
   "metadata": {},
   "source": [
    "Functions can take none or multiple arguments, and return none or multiple values."
   ]
  },
  {
   "cell_type": "code",
   "execution_count": 51,
   "metadata": {},
   "outputs": [
    {
     "name": "stdout",
     "output_type": "stream",
     "text": [
      "(22, 44, 66)\n"
     ]
    }
   ],
   "source": [
    "def f(n):\n",
    "    x = 11 * n\n",
    "    y = 22 * n\n",
    "    z = 33 * n\n",
    "    return x, y, z\n",
    "\n",
    "print(f(2))"
   ]
  },
  {
   "cell_type": "markdown",
   "metadata": {},
   "source": [
    "**Closure functions** are dynamically-generated functions returned by another function.\n",
    "Their main property, is that the returned function has access to the variables in the namespace where it was created.\n",
    "In layman's terms, a closure function is a function within main function."
   ]
  },
  {
   "cell_type": "code",
   "execution_count": 52,
   "metadata": {},
   "outputs": [
    {
     "name": "stdout",
     "output_type": "stream",
     "text": [
      "[False, False, True, True, False, False]\n"
     ]
    }
   ],
   "source": [
    "# Return True if an element is repeated in a list:\n",
    "def parent_function():\n",
    "    \n",
    "    new_dict = {}\n",
    "    def existing_element(element):\n",
    "        if element in new_dict:\n",
    "            return True\n",
    "        else:\n",
    "            new_dict[element] = True\n",
    "            return False\n",
    "        \n",
    "    return existing_element\n",
    "\n",
    "f = parent_function()\n",
    "numbers = [1, 2, 1, 2, 3, 4]\n",
    "existing = [f(n) for n in numbers]\n",
    "\n",
    "print(existing)"
   ]
  },
  {
   "cell_type": "markdown",
   "metadata": {},
   "source": [
    "### Generator expressions"
   ]
  },
  {
   "cell_type": "markdown",
   "metadata": {},
   "source": [
    "When using generator functions, use yield instead of return."
   ]
  },
  {
   "cell_type": "code",
   "execution_count": 53,
   "metadata": {},
   "outputs": [
    {
     "name": "stdout",
     "output_type": "stream",
     "text": [
      "<generator object generator at 0x1103a9f68>\n",
      "[0, 1, 4, 9, 16]\n",
      "<generator object <genexpr> at 0x1103d7b48>\n",
      "[0, 1, 4, 9, 16]\n",
      "{0: 0.0, 1: 1.0, 4: 2.0, 9: 3.0, 16: 4.0}\n"
     ]
    }
   ],
   "source": [
    "def generator():\n",
    "    for i in range(5):\n",
    "        yield i**2\n",
    "\n",
    "gen_object = generator()\n",
    "print(gen_object)\n",
    "print(list(gen_object))\n",
    "\n",
    "# The same function can be written as follows:\n",
    "gen_object = (x**2 for x in range(5))\n",
    "print(gen_object)\n",
    "print(list(gen_object))\n",
    "\n",
    "# Generator expressions can be used inside other functions:\n",
    "d = dict((x, x**0.5) for x in generator())\n",
    "print(d)"
   ]
  },
  {
   "cell_type": "markdown",
   "metadata": {},
   "source": [
    "## Cleaning data"
   ]
  },
  {
   "cell_type": "markdown",
   "metadata": {},
   "source": [
    "Real-world data is messy.\n",
    "Often, the most time consuming part of data analysis is to clean the data set to make it ready for analysis."
   ]
  },
  {
   "cell_type": "markdown",
   "metadata": {},
   "source": [
    "First we define a list of strings that contain unnecessary punctuation, capilitalization and white space.\n",
    "Then, we import a python module called [regular expression](https://docs.python.org/2/library/re.html) and use `re.sub` to remove the characters that we don't want.\n",
    "Afterwards, we create a list of functions: to clean the data:\n",
    "remove_characters,\n",
    "[`str.strip`](http://www.tutorialspoint.com/python/string_strip.htm) and\n",
    "[`str.title`](http://www.tutorialspoint.com/python/string_title.htm)."
   ]
  },
  {
   "cell_type": "code",
   "execution_count": 54,
   "metadata": {},
   "outputs": [],
   "source": [
    "import re\n",
    "\n",
    "data = ['     Green', 'RED!', 'yellow  ', 'Pink', \n",
    "        'blue', 'Light  Brown##', 'dark purple?']\n",
    "\n",
    "# Regular expresion function:\n",
    "def remove_characters(string): \n",
    "    return re.sub('[!#?]', '', string) \n",
    "\n",
    "# Create a list of functions:\n",
    "cleaners = [remove_characters, str.strip, str.title]"
   ]
  },
  {
   "cell_type": "markdown",
   "metadata": {},
   "source": [
    "Now we create one last function to apply all the cleaner functions to each element in the data:"
   ]
  },
  {
   "cell_type": "code",
   "execution_count": 55,
   "metadata": {},
   "outputs": [
    {
     "name": "stdout",
     "output_type": "stream",
     "text": [
      "['Green', 'Red', 'Yellow', 'Pink', 'Blue', 'Light  Brown', 'Dark Purple']\n"
     ]
    }
   ],
   "source": [
    "def clean_data(data, cleaners):      # The function takes two arguments\n",
    "    clean = []                       # Create a empty list\n",
    "    for datum in data:               # Loop over the data elements\n",
    "        for function in cleaners:    # Loop over the list of functions\n",
    "            datum = function(datum)  # Apply each function to the elements\n",
    "        clean.append(datum)          # Store the cleaned elements in a new list\n",
    "    return clean                     # Return the clean list \n",
    "    \n",
    "clean = clean_data(data, cleaners)\n",
    "print(clean)"
   ]
  },
  {
   "cell_type": "markdown",
   "metadata": {},
   "source": [
    "**Lambda** functions are a short form of writing a function."
   ]
  },
  {
   "cell_type": "code",
   "execution_count": 56,
   "metadata": {},
   "outputs": [
    {
     "name": "stdout",
     "output_type": "stream",
     "text": [
      "25\n",
      "25\n"
     ]
    }
   ],
   "source": [
    "def f(x):\n",
    "    return x**2\n",
    "print(f(5))\n",
    "\n",
    "# Now the same function using lambda:\n",
    "lambda_f = lambda x: x**2 \n",
    "print(lambda_f(5))"
   ]
  },
  {
   "cell_type": "code",
   "execution_count": null,
   "metadata": {},
   "outputs": [],
   "source": []
  }
 ],
 "metadata": {
  "kernelspec": {
   "display_name": "Python 3",
   "language": "python",
   "name": "python3"
  },
  "language_info": {
   "codemirror_mode": {
    "name": "ipython",
    "version": 3
   },
   "file_extension": ".py",
   "mimetype": "text/x-python",
   "name": "python",
   "nbconvert_exporter": "python",
   "pygments_lexer": "ipython3",
   "version": "3.6.5"
  }
 },
 "nbformat": 4,
 "nbformat_minor": 1
}
