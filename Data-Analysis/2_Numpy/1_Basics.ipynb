{
 "cells": [
  {
   "cell_type": "markdown",
   "metadata": {},
   "source": [
    "# Numpy - Basics\n",
    "\n",
    "This tutorial is based on the open-source [notebooks](https://github.com/manujeevanprakash/Python-and-Numpy-Basics) of Manu Jeevan Prakash.\n"
   ]
  },
  {
   "cell_type": "markdown",
   "metadata": {},
   "source": [
    "### Numerical Arrays"
   ]
  },
  {
   "cell_type": "markdown",
   "metadata": {},
   "source": [
    "Numerical arrays allow you to perform mathematical operations on large amounts of data.\n",
    "\n",
    "[Numpy](https://www.scipy.org/install.html) is the fundamental package for scientific computing with Python, as it is an efficient multi-dimensional container of generic data.\n",
    "\n",
    "We can create an array with the `array()` function."
   ]
  },
  {
   "cell_type": "code",
   "execution_count": 1,
   "metadata": {},
   "outputs": [
    {
     "name": "stdout",
     "output_type": "stream",
     "text": [
      "[0, 56.34, 76, 89, 0.75]\n",
      "<class 'list'>\n",
      "[ 0.   56.34 76.   89.    0.75]\n",
      "<class 'numpy.ndarray'>\n",
      "float64\n"
     ]
    }
   ],
   "source": [
    "import numpy as np\n",
    "\n",
    "numbers_list = [-0, 56.34, 76, 89, 3/4]  # First create a list of values.\n",
    "print(numbers_list)\n",
    "print(type(numbers_list))  # type() returns the data type of any python object\n",
    "\n",
    "numbers_array = np.array(numbers_list)  # Then convert it into an array.\n",
    "print(numbers_array)\n",
    "print(type(numbers_array))\n",
    "print(numbers_array.dtype)  # .dtype returns the data type of the array object"
   ]
  },
  {
   "cell_type": "markdown",
   "metadata": {},
   "source": [
    "Nested lists, of equal length, are converted into a multidimensional array."
   ]
  },
  {
   "cell_type": "code",
   "execution_count": 2,
   "metadata": {},
   "outputs": [
    {
     "name": "stdout",
     "output_type": "stream",
     "text": [
      "[[34, 56, 23, 89], [11, 45, 76, 34]]\n",
      "[[34 56 23 89]\n",
      " [11 45 76 34]]\n",
      "2\n",
      "(2, 4)\n",
      "int64\n"
     ]
    }
   ],
   "source": [
    "a1 = [[34, 56, 23, 89], [11, 45, 76, 34]]\n",
    "print(a1)\n",
    "\n",
    "a2 = np.array(a1)\n",
    "print(a2)\n",
    "\n",
    "print(a2.ndim)  # .ndim() returns the dimensions of an array.\n",
    "print(a2.shape)  # For 2D arrays, the indices indicate (number of rows, number of columns).\n",
    "print(a2.dtype)"
   ]
  },
  {
   "cell_type": "markdown",
   "metadata": {},
   "source": [
    "The functions `zeros()` and `ones()` return arrays of zeros and ones."
   ]
  },
  {
   "cell_type": "code",
   "execution_count": 3,
   "metadata": {},
   "outputs": [
    {
     "name": "stdout",
     "output_type": "stream",
     "text": [
      "[0. 0. 0. 0. 0. 0. 0. 0. 0. 0.]\n",
      "[1. 1. 1. 1. 1. 1. 1. 1. 1. 1.]\n"
     ]
    }
   ],
   "source": [
    "z = np.zeros(10)\n",
    "print(z)\n",
    "\n",
    "o = np.ones(10)\n",
    "print(o)"
   ]
  },
  {
   "cell_type": "markdown",
   "metadata": {},
   "source": [
    "You can also specify the shape of the array with a tuple `(rows, columns)`."
   ]
  },
  {
   "cell_type": "code",
   "execution_count": 4,
   "metadata": {},
   "outputs": [
    {
     "data": {
      "text/plain": [
       "array([[0., 0., 0.],\n",
       "       [0., 0., 0.],\n",
       "       [0., 0., 0.],\n",
       "       [0., 0., 0.]])"
      ]
     },
     "execution_count": 4,
     "metadata": {},
     "output_type": "execute_result"
    }
   ],
   "source": [
    "np.zeros((4, 3))"
   ]
  },
  {
   "cell_type": "markdown",
   "metadata": {},
   "source": [
    "Numpy also has an `arange()` method."
   ]
  },
  {
   "cell_type": "code",
   "execution_count": 5,
   "metadata": {},
   "outputs": [
    {
     "data": {
      "text/plain": [
       "array([ 0,  1,  2,  3,  4,  5,  6,  7,  8,  9, 10, 11, 12, 13, 14])"
      ]
     },
     "execution_count": 5,
     "metadata": {},
     "output_type": "execute_result"
    }
   ],
   "source": [
    "np.arange(15)"
   ]
  },
  {
   "cell_type": "markdown",
   "metadata": {},
   "source": [
    "`eye()` creates a square (NxN) identity matrix, with 1’s on the diagonal and 0’s elsewhere."
   ]
  },
  {
   "cell_type": "code",
   "execution_count": 6,
   "metadata": {},
   "outputs": [
    {
     "data": {
      "text/plain": [
       "array([[1., 0., 0.],\n",
       "       [0., 1., 0.],\n",
       "       [0., 0., 1.]])"
      ]
     },
     "execution_count": 6,
     "metadata": {},
     "output_type": "execute_result"
    }
   ],
   "source": [
    "np.eye(3)"
   ]
  },
  {
   "cell_type": "markdown",
   "metadata": {},
   "source": [
    "**Batch** operations can be performed on data without using for loops.\n",
    "\n",
    "This is called vectorization and it is computationally **more efficient** that processing the data with loops."
   ]
  },
  {
   "cell_type": "code",
   "execution_count": 7,
   "metadata": {},
   "outputs": [
    {
     "name": "stdout",
     "output_type": "stream",
     "text": [
      "[0.  1.5 2.  3.  0.5]\n",
      "[0. 3. 4. 6. 1.]\n",
      "[0. 0. 0. 0. 0.]\n",
      "[0.   2.25 4.   9.   0.25]\n",
      "[       inf 0.66666667 0.5        0.33333333 2.        ]\n",
      "[0.         1.22474487 1.41421356 1.73205081 0.70710678]\n"
     ]
    },
    {
     "name": "stderr",
     "output_type": "stream",
     "text": [
      "/usr/local/lib/python3.6/site-packages/ipykernel_launcher.py:8: RuntimeWarning: divide by zero encountered in true_divide\n",
      "  \n"
     ]
    }
   ],
   "source": [
    "l1 = [0, 1.5, 2, 3, 1/2]\n",
    "a1 = np.array(l1)\n",
    "\n",
    "print(a1)\n",
    "print(a1 + a1)\n",
    "print(a1 - a1)\n",
    "print(a1 * a1)\n",
    "print(1 / a1)\n",
    "print(a1 ** 0.5)"
   ]
  },
  {
   "cell_type": "markdown",
   "metadata": {},
   "source": [
    "### Indexing and Slicing"
   ]
  },
  {
   "cell_type": "markdown",
   "metadata": {},
   "source": [
    "We can select a subset of our data with indices or with a range of values:\n"
   ]
  },
  {
   "cell_type": "code",
   "execution_count": 8,
   "metadata": {},
   "outputs": [
    {
     "name": "stdout",
     "output_type": "stream",
     "text": [
      "[0 1 2 3 4 5 6 7 8 9]\n",
      "5\n",
      "[4 5 6 7 8]\n",
      "[ 0  1  2  3 88 88 88 88 88  9]\n"
     ]
    }
   ],
   "source": [
    "# Retrieve values:\n",
    "a1 = np.arange(10)\n",
    "print(a1)\n",
    "print(a1[5])\n",
    "print(a1[4:9])\n",
    "\n",
    "# Assign values:\n",
    "a1[4:9] = 88\n",
    "print(a1)"
   ]
  },
  {
   "cell_type": "markdown",
   "metadata": {},
   "source": [
    "* **List slices** return a **copy** of the source array.\n",
    "* **Array slices** return a **pointer** to the source array.\n",
    "\n",
    "In English, this means that any modifications to the source array or to the sliced array will affect both of them. "
   ]
  },
  {
   "cell_type": "code",
   "execution_count": 9,
   "metadata": {},
   "outputs": [
    {
     "name": "stdout",
     "output_type": "stream",
     "text": [
      "[ 88  88 111  88  88]\n",
      "[  0   1   2   3  88  88 111  88  88   9]\n"
     ]
    }
   ],
   "source": [
    "a2 = a1[4:9]\n",
    "a2[2] = 111\n",
    "print(a2)\n",
    "\n",
    "# You can see the changes are refelected in the source array:\n",
    "print(a1)"
   ]
  },
  {
   "cell_type": "code",
   "execution_count": 10,
   "metadata": {},
   "outputs": [
    {
     "name": "stdout",
     "output_type": "stream",
     "text": [
      "[88, 88, 111, 88, 88]\n",
      "[0, 1, 2, 3, 88, 88, 88, 88, 88, 9]\n"
     ]
    }
   ],
   "source": [
    "# Compare the same procedure with lists:\n",
    "a1 = list(range(10))\n",
    "a1[4:9] = 88, 88, 88, 88, 88  # Assignments must be of the same size as the slice. Not efficient!\n",
    "a2 = a1[4:9]\n",
    "a2[2] = 111\n",
    "print(a2)\n",
    "\n",
    "# The changes are NOT refelected in the source list:\n",
    "print(a1)"
   ]
  },
  {
   "cell_type": "markdown",
   "metadata": {},
   "source": [
    "There is a method to create copies of a source arrays, though: `copy()`."
   ]
  },
  {
   "cell_type": "code",
   "execution_count": 11,
   "metadata": {},
   "outputs": [
    {
     "name": "stdout",
     "output_type": "stream",
     "text": [
      "[ 88  88 111  88  88]\n",
      "[ 0  1  2  3 88 88 88 88 88  9]\n"
     ]
    }
   ],
   "source": [
    "# Repeat the same procedure with arrays:\n",
    "a1 = np.arange(10)\n",
    "a1[4:9] = 88\n",
    "a2 = a1[4:9].copy()\n",
    "a2[2] = 111\n",
    "print(a2)\n",
    "\n",
    "# The changes are NOT refelected in the source array:\n",
    "print(a1)"
   ]
  },
  {
   "cell_type": "markdown",
   "metadata": {},
   "source": [
    "**2-D arrays** represent **matrices**."
   ]
  },
  {
   "cell_type": "code",
   "execution_count": 12,
   "metadata": {},
   "outputs": [
    {
     "name": "stdout",
     "output_type": "stream",
     "text": [
      "[[1 2 3]\n",
      " [4 5 6]\n",
      " [7 8 9]]\n"
     ]
    }
   ],
   "source": [
    "matrix = np.array([[1, 2, 3], [4, 5, 6], [7, 8, 9]])\n",
    "print(matrix)"
   ]
  },
  {
   "cell_type": "markdown",
   "metadata": {},
   "source": [
    "**Side note:** To display an image, you can use the module `Image` from the IPython library."
   ]
  },
  {
   "cell_type": "code",
   "execution_count": 13,
   "metadata": {},
   "outputs": [],
   "source": [
    "from IPython.display import Image"
   ]
  },
  {
   "cell_type": "markdown",
   "metadata": {},
   "source": [
    "Then just call the function `Image()` with the argument `filename` defined by a string indicating the **absolute** path to the image file."
   ]
  },
  {
   "cell_type": "markdown",
   "metadata": {},
   "source": [
    "**Indexing** of a matrix:"
   ]
  },
  {
   "cell_type": "code",
   "execution_count": 14,
   "metadata": {},
   "outputs": [
    {
     "data": {
      "image/png": "[encoded data removed]",
      "text/plain": [
       "<IPython.core.display.Image object>"
      ]
     },
     "execution_count": 14,
     "metadata": {},
     "output_type": "execute_result"
    }
   ],
   "source": [
    "Image(filename='indices.png')"
   ]
  },
  {
   "cell_type": "code",
   "execution_count": 15,
   "metadata": {},
   "outputs": [
    {
     "name": "stdout",
     "output_type": "stream",
     "text": [
      "[4 5 6]\n",
      "[4 5 6]\n",
      "3\n",
      "3\n"
     ]
    }
   ],
   "source": [
    "# Check the different forms of indexing:\n",
    "print(matrix[1])\n",
    "print(matrix[1][:])\n",
    "\n",
    "print(matrix[0][2])  # First row and third column.\n",
    "print(matrix[0, 2])  # This is same as the above operation."
   ]
  },
  {
   "cell_type": "markdown",
   "metadata": {},
   "source": [
    "**Slicing** of a matrix:"
   ]
  },
  {
   "cell_type": "code",
   "execution_count": 16,
   "metadata": {},
   "outputs": [
    {
     "data": {
      "image/png": "[encoded data removed]",
      "text/plain": [
       "<IPython.core.display.Image object>"
      ]
     },
     "execution_count": 16,
     "metadata": {},
     "output_type": "execute_result"
    }
   ],
   "source": [
    "Image(filename='slicing.png')"
   ]
  },
  {
   "cell_type": "code",
   "execution_count": 17,
   "metadata": {},
   "outputs": [
    {
     "name": "stdout",
     "output_type": "stream",
     "text": [
      "The original matrix:\n",
      "[[11 12 13]\n",
      " [21 22 23]\n",
      " [31 32 33]]\n",
      "\n",
      "[:2, 1:] slices the first two rows and the last two columns:\n",
      "[[12 13]\n",
      " [22 23]]\n",
      "\n",
      "[:, 2] slices last column:\n",
      "[13 23 33]\n",
      "\n",
      "[2] or [2, :] slices the last row as a 1D array:\n",
      "[31 32 33]\n",
      "\n",
      "[2:, :] slices the last row as a 2D array:\n",
      "[[31 32 33]]\n",
      "\n",
      "[1, :2] slices the second row and the first two columns as a 1D array:\n",
      "[21 22]\n",
      "\n",
      "[1:2, :2] slices the second row and the first two columns as a 2D array:\n",
      "[[21 22]]\n"
     ]
    }
   ],
   "source": [
    "matrix = np.array([[11, 12, 13], [21, 22, 23], [31, 32, 33]])\n",
    "\n",
    "print(\"The original matrix:\\n{}\".format(matrix))\n",
    "\n",
    "print(\"\\n[:2, 1:] slices the first two rows and the last two columns:\\n{}\".format(matrix[:2, 1:]))\n",
    "print(\"\\n[:, 2] slices last column:\\n{}\".format(matrix[:, 2]))  # A colon by itself takes the entire axis.\n",
    "print(\"\\n[2] or [2, :] slices the last row as a 1D array:\\n{}\".format(matrix[2]))\n",
    "print(\"\\n[2:, :] slices the last row as a 2D array:\\n{}\".format(matrix[2:, :]))\n",
    "print(\"\\n[1, :2] slices the second row and the first two columns as a 1D array:\\n{}\".format(matrix[1, :2]))\n",
    "print(\"\\n[1:2, :2] slices the second row and the first two columns as a 2D array:\\n{}\".format(matrix[1:2, :2]))"
   ]
  },
  {
   "cell_type": "markdown",
   "metadata": {},
   "source": [
    "More generally, **N-D arrays** represent n-dimensional tensors."
   ]
  },
  {
   "cell_type": "code",
   "execution_count": 18,
   "metadata": {},
   "outputs": [
    {
     "name": "stdout",
     "output_type": "stream",
     "text": [
      "[[[ 1  2  3]\n",
      "  [ 4  5  6]]\n",
      "\n",
      " [[ 7  8  9]\n",
      "  [10 11 12]]]\n"
     ]
    }
   ],
   "source": [
    "# This is a 3-D array:\n",
    "array_3d = np.array([[[1, 2, 3], [4, 5, 6]], [[7, 8, 9], [10, 11, 12]]])\n",
    "\n",
    "print(array_3d)"
   ]
  },
  {
   "cell_type": "markdown",
   "metadata": {},
   "source": [
    "As you add indices, the returned object will be an array consisting of the values in the higher dimensions."
   ]
  },
  {
   "cell_type": "code",
   "execution_count": 19,
   "metadata": {},
   "outputs": [
    {
     "name": "stdout",
     "output_type": "stream",
     "text": [
      "[[1 2 3]\n",
      " [4 5 6]]\n",
      "[4 5 6]\n"
     ]
    }
   ],
   "source": [
    "print(array_3d[0])\n",
    "print(array_3d[0, 1])"
   ]
  },
  {
   "cell_type": "markdown",
   "metadata": {},
   "source": [
    "**Boolean masks** can be used for indexing as well."
   ]
  },
  {
   "cell_type": "code",
   "execution_count": 20,
   "metadata": {},
   "outputs": [
    {
     "name": "stdout",
     "output_type": "stream",
     "text": [
      "['Tacos' 'Pizza' 'Curry Wurst' 'Tacos' 'Döner Kebab' 'Pizza' 'Pizza']\n",
      "[False  True False False False  True  True]\n",
      "['Pizza' 'Pizza' 'Pizza']\n"
     ]
    }
   ],
   "source": [
    "fast_food = np.array(['Tacos', 'Pizza', 'Curry Wurst', 'Tacos', 'Döner Kebab', 'Pizza', 'Pizza'])\n",
    "pizza_mask = fast_food == 'Pizza'\n",
    "\n",
    "print(fast_food)\n",
    "print(pizza_mask)\n",
    "print(fast_food[pizza_mask])"
   ]
  },
  {
   "cell_type": "markdown",
   "metadata": {},
   "source": [
    "Now let's see the module `random` from `numpy`."
   ]
  },
  {
   "cell_type": "code",
   "execution_count": 21,
   "metadata": {},
   "outputs": [
    {
     "data": {
      "image/png": "[encoded data removed]",
      "text/plain": [
       "<IPython.core.display.Image object>"
      ]
     },
     "execution_count": 21,
     "metadata": {},
     "output_type": "execute_result"
    }
   ],
   "source": [
    "# Example of a random matrix with the filter tacos_mask:\n",
    "Image(filename='random_matrix.png')"
   ]
  },
  {
   "cell_type": "code",
   "execution_count": 22,
   "metadata": {},
   "outputs": [
    {
     "name": "stdout",
     "output_type": "stream",
     "text": [
      "[[ 1.61292642  0.01033228  1.19173223  0.98812091]\n",
      " [ 0.07953592 -1.34973806  0.70466319 -0.61043313]\n",
      " [-1.12479469 -1.10919866  0.1004165  -0.52662871]\n",
      " [-1.01734365 -0.29602764 -2.3669073  -0.28683261]\n",
      " [-1.21465229 -2.05640362 -1.71265791  0.34091639]\n",
      " [-0.84776929  0.99749072 -1.26452742 -0.179494  ]\n",
      " [-0.75139363  0.56771564 -1.12016457  0.12371503]] \n",
      "\n",
      "[ True False False  True False False False] \n",
      "\n",
      "[[ 1.61292642  0.01033228  1.19173223  0.98812091]\n",
      " [-1.01734365 -0.29602764 -2.3669073  -0.28683261]] \n",
      "\n"
     ]
    }
   ],
   "source": [
    "from numpy import random\n",
    "\n",
    "random_matrix = random.randn(7, 4)  # Returns a random matrix.\n",
    "print(random_matrix, '\\n')\n",
    "\n",
    "tacos_mask = fast_food == 'Tacos'\n",
    "print(tacos_mask, '\\n')\n",
    "\n",
    "print(random_matrix[tacos_mask], '\\n')"
   ]
  },
  {
   "cell_type": "code",
   "execution_count": 23,
   "metadata": {},
   "outputs": [
    {
     "name": "stdout",
     "output_type": "stream",
     "text": [
      "[False False  True False False False False]\n",
      "[[-1.12479469 -1.10919866  0.1004165  -0.52662871]]\n"
     ]
    }
   ],
   "source": [
    "wurst_mask = fast_food == 'Curry Wurst'\n",
    "print(wurst_mask)\n",
    "\n",
    "print(random_matrix[wurst_mask, :])"
   ]
  },
  {
   "cell_type": "markdown",
   "metadata": {},
   "source": [
    "To select everything except 'Curry Wurst', you can use `!=` or negate the condition using `~`."
   ]
  },
  {
   "cell_type": "code",
   "execution_count": 24,
   "metadata": {},
   "outputs": [
    {
     "name": "stdout",
     "output_type": "stream",
     "text": [
      "[ True  True False  True  True  True  True]\n",
      "[ True  True False  True  True  True  True]\n",
      "[[ 1.61292642  0.01033228  1.19173223  0.98812091]\n",
      " [ 0.07953592 -1.34973806  0.70466319 -0.61043313]\n",
      " [-1.01734365 -0.29602764 -2.3669073  -0.28683261]\n",
      " [-1.21465229 -2.05640362 -1.71265791  0.34091639]\n",
      " [-0.84776929  0.99749072 -1.26452742 -0.179494  ]\n",
      " [-0.75139363  0.56771564 -1.12016457  0.12371503]]\n"
     ]
    }
   ],
   "source": [
    "not_wurst_mask = fast_food != 'Curry Wurst'\n",
    "print(not_wurst_mask)\n",
    "\n",
    "not_wurst_mask = ~wurst_mask\n",
    "print(not_wurst_mask)\n",
    "\n",
    "print(random_matrix[not_wurst_mask, :])"
   ]
  },
  {
   "cell_type": "markdown",
   "metadata": {},
   "source": [
    "You can combine masks with **boolean operators**:\n",
    "* `&` corresponds to `and`.\n",
    "* `|` corresponds to `or`."
   ]
  },
  {
   "cell_type": "code",
   "execution_count": 25,
   "metadata": {},
   "outputs": [
    {
     "name": "stdout",
     "output_type": "stream",
     "text": [
      "[False False  True False  True False False]\n"
     ]
    },
    {
     "data": {
      "text/plain": [
       "array([[-1.12479469, -1.10919866,  0.1004165 , -0.52662871],\n",
       "       [-1.21465229, -2.05640362, -1.71265791,  0.34091639]])"
      ]
     },
     "execution_count": 25,
     "metadata": {},
     "output_type": "execute_result"
    }
   ],
   "source": [
    "combined_mask = (fast_food == 'Curry Wurst') | (fast_food == 'Döner Kebab')\n",
    "print(combined_mask)\n",
    "\n",
    "random_matrix[combined_mask] "
   ]
  },
  {
   "cell_type": "markdown",
   "metadata": {},
   "source": [
    "You can also perform addition (`+`) and multiplication (`*`)."
   ]
  },
  {
   "cell_type": "code",
   "execution_count": 26,
   "metadata": {},
   "outputs": [
    {
     "name": "stdout",
     "output_type": "stream",
     "text": [
      " curry_mask:\t\t [False False  True False False False False]\n",
      "\n",
      " doner_mask:\t\t [False False False False  True False False]\n",
      "\n",
      " Addition mask:\t\t [False False  True False  True False False]\n",
      "\n",
      " Multiplication mask:\t [False False False False False False False]\n"
     ]
    }
   ],
   "source": [
    "curry_mask = fast_food == 'Curry Wurst'\n",
    "print(' curry_mask:\\t\\t', curry_mask)\n",
    "\n",
    "doner_mask = fast_food == 'Döner Kebab'\n",
    "print('\\n doner_mask:\\t\\t',doner_mask)\n",
    "\n",
    "combined_mask = curry_mask + doner_mask\n",
    "print('\\n Addition mask:\\t\\t',combined_mask)\n",
    "\n",
    "combined_mask = curry_mask * doner_mask\n",
    "print('\\n Multiplication mask:\\t',combined_mask)"
   ]
  },
  {
   "cell_type": "markdown",
   "metadata": {},
   "source": [
    "Now we can use the masks to change values in our matrix."
   ]
  },
  {
   "cell_type": "code",
   "execution_count": 27,
   "metadata": {},
   "outputs": [
    {
     "name": "stdout",
     "output_type": "stream",
     "text": [
      "[[1.61292642e+00 1.03322781e-02 1.19173223e+00 9.88120910e-01]\n",
      " [7.95359157e-02 0.00000000e+00 7.04663188e-01 0.00000000e+00]\n",
      " [0.00000000e+00 0.00000000e+00 1.00416496e-01 0.00000000e+00]\n",
      " [0.00000000e+00 0.00000000e+00 0.00000000e+00 0.00000000e+00]\n",
      " [8.80000000e+01 8.80000000e+01 8.80000000e+01 8.80000000e+01]\n",
      " [0.00000000e+00 9.97490723e-01 0.00000000e+00 0.00000000e+00]\n",
      " [0.00000000e+00 5.67715638e-01 0.00000000e+00 1.23715027e-01]]\n"
     ]
    }
   ],
   "source": [
    "random_matrix[random_matrix < 0] = 0\n",
    "\n",
    "random_matrix[doner_mask] = 88\n",
    "\n",
    "print(random_matrix)"
   ]
  },
  {
   "cell_type": "markdown",
   "metadata": {},
   "source": [
    "You can also slice arrays using lists of numbers."
   ]
  },
  {
   "cell_type": "code",
   "execution_count": 28,
   "metadata": {},
   "outputs": [
    {
     "name": "stdout",
     "output_type": "stream",
     "text": [
      "[[1. 1. 1. 1.]\n",
      " [1. 1. 1. 1.]\n",
      " [1. 1. 1. 1.]\n",
      " [1. 1. 1. 1.]]\n",
      "[[0. 0. 0. 0.]\n",
      " [1. 1. 1. 1.]\n",
      " [2. 2. 2. 2.]\n",
      " [3. 3. 3. 3.]]\n"
     ]
    }
   ],
   "source": [
    "m = np.ones((4, 4))\n",
    "print(m)\n",
    "\n",
    "for i in range(4):\n",
    "    m[i] = i\n",
    "print(m)"
   ]
  },
  {
   "cell_type": "code",
   "execution_count": 29,
   "metadata": {},
   "outputs": [
    {
     "name": "stdout",
     "output_type": "stream",
     "text": [
      "[[1. 1. 1. 1.]\n",
      " [3. 3. 3. 3.]]\n"
     ]
    }
   ],
   "source": [
    "print(m[[1, 3]])"
   ]
  },
  {
   "cell_type": "markdown",
   "metadata": {},
   "source": [
    "You can `reshape()` a vector into a matrix."
   ]
  },
  {
   "cell_type": "code",
   "execution_count": 30,
   "metadata": {},
   "outputs": [
    {
     "name": "stdout",
     "output_type": "stream",
     "text": [
      "[0 1 2 3 4 5 6 7 8]\n",
      "[[0 1 2]\n",
      " [3 4 5]\n",
      " [6 7 8]]\n"
     ]
    }
   ],
   "source": [
    "v = np.arange(9)\n",
    "print(v)\n",
    "\n",
    "m = v.reshape(3, 3)\n",
    "print(m)"
   ]
  },
  {
   "cell_type": "markdown",
   "metadata": {},
   "source": [
    "And also select elements in the array with a list for each dimension."
   ]
  },
  {
   "cell_type": "code",
   "execution_count": 31,
   "metadata": {},
   "outputs": [
    {
     "name": "stdout",
     "output_type": "stream",
     "text": [
      "[0 4 8]\n"
     ]
    }
   ],
   "source": [
    "indices = [[0, 1, 2], [0, 1, 2]]  # Elements in the diagonal.\n",
    "print(m[indices])"
   ]
  },
  {
   "cell_type": "code",
   "execution_count": 32,
   "metadata": {},
   "outputs": [
    {
     "data": {
      "text/plain": [
       "array([[2, 1, 0],\n",
       "       [8, 7, 6]])"
      ]
     },
     "execution_count": 32,
     "metadata": {},
     "output_type": "execute_result"
    }
   ],
   "source": [
    "# Select first and last rows.\n",
    "# Then flip the order of the columns.\n",
    "m[[0, 2], :][:, [2, 1, 0]]"
   ]
  },
  {
   "cell_type": "markdown",
   "metadata": {},
   "source": [
    "Another way to do the previous operation is with `np.ix_()`."
   ]
  },
  {
   "cell_type": "code",
   "execution_count": 33,
   "metadata": {},
   "outputs": [
    {
     "data": {
      "text/plain": [
       "array([[2, 1, 0],\n",
       "       [8, 7, 6]])"
      ]
     },
     "execution_count": 33,
     "metadata": {},
     "output_type": "execute_result"
    }
   ],
   "source": [
    "m[np.ix_([0, 2],[2, 1, 0])]"
   ]
  },
  {
   "cell_type": "markdown",
   "metadata": {},
   "source": [
    "### Transposing Arrays"
   ]
  },
  {
   "cell_type": "code",
   "execution_count": 34,
   "metadata": {},
   "outputs": [
    {
     "name": "stdout",
     "output_type": "stream",
     "text": [
      "[[1 2 3]\n",
      " [4 5 6]]\n",
      "[[1 4]\n",
      " [2 5]\n",
      " [3 6]]\n"
     ]
    }
   ],
   "source": [
    "m1 = np.arange(6).reshape(2, 3) + 1\n",
    "print(m1)\n",
    "print(m1.T)  # The shape has changed to (3, 2)"
   ]
  },
  {
   "cell_type": "markdown",
   "metadata": {},
   "source": [
    "You can use `np.dot()` function to perform matrix multiplication.\n",
    "For example, you can calculate $X^T.X$ as follows:"
   ]
  },
  {
   "cell_type": "code",
   "execution_count": 35,
   "metadata": {},
   "outputs": [
    {
     "data": {
      "text/plain": [
       "array([[17, 22, 27],\n",
       "       [22, 29, 36],\n",
       "       [27, 36, 45]])"
      ]
     },
     "execution_count": 35,
     "metadata": {},
     "output_type": "execute_result"
    }
   ],
   "source": [
    "np.dot(m1.T, m1)"
   ]
  },
  {
   "cell_type": "markdown",
   "metadata": {},
   "source": [
    "### Universal functions"
   ]
  },
  {
   "cell_type": "markdown",
   "metadata": {},
   "source": [
    "Unary functions perform element-wise operations in arrays."
   ]
  },
  {
   "cell_type": "markdown",
   "metadata": {},
   "source": []
  },
  {
   "cell_type": "code",
   "execution_count": 36,
   "metadata": {},
   "outputs": [
    {
     "name": "stdout",
     "output_type": "stream",
     "text": [
      "[1. 2. 3. 4.]\n",
      "[2.71828183e+00 5.45981500e+01 8.10308393e+03 8.88611052e+06]\n"
     ]
    }
   ],
   "source": [
    "funky = np.array([1, 4, 9, 16])\n",
    "print(np.sqrt(funky))\n",
    "print(np.exp(funky))"
   ]
  },
  {
   "cell_type": "code",
   "execution_count": 37,
   "metadata": {},
   "outputs": [
    {
     "data": {
      "image/png": "[encoded data removed]",
      "text/plain": [
       "<IPython.core.display.Image object>"
      ]
     },
     "execution_count": 37,
     "metadata": {},
     "output_type": "execute_result"
    }
   ],
   "source": [
    "Image(filename='unary_functions.png')"
   ]
  },
  {
   "cell_type": "markdown",
   "metadata": {},
   "source": [
    "Binary functions can take two values or perform internal comparissons."
   ]
  },
  {
   "cell_type": "code",
   "execution_count": 38,
   "metadata": {},
   "outputs": [
    {
     "name": "stdout",
     "output_type": "stream",
     "text": [
      "[-0.6923109   0.56072211 -0.6037941 ]\n",
      "[ 0.54394336 -0.12621548 -2.80996344]\n",
      "[ 0.54394336 -0.12621548 -0.80996344]\n",
      "[ 0. -0. -2.]\n",
      "[ 0.54394336  0.56072211 -0.6037941 ]\n"
     ]
    }
   ],
   "source": [
    "x = random.randn(3)\n",
    "y = random.randn(3)\n",
    "print(x)\n",
    "print(y)\n",
    "\n",
    "# np.modf() returns the fractional and integral parts of floating point values:\n",
    "f, i = np.modf(y)\n",
    "print(f)\n",
    "print(i)\n",
    "\n",
    "print(np.maximum(x, y))  # element wise operation"
   ]
  },
  {
   "cell_type": "code",
   "execution_count": 39,
   "metadata": {},
   "outputs": [
    {
     "data": {
      "image/png": "[encoded data removed]",
      "text/plain": [
       "<IPython.core.display.Image object>"
      ]
     },
     "execution_count": 39,
     "metadata": {},
     "output_type": "execute_result"
    }
   ],
   "source": [
    "Image(filename='binary_functions.png')"
   ]
  },
  {
   "cell_type": "markdown",
   "metadata": {},
   "source": [
    "Logical operations, `>`, `>=`, `<`, `<=`, `==` and `!=` can also be performed."
   ]
  },
  {
   "cell_type": "markdown",
   "metadata": {},
   "source": [
    "### Data processing using Arrays"
   ]
  },
  {
   "cell_type": "markdown",
   "metadata": {},
   "source": [
    "`np.meshgrid()` returns coordinate matrices from coordinate vectors.\n",
    "For example, if it takes two 1D-arrays, then it returns two 2d-arrays."
   ]
  },
  {
   "cell_type": "code",
   "execution_count": 40,
   "metadata": {},
   "outputs": [
    {
     "name": "stdout",
     "output_type": "stream",
     "text": [
      "x:\n",
      "[[-3 -2 -1  0  1  2  3]\n",
      " [-3 -2 -1  0  1  2  3]\n",
      " [-3 -2 -1  0  1  2  3]\n",
      " [-3 -2 -1  0  1  2  3]\n",
      " [-3 -2 -1  0  1  2  3]\n",
      " [-3 -2 -1  0  1  2  3]\n",
      " [-3 -2 -1  0  1  2  3]]\n",
      "y:\n",
      "[[-2 -2 -2 -2 -2 -2 -2]\n",
      " [-1 -1 -1 -1 -1 -1 -1]\n",
      " [ 0  0  0  0  0  0  0]\n",
      " [ 1  1  1  1  1  1  1]\n",
      " [ 2  2  2  2  2  2  2]\n",
      " [ 3  3  3  3  3  3  3]\n",
      " [ 4  4  4  4  4  4  4]]\n",
      "x * y:\n",
      "[[18 16 14 12 10  8  6]\n",
      " [15 14 13 12 11 10  9]\n",
      " [12 12 12 12 12 12 12]\n",
      " [ 9 10 11 12 13 14 15]\n",
      " [ 6  8 10 12 14 16 18]\n",
      " [ 3  6  9 12 15 18 21]\n",
      " [ 0  4  8 12 16 20 24]]\n"
     ]
    }
   ],
   "source": [
    "v1 = np.arange(-3, 4, 1)\n",
    "v2 = np.arange(-3, 4, 1) + 1\n",
    "\n",
    "m1, m2 = np.meshgrid(v1, v2)\n",
    "m3 = m1 * m2\n",
    "\n",
    "print(\"x:\\n{}\".format(m1))\n",
    "print(\"y:\\n{}\".format(m2))\n",
    "print(\"x * y:\\n{}\".format(m3 + 12))"
   ]
  },
  {
   "cell_type": "markdown",
   "metadata": {},
   "source": [
    "**2D** visualization:"
   ]
  },
  {
   "cell_type": "code",
   "execution_count": 41,
   "metadata": {},
   "outputs": [
    {
     "data": {
      "image/png": "[encoded data removed]",
      "text/plain": [
       "<Figure size 288x288 with 1 Axes>"
      ]
     },
     "metadata": {},
     "output_type": "display_data"
    }
   ],
   "source": [
    "%matplotlib inline  \n",
    "import matplotlib.pyplot as plt\n",
    "\n",
    "plt.matshow(m3);"
   ]
  },
  {
   "cell_type": "markdown",
   "metadata": {},
   "source": [
    "**3D** visualization:"
   ]
  },
  {
   "cell_type": "code",
   "execution_count": 42,
   "metadata": {
    "scrolled": true
   },
   "outputs": [
    {
     "data": {
      "image/png": "[encoded data removed]",
      "text/plain": [
       "<Figure size 432x288 with 1 Axes>"
      ]
     },
     "metadata": {},
     "output_type": "display_data"
    }
   ],
   "source": [
    "# This import registers the 3D projection, but is otherwise unused:\n",
    "from mpl_toolkits.mplot3d import Axes3D\n",
    "\n",
    "fig = plt.figure()\n",
    "ax = fig.gca(projection='3d')\n",
    "ax.view_init(10, 10)\n",
    "ax.plot_surface(m1, m2, m3.T);"
   ]
  },
  {
   "cell_type": "markdown",
   "metadata": {},
   "source": [
    "`np.where()` returns values from a pair of lists depending on a given boolean **condition**."
   ]
  },
  {
   "cell_type": "markdown",
   "metadata": {},
   "source": [
    "Take a value from `a` whenever a corresponding boolean value is true, otherwise take a value from `b`."
   ]
  },
  {
   "cell_type": "code",
   "execution_count": 43,
   "metadata": {},
   "outputs": [
    {
     "name": "stdout",
     "output_type": "stream",
     "text": [
      "[(True, 0.0, 1.0), (True, 0.0, 1.0), (True, 0.0, 1.0), (False, 0.0, 1.0), (False, 0.0, 1.0), (False, 0.0, 1.0)]\n",
      "[0. 0. 0. 1. 1. 1.]\n"
     ]
    }
   ],
   "source": [
    "condition = [True, True, True, False, False, False]\n",
    "a = np.zeros(6)\n",
    "b = np.ones(6)\n",
    "\n",
    "cond_a_b = [(x, y, z) for x, y, z in zip(condition, a, b)]\n",
    "print(cond_a_b)\n",
    "print(np.where(condition, a, b))"
   ]
  },
  {
   "cell_type": "markdown",
   "metadata": {},
   "source": [
    "Replace negative values with `-1` and positive values with `1`."
   ]
  },
  {
   "cell_type": "code",
   "execution_count": 44,
   "metadata": {},
   "outputs": [
    {
     "name": "stdout",
     "output_type": "stream",
     "text": [
      "[[-0.20445854 -0.37894217  0.46691393]\n",
      " [-1.23265278 -0.30817055 -0.49731146]\n",
      " [-0.31294796  0.16617651  0.50166033]]\n",
      "[[-1 -1  1]\n",
      " [-1 -1 -1]\n",
      " [-1  1  1]]\n",
      "[[-0.20445854 -0.37894217  1.        ]\n",
      " [-1.23265278 -0.30817055 -0.49731146]\n",
      " [-0.31294796  1.          1.        ]]\n"
     ]
    }
   ],
   "source": [
    "m = np.random.randn(3, 3)\n",
    "print(m)\n",
    "print(np.where(m > 0, 1, -1))\n",
    "print(np.where(m > 0, 1, m))  # Set only the positive values."
   ]
  },
  {
   "cell_type": "markdown",
   "metadata": {},
   "source": [
    "### Statistical methods"
   ]
  },
  {
   "cell_type": "code",
   "execution_count": 45,
   "metadata": {},
   "outputs": [
    {
     "name": "stdout",
     "output_type": "stream",
     "text": [
      "Matrix:\n",
      "[[-2.10187468  2.32716641  0.20340493]\n",
      " [-0.18723947  0.92497321  0.27849974]\n",
      " [-1.68810314 -0.37674625  0.91285541]]\n",
      "\n",
      "Sum: 0.29293617618278633\n",
      "Mean: 0.03254846402030959\n",
      "Mean: 0.03254846402030959\n"
     ]
    }
   ],
   "source": [
    "m = np.random.randn(3, 3)\n",
    "print(\"Matrix:\\n{}\\n\".format(m))\n",
    "\n",
    "print('Sum:', m.sum())  # Calculates the global sum.\n",
    "print('Mean:', m.mean())  # Calculates the global mean.\n",
    "print('Mean:', np.mean(m))  # Alternative method to calculate the global mean."
   ]
  },
  {
   "cell_type": "markdown",
   "metadata": {},
   "source": [
    "Sum using a numpy function `np.sum()`:"
   ]
  },
  {
   "cell_type": "code",
   "execution_count": 46,
   "metadata": {},
   "outputs": [
    {
     "name": "stdout",
     "output_type": "stream",
     "text": [
      "Matrix:\n",
      "[[ 0  1  2]\n",
      " [ 3  4  5]\n",
      " [ 6  7  8]\n",
      " [ 9 10 11]]\n",
      "Sum over rows: [18 22 26]\n",
      "Sum over columns: [ 3 12 21 30]\n"
     ]
    }
   ],
   "source": [
    "m = np.arange(12).reshape(4,3)\n",
    "print(\"Matrix:\\n{}\".format(m))\n",
    "\n",
    "# axis=0 sums over columns and axis=1 sums over rows:\n",
    "print(\"Sum over rows: {}\".format(np.sum(m, axis=0)))\n",
    "print(\"Sum over columns: {}\".format(np.sum(m, axis=1)))"
   ]
  },
  {
   "cell_type": "markdown",
   "metadata": {},
   "source": [
    "Sum using the numpy array method `np.array.sum()`:"
   ]
  },
  {
   "cell_type": "code",
   "execution_count": 47,
   "metadata": {},
   "outputs": [
    {
     "name": "stdout",
     "output_type": "stream",
     "text": [
      "Sum over rows: [18 22 26]\n",
      "Sum over columns: [ 3 12 21 30]\n"
     ]
    }
   ],
   "source": [
    "# axis=0 sums over columns and axis=1 sums over rows:\n",
    "print(\"Sum over rows: {}\".format(m.sum(0)))\n",
    "print(\"Sum over columns: {}\".format(m.sum(1)))"
   ]
  },
  {
   "cell_type": "code",
   "execution_count": 48,
   "metadata": {},
   "outputs": [
    {
     "name": "stdout",
     "output_type": "stream",
     "text": [
      "Matrix:\n",
      "[[ 0  1  2]\n",
      " [ 3  4  5]\n",
      " [ 6  7  8]\n",
      " [ 9 10 11]]\n",
      "Cumulative sum over rows:\n",
      "[[ 0  1  2]\n",
      " [ 3  5  7]\n",
      " [ 9 12 15]\n",
      " [18 22 26]]\n",
      "Cumulative sum over columns:\n",
      "[[ 0  1  3]\n",
      " [ 3  7 12]\n",
      " [ 6 13 21]\n",
      " [ 9 19 30]]\n"
     ]
    }
   ],
   "source": [
    "print(\"Matrix:\\n{}\".format(m))\n",
    "\n",
    "# Cumulative sum:\n",
    "print(\"Cumulative sum over rows:\\n{}\".format(m.cumsum(0)))\n",
    "print(\"Cumulative sum over columns:\\n{}\".format(m.cumsum(1)))"
   ]
  },
  {
   "cell_type": "code",
   "execution_count": 49,
   "metadata": {},
   "outputs": [
    {
     "name": "stdout",
     "output_type": "stream",
     "text": [
      "-23.756963310720103\n",
      "495\n",
      "505\n"
     ]
    }
   ],
   "source": [
    "large_matrix = np.random.randn(1000)\n",
    "\n",
    "print(large_matrix.sum())  # Sum of all values\n",
    "print((large_matrix > 0).sum())  # Sum of all positive values\n",
    "print((large_matrix < 0).sum())  # Sum of all negative values"
   ]
  },
  {
   "cell_type": "markdown",
   "metadata": {},
   "source": [
    "`.any()` and `.all()` methods also work with non-boolean arrays, where non-zero elements evaluate to `True`."
   ]
  },
  {
   "cell_type": "code",
   "execution_count": 50,
   "metadata": {},
   "outputs": [
    {
     "name": "stdout",
     "output_type": "stream",
     "text": [
      "[ True  True  True False False False]\n",
      "True\n",
      "False\n"
     ]
    }
   ],
   "source": [
    "c = np.array([True, True, True, False, False, False])\n",
    "\n",
    "print(c)\n",
    "print(c.any())  # True if any of the values is true.\n",
    "print(c.all())  # False if any of the values is False."
   ]
  },
  {
   "cell_type": "markdown",
   "metadata": {},
   "source": [
    "Other array functions are:\n",
    "\n",
    "* Standard deviation (`np.std()`) and variance (`np.var()`).\n",
    "* Minimum (`np.min()`) and maximum (`np.max()`).\n",
    "* Indices of minimums (`np.argmin()`) and indices of maximums (`np.argmax()`).\n"
   ]
  },
  {
   "cell_type": "markdown",
   "metadata": {},
   "source": [
    "### Sorting"
   ]
  },
  {
   "cell_type": "code",
   "execution_count": 51,
   "metadata": {},
   "outputs": [
    {
     "name": "stdout",
     "output_type": "stream",
     "text": [
      "[18  3 69 91 71 35 27 88 64 89]\n",
      "[ 3 18 27 35 64 69 71 88 89 91]\n"
     ]
    }
   ],
   "source": [
    "v = np.random.randint(0, 100, 10)\n",
    "print(v)\n",
    "\n",
    "v.sort()  # Sort elements in vector.\n",
    "print(v)"
   ]
  },
  {
   "cell_type": "code",
   "execution_count": 52,
   "metadata": {},
   "outputs": [
    {
     "name": "stdout",
     "output_type": "stream",
     "text": [
      "Matrix:\n",
      "[[51 66 79  3 42]\n",
      " [53 90 91 94 49]\n",
      " [18 58 70 40 54]\n",
      " [20 68 99 24 33]\n",
      " [71 98 88 12 36]]\n",
      "Sort over rows:\n",
      "[[18 58 70  3 33]\n",
      " [20 66 79 12 36]\n",
      " [51 68 88 24 42]\n",
      " [53 90 91 40 49]\n",
      " [71 98 99 94 54]]\n",
      "Sort over columns:\n",
      "[[ 3 18 33 58 70]\n",
      " [12 20 36 66 79]\n",
      " [24 42 51 68 88]\n",
      " [40 49 53 90 91]\n",
      " [54 71 94 98 99]]\n"
     ]
    }
   ],
   "source": [
    "v = np.random.randint(0, 100, (5, 5))\n",
    "print(\"Matrix:\\n{}\".format(v))\n",
    "\n",
    "v.sort(0)  # Sort over rows\n",
    "print(\"Sort over rows:\\n{}\".format(v))\n",
    "\n",
    "v.sort(1)  # Sort over columns\n",
    "print(\"Sort over columns:\\n{}\".format(v))"
   ]
  },
  {
   "cell_type": "markdown",
   "metadata": {},
   "source": [
    "`unique()` gets the unique elements in an array."
   ]
  },
  {
   "cell_type": "code",
   "execution_count": 53,
   "metadata": {},
   "outputs": [
    {
     "name": "stdout",
     "output_type": "stream",
     "text": [
      "['Curry Wurst' 'Döner Kebab' 'Pizza' 'Tacos']\n"
     ]
    }
   ],
   "source": [
    "fast_food = np.array(['Tacos', 'Pizza', 'Curry Wurst', 'Tacos', 'Döner Kebab', 'Pizza', 'Pizza'])\n",
    "\n",
    "print(np.unique(fast_food))"
   ]
  },
  {
   "cell_type": "markdown",
   "metadata": {},
   "source": [
    "Remember that `set()` also returns the unique elements in an array."
   ]
  },
  {
   "cell_type": "code",
   "execution_count": 54,
   "metadata": {},
   "outputs": [
    {
     "name": "stdout",
     "output_type": "stream",
     "text": [
      "{'Pizza', 'Döner Kebab', 'Curry Wurst', 'Tacos'}\n"
     ]
    }
   ],
   "source": [
    "print(set(fast_food))"
   ]
  },
  {
   "cell_type": "markdown",
   "metadata": {},
   "source": [
    "`np.in1d()` function assigns `True` when any element in a list corresponds to an element in an array, otherwise returns `False`."
   ]
  },
  {
   "cell_type": "code",
   "execution_count": 55,
   "metadata": {},
   "outputs": [
    {
     "name": "stdout",
     "output_type": "stream",
     "text": [
      "[ True  True False  True False  True  True]\n"
     ]
    }
   ],
   "source": [
    "print(np.in1d(fast_food, ['Tacos', 'Pizza']))"
   ]
  },
  {
   "cell_type": "markdown",
   "metadata": {},
   "source": [
    "Other Functions are:\n",
    "\n",
    "* `union1d(x, y)`: Computes the sorted union of elements.\n",
    "* `intersect1d(x, y)`: Computes the sorted, common elements in x and y.\n",
    "* `setdiff1d(x, y)`: Difference set, i.e., elements in x that are not in y\n",
    "* `setxor1d(x, y)`: Symmetric differences set, i.e., elements that are in either of the arrays, but not both."
   ]
  },
  {
   "cell_type": "markdown",
   "metadata": {},
   "source": [
    "### Linear Algebra"
   ]
  },
  {
   "cell_type": "code",
   "execution_count": 56,
   "metadata": {},
   "outputs": [
    {
     "name": "stdout",
     "output_type": "stream",
     "text": [
      "2x3 matrix:\n",
      "[[1 2 3]\n",
      " [4 5 6]]\n",
      "3x2 matrix:\n",
      "[[ 7  8]\n",
      " [ 9 10]\n",
      " [11 12]]\n"
     ]
    }
   ],
   "source": [
    "m_2x3 = np.array([[1, 2, 3], [4, 5, 6]])\n",
    "m_3x2 = np.array([[7, 8], [9, 10], [11, 12]])\n",
    "\n",
    "print(\"2x3 matrix:\\n{}\".format(m_2x3))\n",
    "print(\"3x2 matrix:\\n{}\".format(m_3x2))"
   ]
  },
  {
   "cell_type": "markdown",
   "metadata": {},
   "source": [
    "`X.dot(Y)` is equivalent to `np.dot(X, Y)`."
   ]
  },
  {
   "cell_type": "code",
   "execution_count": 57,
   "metadata": {},
   "outputs": [
    {
     "name": "stdout",
     "output_type": "stream",
     "text": [
      "[[ 58  64]\n",
      " [139 154]]\n",
      "[[ 58  64]\n",
      " [139 154]]\n"
     ]
    }
   ],
   "source": [
    "print(np.dot(m_2x3, m_3x2))\n",
    "print(m_2x3.dot(m_3x2))"
   ]
  },
  {
   "cell_type": "code",
   "execution_count": 58,
   "metadata": {},
   "outputs": [
    {
     "data": {
      "text/plain": [
       "array([ 6., 15.])"
      ]
     },
     "execution_count": 58,
     "metadata": {},
     "output_type": "execute_result"
    }
   ],
   "source": [
    "np.dot(m_2x3, np.ones(3)) "
   ]
  },
  {
   "cell_type": "markdown",
   "metadata": {},
   "source": [
    "As we already saw, `np.dot()` can perform matrix multiplication."
   ]
  },
  {
   "cell_type": "code",
   "execution_count": 59,
   "metadata": {},
   "outputs": [
    {
     "name": "stdout",
     "output_type": "stream",
     "text": [
      "m.T:\n",
      " [[1 4]\n",
      " [2 5]\n",
      " [3 6]]\n",
      "m:\n",
      " [[1 2 3]\n",
      " [4 5 6]]\n",
      "m.T . m:\n",
      " [[17 22 27]\n",
      " [22 29 36]\n",
      " [27 36 45]]\n"
     ]
    }
   ],
   "source": [
    "m = np.array([[1, 2, 3], [4, 5, 6]])\n",
    "m2 = np.dot(m.T, m)\n",
    "\n",
    "print('m.T:\\n', m.T)\n",
    "print('m:\\n', m)\n",
    "print('m.T . m:\\n', m2)"
   ]
  },
  {
   "cell_type": "markdown",
   "metadata": {},
   "source": [
    "`numpy.linalg` library has standard matrix operations like Inverse and QR decomposition.\n",
    "QR decomposition is often used to solve the linear least squares problem and is the basis for a particular eigenvalue algorithm, the QR algorithm."
   ]
  },
  {
   "cell_type": "code",
   "execution_count": 60,
   "metadata": {},
   "outputs": [
    {
     "name": "stdout",
     "output_type": "stream",
     "text": [
      "m:\n",
      " [[1 2 3]\n",
      " [4 5 6]\n",
      " [7 8 9]]\n",
      "inv(m):\n",
      " [[ 3.15251974e+15 -6.30503948e+15  3.15251974e+15]\n",
      " [-6.30503948e+15  1.26100790e+16 -6.30503948e+15]\n",
      " [ 3.15251974e+15 -6.30503948e+15  3.15251974e+15]]\n"
     ]
    }
   ],
   "source": [
    "from numpy.linalg import inv, qr\n",
    "\n",
    "m = np.array([[1, 2, 3], [4, 5, 6], [7, 8, 9]])\n",
    "inv_m = inv(m)\n",
    "\n",
    "print('m:\\n', m)\n",
    "print('inv(m):\\n', inv_m)"
   ]
  },
  {
   "cell_type": "code",
   "execution_count": 61,
   "metadata": {},
   "outputs": [
    {
     "name": "stdout",
     "output_type": "stream",
     "text": [
      "[[ 0.  1.  0.]\n",
      " [ 0.  2.  0.]\n",
      " [-4.  0.  0.]]\n"
     ]
    }
   ],
   "source": [
    "# Compute the product of a matrix and its inverse:\n",
    "print(m.dot(inv_m))"
   ]
  },
  {
   "cell_type": "markdown",
   "metadata": {},
   "source": [
    "Any real square matrix A may be decomposed as $A = QR$.\n",
    "Where $Q$ is an orthogonal matrix (its columns are orthogonal unit vectors meaning $Q^{T}Q=QQ^{T}=I$\n",
    "and R is an upper triangular matrix (also called right triangular matrix)."
   ]
  },
  {
   "cell_type": "code",
   "execution_count": 62,
   "metadata": {},
   "outputs": [
    {
     "name": "stdout",
     "output_type": "stream",
     "text": [
      "Q:\n",
      " [[-0.12309149  0.90453403  0.40824829]\n",
      " [-0.49236596  0.30151134 -0.81649658]\n",
      " [-0.86164044 -0.30151134  0.40824829]]\n",
      "R:\n",
      " [[-8.12403840e+00 -9.60113630e+00 -1.10782342e+01]\n",
      " [ 0.00000000e+00  9.04534034e-01  1.80906807e+00]\n",
      " [ 0.00000000e+00  0.00000000e+00 -7.58790979e-16]]\n"
     ]
    }
   ],
   "source": [
    "# Compute the QR decomposition of a matrix:\n",
    "q, r = qr(m)\n",
    "\n",
    "print('Q:\\n', q)\n",
    "print('R:\\n', r)"
   ]
  },
  {
   "cell_type": "markdown",
   "metadata": {},
   "source": [
    "Other Matrix Functions:\n",
    "\n",
    "* `diag()`: Returns the diagonal (or off-diagonal) elements of a square matrix as a 1D array, or converts a 1D array into a square matrix with zeros on the off-diagonal.\n",
    "* `trace()`: Computes the sum of the diagonal elements.\n",
    "* `det()`: Computes the matrix determinant.\n",
    "* `eig()`: Computes the eigenvalues and eigenvectors of a square matrix.\n",
    "* `pinv()`: Computes the pseudo-inverse of a square matrix.\n",
    "* `svd()`: Computes the singular value decomposition (SVD).\n",
    "* `solve()`: Solves the linear system Ax = b for x, where A is a square matrix.\n",
    "* `lstsq()`: Computes the least-squares solution to y = Xb."
   ]
  },
  {
   "cell_type": "code",
   "execution_count": null,
   "metadata": {},
   "outputs": [],
   "source": []
  }
 ],
 "metadata": {
  "kernelspec": {
   "display_name": "Python 3",
   "language": "python",
   "name": "python3"
  },
  "language_info": {
   "codemirror_mode": {
    "name": "ipython",
    "version": 3
   },
   "file_extension": ".py",
   "mimetype": "text/x-python",
   "name": "python",
   "nbconvert_exporter": "python",
   "pygments_lexer": "ipython3",
   "version": "3.6.5"
  }
 },
 "nbformat": 4,
 "nbformat_minor": 1
}
