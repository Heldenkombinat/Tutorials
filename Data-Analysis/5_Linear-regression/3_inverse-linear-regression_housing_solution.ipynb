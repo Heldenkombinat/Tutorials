{
 "cells": [
  {
   "cell_type": "markdown",
   "metadata": {},
   "source": [
    "# Inverse Linear Regression Proof"
   ]
  },
  {
   "cell_type": "markdown",
   "metadata": {},
   "source": [
    "In this notebook we want to check if both ways of 'inverse linear regression' lead to the same result!\n",
    " \n",
    "Write the function that uses expenses as input and sqft_living as output!\n",
    "* Upload and preprocess the data\n",
    "* Write a function to compute the Simple Linear Regression weights with sqft_living as output and price as input\n",
    "* Write a function to make predictions of the output given the input feature of $1.000.000\n",
    " \n",
    "Then write a function that uses sqft_living as input and price as output and invert it!\n",
    "* Write a function to compute the Simple Linear Regression weights with price as output and sqft_living as input\n",
    "* Write a function to make predictions of the input given the output feature of $1.000.000"
   ]
  },
  {
   "cell_type": "markdown",
   "metadata": {},
   "source": [
    "# Upload and preprocess the data\n",
    "\n",
    "Dataset on house sales data (housing.csv)."
   ]
  },
  {
   "cell_type": "code",
   "execution_count": null,
   "metadata": {},
   "outputs": [],
   "source": [
    "import pandas as pd\n",
    "data = pd.read_csv('housing.csv')\n",
    "# Look at the table to check potential features\n",
    "data[:10]"
   ]
  },
  {
   "cell_type": "markdown",
   "metadata": {},
   "source": [
    "# Split data into training and testing"
   ]
  },
  {
   "cell_type": "code",
   "execution_count": null,
   "metadata": {},
   "outputs": [],
   "source": [
    "from sklearn.model_selection import train_test_split\n",
    "# Split data set into 80% train and 20% test data \n",
    "train_data, test_data = train_test_split(data, test_size=0.2, random_state=0)\n",
    "# Look at the shape to check the split ratio\n",
    "train_data.shape, test_data.shape"
   ]
  },
  {
   "cell_type": "markdown",
   "metadata": {},
   "source": [
    "# Build a generic simple linear regression function "
   ]
  },
  {
   "cell_type": "markdown",
   "metadata": {},
   "source": [
    "Let's build a closed form solution (function) to compute the slope and intercept for a simple linear regression."
   ]
  },
  {
   "cell_type": "markdown",
   "metadata": {},
   "source": [
    "Sample regression:\n",
    "\\begin{equation}\n",
    "\\hat{y}_i = \\hat{i} + \\hat{s} x_i\n",
    "\\end{equation}\n",
    "\n",
    "Sample intercept:\n",
    "\\begin{equation}\n",
    "\\hat{i} = \\bar{y} – \\hat{s} \\bar{x}\n",
    "\\end{equation}\n",
    "\n",
    "Sample slope:\n",
    "\\begin{equation}\n",
    "\\hat{s} = \\frac{\\sum(x_i – \\bar{x}) (y_i – \\bar{y})} {\\sum(x_i – \\bar{x})^2}\n",
    "\\end{equation}\n",
    "\n",
    "Here are the sample means:\n",
    "\n",
    "\\begin{equation}\n",
    "\\bar{x} = \\frac{1}{n}\\sum_{i=1}^n x_i\n",
    "\\end{equation}\n",
    "\n",
    "\\begin{equation}\n",
    "\\bar{y} = \\frac{1}{n}\\sum_{i=1}^n y_i\n",
    "\\end{equation}\n"
   ]
  },
  {
   "cell_type": "code",
   "execution_count": null,
   "metadata": {},
   "outputs": [],
   "source": [
    "from time import time\n",
    "\n",
    "X = train_data['price'].values\n",
    "Y = train_data['sqft_living'].values"
   ]
  },
  {
   "cell_type": "markdown",
   "metadata": {},
   "source": [
    "### What a Statistician would do:"
   ]
  },
  {
   "cell_type": "code",
   "execution_count": null,
   "metadata": {},
   "outputs": [],
   "source": [
    "def simple_linear_regression(X, Y):\n",
    "    \n",
    "    # Compute the means:\n",
    "    assert len(X) == len(Y)\n",
    "    \n",
    "    n = len(X)\n",
    "    x_mean = sum(X) / n\n",
    "    y_mean = sum(Y) / n\n",
    "    \n",
    "    # Compute the slope:\n",
    "    slope = sum((X - x_mean) * (Y - y_mean)) / sum((X - x_mean)**2)\n",
    "    \n",
    "    # Compute the intercept:\n",
    "    intercept = y_mean - slope * x_mean\n",
    "    \n",
    "    return (intercept, slope)"
   ]
  },
  {
   "cell_type": "code",
   "execution_count": null,
   "metadata": {},
   "outputs": [],
   "source": [
    "t0 = time()\n",
    "sqft_intercept, sqft_slope = simple_linear_regression(X, Y)\n",
    "t1 = time()\n",
    "\n",
    "print('Elapsed time: {:.2f} milliseconds\\n'.format((t1 - t0) * 1000))\n",
    "print('Intercept: ' + str(sqft_intercept))\n",
    "print('Slope: ' + str(sqft_slope))"
   ]
  },
  {
   "cell_type": "markdown",
   "metadata": {},
   "source": [
    "### What a Machine Learning Engineer would do:"
   ]
  },
  {
   "cell_type": "code",
   "execution_count": null,
   "metadata": {},
   "outputs": [],
   "source": [
    "from sklearn.linear_model import LinearRegression\n",
    "\n",
    "def simple_linear_regression_sklearn(X, Y):\n",
    "    X_2D = X.reshape(-1, 1)  # Convert to 2D array for Sklearn\n",
    "    model = LinearRegression().fit(X_2D, Y)\n",
    "    return (model.intercept_, model.coef_[0])"
   ]
  },
  {
   "cell_type": "code",
   "execution_count": null,
   "metadata": {},
   "outputs": [],
   "source": [
    "t0 = time()\n",
    "sqft_intercept, sqft_slope = simple_linear_regression_sklearn(X, Y)\n",
    "t1 = time()\n",
    "\n",
    "print('Elapsed time: {:.2f} milliseconds\\n'.format((t1 - t0) * 1000))\n",
    "print('Intercept: ' + str(sqft_intercept))\n",
    "print('Slope: ' + str(sqft_slope))"
   ]
  },
  {
   "cell_type": "markdown",
   "metadata": {},
   "source": [
    "### What a Computer Scientist would do:"
   ]
  },
  {
   "cell_type": "code",
   "execution_count": null,
   "metadata": {},
   "outputs": [],
   "source": [
    "def simple_linear_regression_optimized(input_feature, output):\n",
    "    \n",
    "    n = len(input_feature)\n",
    "    \n",
    "    # compute the sum of input_feature and output\n",
    "    x_sum = input_feature.sum()\n",
    "    y_sum = output.sum()\n",
    "    \n",
    "    # compute the product of the output and the input_feature and its sum\n",
    "    xy = input_feature * output\n",
    "    xy_sum = xy.sum()\n",
    "    \n",
    "    # compute the squared value of the input_feature and its sum\n",
    "    x_squared = input_feature * input_feature\n",
    "    x_squared_sum = x_squared.sum()\n",
    "    \n",
    "    # use the formula for the slope\n",
    "    slope = (xy_sum - x_sum * y_sum / n) / (x_squared_sum - x_sum * x_sum / n)\n",
    "    \n",
    "    # use the formula for the intercept\n",
    "    intercept = y_sum / n - slope * x_sum / n\n",
    "    \n",
    "    return (intercept, slope)"
   ]
  },
  {
   "cell_type": "code",
   "execution_count": null,
   "metadata": {},
   "outputs": [],
   "source": [
    "t0 = time()\n",
    "sqft_intercept, sqft_slope = simple_linear_regression_optimized(X, Y)\n",
    "t1 = time()\n",
    "\n",
    "print('Elapsed time: {:.2f} milliseconds\\n'.format((t1 - t0) * 1000))\n",
    "print('Intercept: ' + str(sqft_intercept))\n",
    "print('Slope: ' + str(sqft_slope))"
   ]
  },
  {
   "cell_type": "markdown",
   "metadata": {},
   "source": [
    "### Plot data and function"
   ]
  },
  {
   "cell_type": "markdown",
   "metadata": {},
   "source": [
    "# Predicting values"
   ]
  },
  {
   "cell_type": "markdown",
   "metadata": {},
   "source": [
    "Now let's use that function of a simple regression model for predicting prices based on sqft - rembember that we train on train_data!\n",
    "\n",
    "With the model parameters 'intercept & slope' we can now write a function to return the predicted output - given the input_feature, slope and intercept:"
   ]
  },
  {
   "cell_type": "code",
   "execution_count": null,
   "metadata": {},
   "outputs": [],
   "source": [
    "def get_regression_predictions(input_feature, intercept, slope):\n",
    "    # calculate the predicted values:\n",
    "    predicted_values = intercept + slope * input_feature\n",
    "    return predicted_values"
   ]
  },
  {
   "cell_type": "code",
   "execution_count": null,
   "metadata": {},
   "outputs": [],
   "source": [
    "import matplotlib.pyplot as plt\n",
    "import numpy as np\n",
    "\n",
    "def plot_function(intercept, slope):\n",
    "    axes = plt.gca() # get current axes\n",
    "    x_vals = np.array(axes.get_xlim())\n",
    "    y_vals = get_regression_predictions(x_vals, intercept, slope)\n",
    "    plt.plot(x_vals, y_vals, 'r-')"
   ]
  },
  {
   "cell_type": "code",
   "execution_count": null,
   "metadata": {
    "scrolled": false
   },
   "outputs": [],
   "source": [
    "# Plot feature relations\n",
    "plt.figure(figsize=(5,10))\n",
    "\n",
    "plt.plot(X, Y, 'o')\n",
    "plt.title('price vs. sqft_living')\n",
    "plt.xlabel('sqft_living')\n",
    "plt.ylabel('price')\n",
    "\n",
    "plot_function(sqft_intercept, sqft_slope)"
   ]
  },
  {
   "cell_type": "markdown",
   "metadata": {},
   "source": [
    "# Additional Task: Go to your 2a insurance notebook from yesterday and fit a regression line into your plot of bmi vs. expenses"
   ]
  },
  {
   "cell_type": "markdown",
   "metadata": {},
   "source": [
    "Now that we have this function let's make a prediction. \n",
    "\n",
    "* What is the estimated expense for an entry according to the model we estiamted above?"
   ]
  },
  {
   "cell_type": "code",
   "execution_count": null,
   "metadata": {},
   "outputs": [],
   "source": [
    "import locale\n",
    "locale.setlocale(locale.LC_ALL, 'en_US')\n",
    "\n",
    "my_budget = 1000000\n",
    "estimated_sqft_living = get_regression_predictions(my_budget, sqft_intercept, sqft_slope)\n",
    "\n",
    "my_budget_currency = locale.currency(my_budget, grouping=True)\n",
    "print(\"The estimated sqft_living for a budget of {} is {:.2f}\".format(my_budget_currency, estimated_sqft_living))"
   ]
  },
  {
   "cell_type": "markdown",
   "metadata": {},
   "source": [
    "# Inverse Regression Prediction\n",
    "\n",
    "The inverse process is calculated by solving `output = intercept + slope * input_feature` for `input_feature`."
   ]
  },
  {
   "cell_type": "code",
   "execution_count": null,
   "metadata": {},
   "outputs": [],
   "source": [
    "def inverse_regression_predictions(output, intercept, slope):\n",
    "    # Use this equation to compute the inverse predictions:\n",
    "    estimated_feature = (output - intercept) / slope\n",
    "    return estimated_feature"
   ]
  },
  {
   "cell_type": "code",
   "execution_count": null,
   "metadata": {},
   "outputs": [],
   "source": [
    "my_sqft = estimated_sqft_living\n",
    "estimated_budget = inverse_regression_predictions(my_sqft, sqft_intercept, sqft_slope)\n",
    "\n",
    "estimated_budget_currency = locale.currency(my_budget, grouping=True)\n",
    "print(\"The estimated budget for a living of {:.2f} sqft is {}\".format(estimated_sqft_living, estimated_budget_currency))"
   ]
  },
  {
   "cell_type": "markdown",
   "metadata": {},
   "source": [
    "Train an inverse model that predicts the budget based on the sqft_livingroom:"
   ]
  },
  {
   "cell_type": "code",
   "execution_count": null,
   "metadata": {},
   "outputs": [],
   "source": [
    "budget_intercept, budget_slope = simple_linear_regression(Y, X)\n",
    "\n",
    "print('Intercept: ' + str(budget_intercept))\n",
    "print('Slope: ' + str(budget_slope))"
   ]
  },
  {
   "cell_type": "code",
   "execution_count": null,
   "metadata": {},
   "outputs": [],
   "source": [
    "# Plot feature relations\n",
    "plt.figure(figsize=(10,5))\n",
    "\n",
    "plt.plot(Y, X, 'o')\n",
    "plt.title('price vs. sqft_living')\n",
    "plt.xlabel('sqft_living')\n",
    "plt.ylabel('price')\n",
    "\n",
    "plot_function(budget_intercept, budget_slope)"
   ]
  },
  {
   "cell_type": "markdown",
   "metadata": {},
   "source": [
    "Compare the output of the inverse model with an inverse prediction, against the first model:"
   ]
  },
  {
   "cell_type": "code",
   "execution_count": null,
   "metadata": {},
   "outputs": [],
   "source": [
    "my_budget_2 = 1000000\n",
    "estimated_sqft_living_2 = inverse_regression_predictions(my_budget_2, budget_intercept, budget_slope)\n",
    "\n",
    "my_budget_2_currency = locale.currency(my_budget_2, grouping=True)\n",
    "print(\"The estimated sqft_living for a budget of {} is {:.2f}\".format(my_budget_2_currency, estimated_sqft_living_2))"
   ]
  },
  {
   "cell_type": "markdown",
   "metadata": {},
   "source": [
    "The short answer is [here](https://stats.stackexchange.com/a/20560):"
   ]
  },
  {
   "cell_type": "code",
   "execution_count": null,
   "metadata": {},
   "outputs": [],
   "source": [
    "plt.figure(figsize=(15,10))\n",
    "plt.imshow(plt.imread('regression.png'))"
   ]
  },
  {
   "cell_type": "markdown",
   "metadata": {},
   "source": [
    "The long answer is [here](https://stats.stackexchange.com/a/20556):"
   ]
  },
  {
   "cell_type": "markdown",
   "metadata": {},
   "source": [
    "Given $n$ data points $(x_i,y_i), i = 1,2,\\ldots n$, in the plane, let us draw a straight line $y = ax+b$.  If we predict $ax_i+b$ as the value $\\hat{y}_i$ of $y_i$, then the _error_ is $(y_i-\\hat{y}_i) = (y_i-ax_i-b)$, the _squared error_ is $(y_i-ax_i-b)^2$, and the _total squared error_ $\\sum_{i=1}^n (y_i-ax_i-b)^2$. We ask\n",
    "\n",
    ">What choice of $a$ and $b$ minimizes \n",
    "$S =\\displaystyle\\sum_{i=1}^n (y_i-ax_i-b)^2$ ?\n",
    "\n",
    "Since $(y_i-ax_i-b)$ is the vertical distance of $(x_i,y_i)$ from the straight line, we are asking for the line such that the sum of the squares of the vertical distances of the points from the line is as small as possible.  Now $S$  is a quadratic function of both $a$ and $b$ and attains its minimum value when $a$ and $b$ are such that\n",
    "\n",
    "$$\n",
    "\\begin{align*}\n",
    "\\frac{\\partial S}{\\partial a} &= 2\\sum_{i=1}^n (y_i-ax_i-b)(-x_i) &= 0\\\\\n",
    "\\frac{\\partial S}{\\partial b} &= 2\\sum_{i=1}^n (y_i-ax_i-b)(-1) &= 0\n",
    "\\end{align*}\n",
    "$$\n",
    "\n",
    "From the second equation, we get\n",
    "\n",
    "$$\n",
    "b = \\frac{1}{n}\\sum_{i=1}^n (y_i - ax_i) = \\mu_y - a\\mu_x\n",
    "$$\n",
    "\n",
    "where $\\displaystyle \\mu_y = \\frac{1}{n}\\sum_{i=1}^n y_i, ~ \\mu_x = \\frac{1}{n}\\sum_{i=1}^n x_i$ are the arithmetic average values of the $y_i$'s and the $x_i$'s respectively. Substituting into the first equation, we get\n",
    "\n",
    "$$\n",
    "a = \\frac{\\left(\\frac{1}{n}\\sum_{i=1}^n x_iy_i\\right) -\\mu_x\\mu_y}{\n",
    "\\left( \\frac{1}{n}\\sum_{i=1}^n x_i^2\\right)  -\\mu_x^2}.\n",
    "$$\n",
    "\n",
    "Thus, the line that minimizes $S$ can be expressed as\n",
    "\n",
    "$$\n",
    "y = ax+b = \\mu_y +\n",
    "\\left(\\frac{\\left(\\frac{1}{n}\\sum_{i=1}^n x_iy_i\\right) -\\mu_x\\mu_y}{\n",
    "\\left( \\frac{1}{n}\\sum_{i=1}^n x_i^2\\right)  -\\mu_x^2}\\right)\n",
    "(x - \\mu_x),\n",
    "$$\n",
    "\n",
    "and the minimum value of $S$ is\n",
    "\n",
    "$$\n",
    "S_{\\min} =  \n",
    "\\frac{\\left[\\left(\\frac{1}{n}\\sum_{i=1}^n y_i^2\\right)  -\\mu_y^2\\right]\n",
    "\\left[\\left(\\frac{1}{n}\\sum_{i=1}^n x_i^2\\right)  -\\mu_x^2\\right]\n",
    "-\n",
    "\\left[\\left(\\frac{1}{n}\\sum_{i=1}^n x_iy_i\\right) \n",
    "-\\mu_x\\mu_y\\right]^2}{\\left(\\frac{1}{n}\\sum_{i=1}^n x_i^2\\right)  -\\mu_x^2}.\n",
    "$$\n",
    "\n",
    "If we interchange the roles of $x$ and $y$, draw a line $x = \\hat{a}y + \\hat{b}$, and ask for the values of\n",
    "$\\hat{a}$ and $\\hat{b}$ that minimize\n",
    "\n",
    "$$\n",
    "T = \\sum_{i=1}^n (x_i - \\hat{a}y_i - \\hat{b})^2,\n",
    "$$\n",
    "\n",
    "that is, we want the line such that the sum of the squares of the _horizontal_ distances of the points from the line is as small as possible, then we get\n",
    "\n",
    "$$\n",
    "x = \\hat{a}y+\\hat{b} = \\mu_x +\n",
    "\\left(\\frac{\\left(\\frac{1}{n}\\sum_{i=1}^n x_iy_i\\right) -\\mu_x\\mu_y}{\n",
    "\\left( \\frac{1}{n}\\sum_{i=1}^n y_i^2\\right)  -\\mu_y^2}\\right)\n",
    "(y - \\mu_y)\n",
    "$$ \n",
    "\n",
    "and the minimum value of $T$ is\n",
    "\n",
    "$$\n",
    "T_{\\min} =  \n",
    "\\frac{\\left[\\left(\\frac{1}{n}\\sum_{i=1}^n y_i^2\\right)  -\\mu_y^2\\right]\n",
    "\\left[\\left(\\frac{1}{n}\\sum_{i=1}^n x_i^2\\right)  -\\mu_x^2\\right]\n",
    "-\n",
    "\\left[\\left(\\frac{1}{n}\\sum_{i=1}^n x_iy_i\\right) \n",
    "-\\mu_x\\mu_y\\right]^2}{\\left(\\frac{1}{n}\\sum_{i=1}^n y_i^2\\right)  -\\mu_y^2}.\n",
    "$$\n",
    "\n",
    "Note that both lines pass through the point $(\\mu_x,\\mu_y)$ but the slopes are \n",
    "$$\n",
    "a = \n",
    "\\frac{\\left(\\frac{1}{n}\\sum_{i=1}^n x_iy_i\\right) -\\mu_x\\mu_y}{\n",
    "\\left( \\frac{1}{n}\\sum_{i=1}^n x_i^2\\right)  -\\mu_x^2},~~\n",
    "\\hat{a}^{-1} = \\frac{\n",
    "\\left( \\frac{1}{n}\\sum_{i=1}^n y_i^2\\right)  -\\mu_y^2}{\\left(\\frac{1}{n}\\sum_{i=1}^n x_iy_i\\right) -\\mu_x\\mu_y}\n",
    "$$\n",
    "are different in general. The slopes are the same when all the points $(x_i,y_i)$ lie on the same straight line.  To see this, note that \n",
    "\n",
    "$$\n",
    "\\hat{a}^{-1} - a = \\frac{S_{\\min}}{\\left(\\frac{1}{n}\\sum_{i=1}^n x_iy_i\\right) -\\mu_x\\mu_y} = 0 \\Rightarrow S_{\\min} = 0 \\Rightarrow y_i=ax_i+b, i=1,2,\\ldots, n.\n",
    "$$"
   ]
  },
  {
   "cell_type": "code",
   "execution_count": null,
   "metadata": {},
   "outputs": [],
   "source": []
  }
 ],
 "metadata": {
  "kernelspec": {
   "display_name": "Python 3 (ipykernel)",
   "language": "python",
   "name": "python3"
  },
  "language_info": {
   "codemirror_mode": {
    "name": "ipython",
    "version": 3
   },
   "file_extension": ".py",
   "mimetype": "text/x-python",
   "name": "python",
   "nbconvert_exporter": "python",
   "pygments_lexer": "ipython3",
   "version": "3.9.12"
  }
 },
 "nbformat": 4,
 "nbformat_minor": 1
}
