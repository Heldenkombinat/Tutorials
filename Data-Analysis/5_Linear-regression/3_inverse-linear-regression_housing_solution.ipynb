{
 "cells": [
  {
   "cell_type": "markdown",
   "metadata": {},
   "source": [
    "# Inverse Linear Regression Proof"
   ]
  },
  {
   "cell_type": "markdown",
   "metadata": {},
   "source": [
    "In this notebook we want to check if both ways of 'inverse linear regression' lead to the same result!\n",
    " \n",
    "Write the function that uses expenses as input and sqft_living as output!\n",
    "* Upload and preprocess the data\n",
    "* Write a function to compute the Simple Linear Regression weights with sqft_living as output and price as input\n",
    "* Write a function to make predictions of the output given the input feature of $1.000.000\n",
    " \n",
    "Then write a function that uses sqft_living as input and price as output and invert it!\n",
    "* Write a function to compute the Simple Linear Regression weights with price as output and sqft_living as input\n",
    "* Write a function to make predictions of the input given the output feature of $1.000.000"
   ]
  },
  {
   "cell_type": "markdown",
   "metadata": {},
   "source": [
    "# Upload and preprocess the data\n",
    "\n",
    "Dataset on house sales data (housing.csv)."
   ]
  },
  {
   "cell_type": "code",
   "execution_count": 1,
   "metadata": {},
   "outputs": [
    {
     "data": {
      "text/html": [
       "<div>\n",
       "<style scoped>\n",
       "    .dataframe tbody tr th:only-of-type {\n",
       "        vertical-align: middle;\n",
       "    }\n",
       "\n",
       "    .dataframe tbody tr th {\n",
       "        vertical-align: top;\n",
       "    }\n",
       "\n",
       "    .dataframe thead th {\n",
       "        text-align: right;\n",
       "    }\n",
       "</style>\n",
       "<table border=\"1\" class=\"dataframe\">\n",
       "  <thead>\n",
       "    <tr style=\"text-align: right;\">\n",
       "      <th></th>\n",
       "      <th>id</th>\n",
       "      <th>date</th>\n",
       "      <th>price</th>\n",
       "      <th>bedrooms</th>\n",
       "      <th>bathrooms</th>\n",
       "      <th>sqft_living</th>\n",
       "      <th>sqft_lot</th>\n",
       "      <th>floors</th>\n",
       "      <th>waterfront</th>\n",
       "      <th>view</th>\n",
       "      <th>...</th>\n",
       "      <th>grade</th>\n",
       "      <th>sqft_above</th>\n",
       "      <th>sqft_basement</th>\n",
       "      <th>yr_built</th>\n",
       "      <th>yr_renovated</th>\n",
       "      <th>zipcode</th>\n",
       "      <th>lat</th>\n",
       "      <th>long</th>\n",
       "      <th>sqft_living15</th>\n",
       "      <th>sqft_lot15</th>\n",
       "    </tr>\n",
       "  </thead>\n",
       "  <tbody>\n",
       "    <tr>\n",
       "      <th>0</th>\n",
       "      <td>7129300520</td>\n",
       "      <td>20141013T000000</td>\n",
       "      <td>221900.0</td>\n",
       "      <td>3</td>\n",
       "      <td>1.00</td>\n",
       "      <td>1180</td>\n",
       "      <td>5650</td>\n",
       "      <td>1.0</td>\n",
       "      <td>0</td>\n",
       "      <td>0</td>\n",
       "      <td>...</td>\n",
       "      <td>7</td>\n",
       "      <td>1180</td>\n",
       "      <td>0</td>\n",
       "      <td>1955</td>\n",
       "      <td>0</td>\n",
       "      <td>98178</td>\n",
       "      <td>47.5112</td>\n",
       "      <td>-122.257</td>\n",
       "      <td>1340</td>\n",
       "      <td>5650</td>\n",
       "    </tr>\n",
       "    <tr>\n",
       "      <th>1</th>\n",
       "      <td>6414100192</td>\n",
       "      <td>20141209T000000</td>\n",
       "      <td>538000.0</td>\n",
       "      <td>3</td>\n",
       "      <td>2.25</td>\n",
       "      <td>2570</td>\n",
       "      <td>7242</td>\n",
       "      <td>2.0</td>\n",
       "      <td>0</td>\n",
       "      <td>0</td>\n",
       "      <td>...</td>\n",
       "      <td>7</td>\n",
       "      <td>2170</td>\n",
       "      <td>400</td>\n",
       "      <td>1951</td>\n",
       "      <td>1991</td>\n",
       "      <td>98125</td>\n",
       "      <td>47.7210</td>\n",
       "      <td>-122.319</td>\n",
       "      <td>1690</td>\n",
       "      <td>7639</td>\n",
       "    </tr>\n",
       "    <tr>\n",
       "      <th>2</th>\n",
       "      <td>5631500400</td>\n",
       "      <td>20150225T000000</td>\n",
       "      <td>180000.0</td>\n",
       "      <td>2</td>\n",
       "      <td>1.00</td>\n",
       "      <td>770</td>\n",
       "      <td>10000</td>\n",
       "      <td>1.0</td>\n",
       "      <td>0</td>\n",
       "      <td>0</td>\n",
       "      <td>...</td>\n",
       "      <td>6</td>\n",
       "      <td>770</td>\n",
       "      <td>0</td>\n",
       "      <td>1933</td>\n",
       "      <td>0</td>\n",
       "      <td>98028</td>\n",
       "      <td>47.7379</td>\n",
       "      <td>-122.233</td>\n",
       "      <td>2720</td>\n",
       "      <td>8062</td>\n",
       "    </tr>\n",
       "    <tr>\n",
       "      <th>3</th>\n",
       "      <td>2487200875</td>\n",
       "      <td>20141209T000000</td>\n",
       "      <td>604000.0</td>\n",
       "      <td>4</td>\n",
       "      <td>3.00</td>\n",
       "      <td>1960</td>\n",
       "      <td>5000</td>\n",
       "      <td>1.0</td>\n",
       "      <td>0</td>\n",
       "      <td>0</td>\n",
       "      <td>...</td>\n",
       "      <td>7</td>\n",
       "      <td>1050</td>\n",
       "      <td>910</td>\n",
       "      <td>1965</td>\n",
       "      <td>0</td>\n",
       "      <td>98136</td>\n",
       "      <td>47.5208</td>\n",
       "      <td>-122.393</td>\n",
       "      <td>1360</td>\n",
       "      <td>5000</td>\n",
       "    </tr>\n",
       "    <tr>\n",
       "      <th>4</th>\n",
       "      <td>1954400510</td>\n",
       "      <td>20150218T000000</td>\n",
       "      <td>510000.0</td>\n",
       "      <td>3</td>\n",
       "      <td>2.00</td>\n",
       "      <td>1680</td>\n",
       "      <td>8080</td>\n",
       "      <td>1.0</td>\n",
       "      <td>0</td>\n",
       "      <td>0</td>\n",
       "      <td>...</td>\n",
       "      <td>8</td>\n",
       "      <td>1680</td>\n",
       "      <td>0</td>\n",
       "      <td>1987</td>\n",
       "      <td>0</td>\n",
       "      <td>98074</td>\n",
       "      <td>47.6168</td>\n",
       "      <td>-122.045</td>\n",
       "      <td>1800</td>\n",
       "      <td>7503</td>\n",
       "    </tr>\n",
       "    <tr>\n",
       "      <th>5</th>\n",
       "      <td>7237550310</td>\n",
       "      <td>20140512T000000</td>\n",
       "      <td>1225000.0</td>\n",
       "      <td>4</td>\n",
       "      <td>4.50</td>\n",
       "      <td>5420</td>\n",
       "      <td>101930</td>\n",
       "      <td>1.0</td>\n",
       "      <td>0</td>\n",
       "      <td>0</td>\n",
       "      <td>...</td>\n",
       "      <td>11</td>\n",
       "      <td>3890</td>\n",
       "      <td>1530</td>\n",
       "      <td>2001</td>\n",
       "      <td>0</td>\n",
       "      <td>98053</td>\n",
       "      <td>47.6561</td>\n",
       "      <td>-122.005</td>\n",
       "      <td>4760</td>\n",
       "      <td>101930</td>\n",
       "    </tr>\n",
       "    <tr>\n",
       "      <th>6</th>\n",
       "      <td>1321400060</td>\n",
       "      <td>20140627T000000</td>\n",
       "      <td>257500.0</td>\n",
       "      <td>3</td>\n",
       "      <td>2.25</td>\n",
       "      <td>1715</td>\n",
       "      <td>6819</td>\n",
       "      <td>2.0</td>\n",
       "      <td>0</td>\n",
       "      <td>0</td>\n",
       "      <td>...</td>\n",
       "      <td>7</td>\n",
       "      <td>1715</td>\n",
       "      <td>0</td>\n",
       "      <td>1995</td>\n",
       "      <td>0</td>\n",
       "      <td>98003</td>\n",
       "      <td>47.3097</td>\n",
       "      <td>-122.327</td>\n",
       "      <td>2238</td>\n",
       "      <td>6819</td>\n",
       "    </tr>\n",
       "    <tr>\n",
       "      <th>7</th>\n",
       "      <td>2008000270</td>\n",
       "      <td>20150115T000000</td>\n",
       "      <td>291850.0</td>\n",
       "      <td>3</td>\n",
       "      <td>1.50</td>\n",
       "      <td>1060</td>\n",
       "      <td>9711</td>\n",
       "      <td>1.0</td>\n",
       "      <td>0</td>\n",
       "      <td>0</td>\n",
       "      <td>...</td>\n",
       "      <td>7</td>\n",
       "      <td>1060</td>\n",
       "      <td>0</td>\n",
       "      <td>1963</td>\n",
       "      <td>0</td>\n",
       "      <td>98198</td>\n",
       "      <td>47.4095</td>\n",
       "      <td>-122.315</td>\n",
       "      <td>1650</td>\n",
       "      <td>9711</td>\n",
       "    </tr>\n",
       "    <tr>\n",
       "      <th>8</th>\n",
       "      <td>2414600126</td>\n",
       "      <td>20150415T000000</td>\n",
       "      <td>229500.0</td>\n",
       "      <td>3</td>\n",
       "      <td>1.00</td>\n",
       "      <td>1780</td>\n",
       "      <td>7470</td>\n",
       "      <td>1.0</td>\n",
       "      <td>0</td>\n",
       "      <td>0</td>\n",
       "      <td>...</td>\n",
       "      <td>7</td>\n",
       "      <td>1050</td>\n",
       "      <td>730</td>\n",
       "      <td>1960</td>\n",
       "      <td>0</td>\n",
       "      <td>98146</td>\n",
       "      <td>47.5123</td>\n",
       "      <td>-122.337</td>\n",
       "      <td>1780</td>\n",
       "      <td>8113</td>\n",
       "    </tr>\n",
       "    <tr>\n",
       "      <th>9</th>\n",
       "      <td>3793500160</td>\n",
       "      <td>20150312T000000</td>\n",
       "      <td>323000.0</td>\n",
       "      <td>3</td>\n",
       "      <td>2.50</td>\n",
       "      <td>1890</td>\n",
       "      <td>6560</td>\n",
       "      <td>2.0</td>\n",
       "      <td>0</td>\n",
       "      <td>0</td>\n",
       "      <td>...</td>\n",
       "      <td>7</td>\n",
       "      <td>1890</td>\n",
       "      <td>0</td>\n",
       "      <td>2003</td>\n",
       "      <td>0</td>\n",
       "      <td>98038</td>\n",
       "      <td>47.3684</td>\n",
       "      <td>-122.031</td>\n",
       "      <td>2390</td>\n",
       "      <td>7570</td>\n",
       "    </tr>\n",
       "  </tbody>\n",
       "</table>\n",
       "<p>10 rows × 21 columns</p>\n",
       "</div>"
      ],
      "text/plain": [
       "           id             date      price  bedrooms  bathrooms  sqft_living  \\\n",
       "0  7129300520  20141013T000000   221900.0         3       1.00         1180   \n",
       "1  6414100192  20141209T000000   538000.0         3       2.25         2570   \n",
       "2  5631500400  20150225T000000   180000.0         2       1.00          770   \n",
       "3  2487200875  20141209T000000   604000.0         4       3.00         1960   \n",
       "4  1954400510  20150218T000000   510000.0         3       2.00         1680   \n",
       "5  7237550310  20140512T000000  1225000.0         4       4.50         5420   \n",
       "6  1321400060  20140627T000000   257500.0         3       2.25         1715   \n",
       "7  2008000270  20150115T000000   291850.0         3       1.50         1060   \n",
       "8  2414600126  20150415T000000   229500.0         3       1.00         1780   \n",
       "9  3793500160  20150312T000000   323000.0         3       2.50         1890   \n",
       "\n",
       "   sqft_lot  floors  waterfront  view  ...  grade  sqft_above  sqft_basement  \\\n",
       "0      5650     1.0           0     0  ...      7        1180              0   \n",
       "1      7242     2.0           0     0  ...      7        2170            400   \n",
       "2     10000     1.0           0     0  ...      6         770              0   \n",
       "3      5000     1.0           0     0  ...      7        1050            910   \n",
       "4      8080     1.0           0     0  ...      8        1680              0   \n",
       "5    101930     1.0           0     0  ...     11        3890           1530   \n",
       "6      6819     2.0           0     0  ...      7        1715              0   \n",
       "7      9711     1.0           0     0  ...      7        1060              0   \n",
       "8      7470     1.0           0     0  ...      7        1050            730   \n",
       "9      6560     2.0           0     0  ...      7        1890              0   \n",
       "\n",
       "   yr_built  yr_renovated  zipcode      lat     long  sqft_living15  \\\n",
       "0      1955             0    98178  47.5112 -122.257           1340   \n",
       "1      1951          1991    98125  47.7210 -122.319           1690   \n",
       "2      1933             0    98028  47.7379 -122.233           2720   \n",
       "3      1965             0    98136  47.5208 -122.393           1360   \n",
       "4      1987             0    98074  47.6168 -122.045           1800   \n",
       "5      2001             0    98053  47.6561 -122.005           4760   \n",
       "6      1995             0    98003  47.3097 -122.327           2238   \n",
       "7      1963             0    98198  47.4095 -122.315           1650   \n",
       "8      1960             0    98146  47.5123 -122.337           1780   \n",
       "9      2003             0    98038  47.3684 -122.031           2390   \n",
       "\n",
       "   sqft_lot15  \n",
       "0        5650  \n",
       "1        7639  \n",
       "2        8062  \n",
       "3        5000  \n",
       "4        7503  \n",
       "5      101930  \n",
       "6        6819  \n",
       "7        9711  \n",
       "8        8113  \n",
       "9        7570  \n",
       "\n",
       "[10 rows x 21 columns]"
      ]
     },
     "execution_count": 1,
     "metadata": {},
     "output_type": "execute_result"
    }
   ],
   "source": [
    "import pandas as pd\n",
    "data = pd.read_csv('housing.csv')\n",
    "# Look at the table to check potential features\n",
    "data[:10]"
   ]
  },
  {
   "cell_type": "markdown",
   "metadata": {},
   "source": [
    "# Split data into training and testing"
   ]
  },
  {
   "cell_type": "code",
   "execution_count": 2,
   "metadata": {},
   "outputs": [
    {
     "data": {
      "text/plain": [
       "((17290, 21), (4323, 21))"
      ]
     },
     "execution_count": 2,
     "metadata": {},
     "output_type": "execute_result"
    }
   ],
   "source": [
    "from sklearn.model_selection import train_test_split\n",
    "# Split data set into 80% train and 20% test data \n",
    "train_data, test_data = train_test_split(data, test_size=0.2, random_state=0)\n",
    "# Look at the shape to check the split ratio\n",
    "train_data.shape, test_data.shape"
   ]
  },
  {
   "cell_type": "markdown",
   "metadata": {},
   "source": [
    "# Build a generic simple linear regression function "
   ]
  },
  {
   "cell_type": "markdown",
   "metadata": {},
   "source": [
    "Let's build a closed form solution (function) to compute the slope and intercept for a simple linear regression."
   ]
  },
  {
   "cell_type": "markdown",
   "metadata": {},
   "source": [
    "Sample regression:\n",
    "\\begin{equation}\n",
    "\\hat{y}_i = \\hat{i} + \\hat{s} x_i\n",
    "\\end{equation}\n",
    "\n",
    "Sample intercept:\n",
    "\\begin{equation}\n",
    "\\hat{i} = \\bar{y} – \\hat{s} \\bar{x}\n",
    "\\end{equation}\n",
    "\n",
    "Sample slope:\n",
    "\\begin{equation}\n",
    "\\hat{s} = \\frac{\\sum(x_i – \\bar{x}) (y_i – \\bar{y})} {\\sum(x_i – \\bar{x})^2}\n",
    "\\end{equation}\n",
    "\n",
    "Here are the sample means:\n",
    "\n",
    "\\begin{equation}\n",
    "\\bar{x} = \\frac{1}{n}\\sum_{i=1}^n x_i\n",
    "\\end{equation}\n",
    "\n",
    "\\begin{equation}\n",
    "\\bar{y} = \\frac{1}{n}\\sum_{i=1}^n y_i\n",
    "\\end{equation}\n"
   ]
  },
  {
   "cell_type": "code",
   "execution_count": 3,
   "metadata": {},
   "outputs": [],
   "source": [
    "from time import time\n",
    "\n",
    "X = train_data['price'].values\n",
    "Y = train_data['sqft_living'].values"
   ]
  },
  {
   "cell_type": "markdown",
   "metadata": {},
   "source": [
    "### What a Statistician would do:"
   ]
  },
  {
   "cell_type": "code",
   "execution_count": 4,
   "metadata": {},
   "outputs": [],
   "source": [
    "def simple_linear_regression(X, Y):\n",
    "    \n",
    "    # Compute the means:\n",
    "    assert len(X) == len(Y)\n",
    "    \n",
    "    n = len(X)\n",
    "    x_mean = sum(X) / n\n",
    "    y_mean = sum(Y) / n\n",
    "    \n",
    "    # Compute the slope:\n",
    "    slope = sum((X - x_mean) * (Y - y_mean)) / sum((X - x_mean)**2)\n",
    "    \n",
    "    # Compute the intercept:\n",
    "    intercept = y_mean - slope * x_mean\n",
    "    \n",
    "    return (intercept, slope)"
   ]
  },
  {
   "cell_type": "code",
   "execution_count": 5,
   "metadata": {},
   "outputs": [
    {
     "name": "stdout",
     "output_type": "stream",
     "text": [
      "Elapsed time: 5.48 milliseconds\n",
      "\n",
      "Intercept: 1134.23538705004\n",
      "Slope: 0.0017449919139801982\n"
     ]
    }
   ],
   "source": [
    "t0 = time()\n",
    "sqft_intercept, sqft_slope = simple_linear_regression(X, Y)\n",
    "t1 = time()\n",
    "\n",
    "print('Elapsed time: {:.2f} milliseconds\\n'.format((t1 - t0) * 1000))\n",
    "print('Intercept: ' + str(sqft_intercept))\n",
    "print('Slope: ' + str(sqft_slope))"
   ]
  },
  {
   "cell_type": "markdown",
   "metadata": {},
   "source": [
    "### What a Machine Learning Engineer would do:"
   ]
  },
  {
   "cell_type": "code",
   "execution_count": 6,
   "metadata": {},
   "outputs": [],
   "source": [
    "from sklearn.linear_model import LinearRegression\n",
    "\n",
    "def simple_linear_regression_sklearn(X, Y):\n",
    "    X_2D = X.reshape(-1, 1)  # Convert to 2D array for Sklearn\n",
    "    model = LinearRegression().fit(X_2D, Y)\n",
    "    return (model.intercept_, model.coef_[0])"
   ]
  },
  {
   "cell_type": "code",
   "execution_count": 7,
   "metadata": {},
   "outputs": [
    {
     "name": "stdout",
     "output_type": "stream",
     "text": [
      "Elapsed time: 1.36 milliseconds\n",
      "\n",
      "Intercept: 1134.235387050036\n",
      "Slope: 0.0017449919139802053\n"
     ]
    }
   ],
   "source": [
    "t0 = time()\n",
    "sqft_intercept, sqft_slope = simple_linear_regression_sklearn(X, Y)\n",
    "t1 = time()\n",
    "\n",
    "print('Elapsed time: {:.2f} milliseconds\\n'.format((t1 - t0) * 1000))\n",
    "print('Intercept: ' + str(sqft_intercept))\n",
    "print('Slope: ' + str(sqft_slope))"
   ]
  },
  {
   "cell_type": "markdown",
   "metadata": {},
   "source": [
    "### What a Computer Scientist would do:"
   ]
  },
  {
   "cell_type": "code",
   "execution_count": 8,
   "metadata": {},
   "outputs": [],
   "source": [
    "def simple_linear_regression_optimized(input_feature, output):\n",
    "    \n",
    "    n = len(input_feature)\n",
    "    \n",
    "    # compute the sum of input_feature and output\n",
    "    x_sum = input_feature.sum()\n",
    "    y_sum = output.sum()\n",
    "    \n",
    "    # compute the product of the output and the input_feature and its sum\n",
    "    xy = input_feature * output\n",
    "    xy_sum = xy.sum()\n",
    "    \n",
    "    # compute the squared value of the input_feature and its sum\n",
    "    x_squared = input_feature * input_feature\n",
    "    x_squared_sum = x_squared.sum()\n",
    "    \n",
    "    # use the formula for the slope\n",
    "    slope = (xy_sum - x_sum * y_sum / n) / (x_squared_sum - x_sum * x_sum / n)\n",
    "    \n",
    "    # use the formula for the intercept\n",
    "    intercept = y_sum / n - slope * x_sum / n\n",
    "    \n",
    "    return (intercept, slope)"
   ]
  },
  {
   "cell_type": "code",
   "execution_count": 9,
   "metadata": {},
   "outputs": [
    {
     "name": "stdout",
     "output_type": "stream",
     "text": [
      "Elapsed time: 0.35 milliseconds\n",
      "\n",
      "Intercept: 1134.235387050036\n",
      "Slope: 0.001744991913980205\n"
     ]
    }
   ],
   "source": [
    "t0 = time()\n",
    "sqft_intercept, sqft_slope = simple_linear_regression_optimized(X, Y)\n",
    "t1 = time()\n",
    "\n",
    "print('Elapsed time: {:.2f} milliseconds\\n'.format((t1 - t0) * 1000))\n",
    "print('Intercept: ' + str(sqft_intercept))\n",
    "print('Slope: ' + str(sqft_slope))"
   ]
  },
  {
   "cell_type": "markdown",
   "metadata": {},
   "source": [
    "### Plot data and function"
   ]
  },
  {
   "cell_type": "markdown",
   "metadata": {},
   "source": [
    "# Predicting values"
   ]
  },
  {
   "cell_type": "markdown",
   "metadata": {},
   "source": [
    "Now let's use that function of a simple regression model for predicting prices based on sqft - rembember that we train on train_data!\n",
    "\n",
    "With the model parameters 'intercept & slope' we can now write a function to return the predicted output - given the input_feature, slope and intercept:"
   ]
  },
  {
   "cell_type": "code",
   "execution_count": 10,
   "metadata": {},
   "outputs": [],
   "source": [
    "def get_regression_predictions(input_feature, intercept, slope):\n",
    "    # calculate the predicted values:\n",
    "    predicted_values = intercept + slope * input_feature\n",
    "    return predicted_values"
   ]
  },
  {
   "cell_type": "code",
   "execution_count": 11,
   "metadata": {},
   "outputs": [],
   "source": [
    "import matplotlib.pyplot as plt\n",
    "import numpy as np\n",
    "\n",
    "def plot_function(intercept, slope):\n",
    "    axes = plt.gca() # get current axes\n",
    "    x_vals = np.array(axes.get_xlim())\n",
    "    y_vals = get_regression_predictions(x_vals, intercept, slope)\n",
    "    plt.plot(x_vals, y_vals, 'r-')"
   ]
  },
  {
   "cell_type": "code",
   "execution_count": 12,
   "metadata": {
    "scrolled": false
   },
   "outputs": [
    {
     "data": {
      "image/png": "[encoded data removed]",
      "text/plain": [
       "<Figure size 360x720 with 1 Axes>"
      ]
     },
     "metadata": {
      "needs_background": "light"
     },
     "output_type": "display_data"
    }
   ],
   "source": [
    "# Plot feature relations\n",
    "plt.figure(figsize=(5,10))\n",
    "\n",
    "plt.plot(X, Y, 'o')\n",
    "plt.title('price vs. sqft_living')\n",
    "plt.xlabel('sqft_living')\n",
    "plt.ylabel('price')\n",
    "\n",
    "plot_function(sqft_intercept, sqft_slope)"
   ]
  },
  {
   "cell_type": "markdown",
   "metadata": {},
   "source": [
    "# Additional Task: Go to your 2a insurance notebook from yesterday and fit a regression line into your plot of bmi vs. expenses"
   ]
  },
  {
   "cell_type": "markdown",
   "metadata": {},
   "source": [
    "Now that we have this function let's make a prediction. \n",
    "\n",
    "* What is the estimated expense for an entry according to the model we estiamted above?"
   ]
  },
  {
   "cell_type": "code",
   "execution_count": 13,
   "metadata": {},
   "outputs": [
    {
     "name": "stdout",
     "output_type": "stream",
     "text": [
      "The estimated sqft_living for a budget of $1,000,000.00 is 2879.23\n"
     ]
    }
   ],
   "source": [
    "import locale\n",
    "locale.setlocale(locale.LC_ALL, 'en_US')\n",
    "\n",
    "my_budget = 1000000\n",
    "estimated_sqft_living = get_regression_predictions(my_budget, sqft_intercept, sqft_slope)\n",
    "\n",
    "my_budget_currency = locale.currency(my_budget, grouping=True)\n",
    "print(\"The estimated sqft_living for a budget of {} is {:.2f}\".format(my_budget_currency, estimated_sqft_living))"
   ]
  },
  {
   "cell_type": "markdown",
   "metadata": {},
   "source": [
    "# Inverse Regression Prediction\n",
    "\n",
    "The inverse process is calculated by solving `output = intercept + slope * input_feature` for `input_feature`."
   ]
  },
  {
   "cell_type": "code",
   "execution_count": 14,
   "metadata": {},
   "outputs": [],
   "source": [
    "def inverse_regression_predictions(output, intercept, slope):\n",
    "    # Use this equation to compute the inverse predictions:\n",
    "    estimated_feature = (output - intercept) / slope\n",
    "    return estimated_feature"
   ]
  },
  {
   "cell_type": "code",
   "execution_count": 15,
   "metadata": {},
   "outputs": [
    {
     "name": "stdout",
     "output_type": "stream",
     "text": [
      "The estimated budget for a living of 2879.23 sqft is $1,000,000.00\n"
     ]
    }
   ],
   "source": [
    "my_sqft = estimated_sqft_living\n",
    "estimated_budget = inverse_regression_predictions(my_sqft, sqft_intercept, sqft_slope)\n",
    "\n",
    "estimated_budget_currency = locale.currency(my_budget, grouping=True)\n",
    "print(\"The estimated budget for a living of {:.2f} sqft is {}\".format(estimated_sqft_living, estimated_budget_currency))"
   ]
  },
  {
   "cell_type": "markdown",
   "metadata": {},
   "source": [
    "Train an inverse model that predicts the budget based on the sqft_livingroom:"
   ]
  },
  {
   "cell_type": "code",
   "execution_count": 16,
   "metadata": {},
   "outputs": [
    {
     "name": "stdout",
     "output_type": "stream",
     "text": [
      "Intercept: -48257.06359102961\n",
      "Slope: 283.96855715513044\n"
     ]
    }
   ],
   "source": [
    "budget_intercept, budget_slope = simple_linear_regression(Y, X)\n",
    "\n",
    "print('Intercept: ' + str(budget_intercept))\n",
    "print('Slope: ' + str(budget_slope))"
   ]
  },
  {
   "cell_type": "code",
   "execution_count": 17,
   "metadata": {},
   "outputs": [
    {
     "data": {
      "image/png": "[encoded data removed]",
      "text/plain": [
       "<Figure size 720x360 with 1 Axes>"
      ]
     },
     "metadata": {
      "needs_background": "light"
     },
     "output_type": "display_data"
    }
   ],
   "source": [
    "# Plot feature relations\n",
    "plt.figure(figsize=(10,5))\n",
    "\n",
    "plt.plot(Y, X, 'o')\n",
    "plt.title('price vs. sqft_living')\n",
    "plt.xlabel('sqft_living')\n",
    "plt.ylabel('price')\n",
    "\n",
    "plot_function(budget_intercept, budget_slope)"
   ]
  },
  {
   "cell_type": "markdown",
   "metadata": {},
   "source": [
    "Compare the output of the inverse model with an inverse prediction, against the first model:"
   ]
  },
  {
   "cell_type": "code",
   "execution_count": 18,
   "metadata": {},
   "outputs": [
    {
     "name": "stdout",
     "output_type": "stream",
     "text": [
      "The estimated sqft_living for a budget of $1,000,000.00 is 3691.45\n"
     ]
    }
   ],
   "source": [
    "my_budget_2 = 1000000\n",
    "estimated_sqft_living_2 = inverse_regression_predictions(my_budget_2, budget_intercept, budget_slope)\n",
    "\n",
    "my_budget_2_currency = locale.currency(my_budget_2, grouping=True)\n",
    "print(\"The estimated sqft_living for a budget of {} is {:.2f}\".format(my_budget_2_currency, estimated_sqft_living_2))"
   ]
  },
  {
   "cell_type": "markdown",
   "metadata": {},
   "source": [
    "The short answer is [here](https://stats.stackexchange.com/a/20560):"
   ]
  },
  {
   "cell_type": "code",
   "execution_count": 19,
   "metadata": {},
   "outputs": [
    {
     "data": {
      "text/plain": [
       "<matplotlib.image.AxesImage at 0x13b3acc10>"
      ]
     },
     "execution_count": 19,
     "metadata": {},
     "output_type": "execute_result"
    },
    {
     "data": {
      "image/png": "[encoded data removed]",
      "text/plain": [
       "<Figure size 1080x720 with 1 Axes>"
      ]
     },
     "metadata": {
      "needs_background": "light"
     },
     "output_type": "display_data"
    }
   ],
   "source": [
    "plt.figure(figsize=(15,10))\n",
    "plt.imshow(plt.imread('regression.png'))"
   ]
  },
  {
   "cell_type": "markdown",
   "metadata": {},
   "source": [
    "The long answer is [here](https://stats.stackexchange.com/a/20556):"
   ]
  },
  {
   "cell_type": "markdown",
   "metadata": {},
   "source": [
    "Given $n$ data points $(x_i,y_i), i = 1,2,\\ldots n$, in the plane, let us draw a straight line $y = ax+b$.  If we predict $ax_i+b$ as the value $\\hat{y}_i$ of $y_i$, then the _error_ is $(y_i-\\hat{y}_i) = (y_i-ax_i-b)$, the _squared error_ is $(y_i-ax_i-b)^2$, and the _total squared error_ $\\sum_{i=1}^n (y_i-ax_i-b)^2$. We ask\n",
    "\n",
    ">What choice of $a$ and $b$ minimizes \n",
    "$S =\\displaystyle\\sum_{i=1}^n (y_i-ax_i-b)^2$ ?\n",
    "\n",
    "Since $(y_i-ax_i-b)$ is the vertical distance of $(x_i,y_i)$ from the straight line, we are asking for the line such that the sum of the squares of the vertical distances of the points from the line is as small as possible.  Now $S$  is a quadratic function of both $a$ and $b$ and attains its minimum value when $a$ and $b$ are such that\n",
    "\n",
    "$$\n",
    "\\begin{align*}\n",
    "\\frac{\\partial S}{\\partial a} &= 2\\sum_{i=1}^n (y_i-ax_i-b)(-x_i) &= 0\\\\\n",
    "\\frac{\\partial S}{\\partial b} &= 2\\sum_{i=1}^n (y_i-ax_i-b)(-1) &= 0\n",
    "\\end{align*}\n",
    "$$\n",
    "\n",
    "From the second equation, we get\n",
    "\n",
    "$$\n",
    "b = \\frac{1}{n}\\sum_{i=1}^n (y_i - ax_i) = \\mu_y - a\\mu_x\n",
    "$$\n",
    "\n",
    "where $\\displaystyle \\mu_y = \\frac{1}{n}\\sum_{i=1}^n y_i, ~ \\mu_x = \\frac{1}{n}\\sum_{i=1}^n x_i$ are the arithmetic average values of the $y_i$'s and the $x_i$'s respectively. Substituting into the first equation, we get\n",
    "\n",
    "$$\n",
    "a = \\frac{\\left(\\frac{1}{n}\\sum_{i=1}^n x_iy_i\\right) -\\mu_x\\mu_y}{\n",
    "\\left( \\frac{1}{n}\\sum_{i=1}^n x_i^2\\right)  -\\mu_x^2}.\n",
    "$$\n",
    "\n",
    "Thus, the line that minimizes $S$ can be expressed as\n",
    "\n",
    "$$\n",
    "y = ax+b = \\mu_y +\n",
    "\\left(\\frac{\\left(\\frac{1}{n}\\sum_{i=1}^n x_iy_i\\right) -\\mu_x\\mu_y}{\n",
    "\\left( \\frac{1}{n}\\sum_{i=1}^n x_i^2\\right)  -\\mu_x^2}\\right)\n",
    "(x - \\mu_x),\n",
    "$$\n",
    "\n",
    "and the minimum value of $S$ is\n",
    "\n",
    "$$\n",
    "S_{\\min} =  \n",
    "\\frac{\\left[\\left(\\frac{1}{n}\\sum_{i=1}^n y_i^2\\right)  -\\mu_y^2\\right]\n",
    "\\left[\\left(\\frac{1}{n}\\sum_{i=1}^n x_i^2\\right)  -\\mu_x^2\\right]\n",
    "-\n",
    "\\left[\\left(\\frac{1}{n}\\sum_{i=1}^n x_iy_i\\right) \n",
    "-\\mu_x\\mu_y\\right]^2}{\\left(\\frac{1}{n}\\sum_{i=1}^n x_i^2\\right)  -\\mu_x^2}.\n",
    "$$\n",
    "\n",
    "If we interchange the roles of $x$ and $y$, draw a line $x = \\hat{a}y + \\hat{b}$, and ask for the values of\n",
    "$\\hat{a}$ and $\\hat{b}$ that minimize\n",
    "\n",
    "$$\n",
    "T = \\sum_{i=1}^n (x_i - \\hat{a}y_i - \\hat{b})^2,\n",
    "$$\n",
    "\n",
    "that is, we want the line such that the sum of the squares of the _horizontal_ distances of the points from the line is as small as possible, then we get\n",
    "\n",
    "$$\n",
    "x = \\hat{a}y+\\hat{b} = \\mu_x +\n",
    "\\left(\\frac{\\left(\\frac{1}{n}\\sum_{i=1}^n x_iy_i\\right) -\\mu_x\\mu_y}{\n",
    "\\left( \\frac{1}{n}\\sum_{i=1}^n y_i^2\\right)  -\\mu_y^2}\\right)\n",
    "(y - \\mu_y)\n",
    "$$ \n",
    "\n",
    "and the minimum value of $T$ is\n",
    "\n",
    "$$\n",
    "T_{\\min} =  \n",
    "\\frac{\\left[\\left(\\frac{1}{n}\\sum_{i=1}^n y_i^2\\right)  -\\mu_y^2\\right]\n",
    "\\left[\\left(\\frac{1}{n}\\sum_{i=1}^n x_i^2\\right)  -\\mu_x^2\\right]\n",
    "-\n",
    "\\left[\\left(\\frac{1}{n}\\sum_{i=1}^n x_iy_i\\right) \n",
    "-\\mu_x\\mu_y\\right]^2}{\\left(\\frac{1}{n}\\sum_{i=1}^n y_i^2\\right)  -\\mu_y^2}.\n",
    "$$\n",
    "\n",
    "Note that both lines pass through the point $(\\mu_x,\\mu_y)$ but the slopes are \n",
    "$$\n",
    "a = \n",
    "\\frac{\\left(\\frac{1}{n}\\sum_{i=1}^n x_iy_i\\right) -\\mu_x\\mu_y}{\n",
    "\\left( \\frac{1}{n}\\sum_{i=1}^n x_i^2\\right)  -\\mu_x^2},~~\n",
    "\\hat{a}^{-1} = \\frac{\n",
    "\\left( \\frac{1}{n}\\sum_{i=1}^n y_i^2\\right)  -\\mu_y^2}{\\left(\\frac{1}{n}\\sum_{i=1}^n x_iy_i\\right) -\\mu_x\\mu_y}\n",
    "$$\n",
    "are different in general. The slopes are the same when all the points $(x_i,y_i)$ lie on the same straight line.  To see this, note that \n",
    "\n",
    "$$\n",
    "\\hat{a}^{-1} - a = \\frac{S_{\\min}}{\\left(\\frac{1}{n}\\sum_{i=1}^n x_iy_i\\right) -\\mu_x\\mu_y} = 0 \\Rightarrow S_{\\min} = 0 \\Rightarrow y_i=ax_i+b, i=1,2,\\ldots, n.\n",
    "$$"
   ]
  },
  {
   "cell_type": "code",
   "execution_count": null,
   "metadata": {},
   "outputs": [],
   "source": []
  }
 ],
 "metadata": {
  "kernelspec": {
   "display_name": "Python 3",
   "language": "python",
   "name": "python3"
  },
  "language_info": {
   "codemirror_mode": {
    "name": "ipython",
    "version": 3
   },
   "file_extension": ".py",
   "mimetype": "text/x-python",
   "name": "python",
   "nbconvert_exporter": "python",
   "pygments_lexer": "ipython3",
   "version": "3.9.1"
  }
 },
 "nbformat": 4,
 "nbformat_minor": 1
}
