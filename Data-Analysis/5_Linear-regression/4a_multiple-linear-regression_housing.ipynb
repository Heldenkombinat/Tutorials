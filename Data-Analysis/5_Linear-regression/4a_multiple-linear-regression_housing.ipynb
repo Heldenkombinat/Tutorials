{
 "cells": [
  {
   "cell_type": "markdown",
   "metadata": {},
   "source": [
    "# Multipe Regression\n",
    "\n",
    "In this notebook we will learn the respective steps needed to compute Simple Linear Regression with data on house sales in King County, USA (https://www.kingcounty.gov) to predict house prices. You will:\n",
    "* Upload and preprocess the data\n",
    "* Write a function to compute the Multiple Regression weights\n",
    "* Write a function to make predictions of the output given the input features\n",
    "* Compare different models for predicting house prices"
   ]
  },
  {
   "cell_type": "markdown",
   "metadata": {},
   "source": [
    "# Import all required libraries"
   ]
  },
  {
   "cell_type": "code",
   "execution_count": null,
   "metadata": {},
   "outputs": [],
   "source": [
    "import pandas as pd\n",
    "import numpy as np\n",
    "import matplotlib.pyplot as plt\n",
    "#import seaborn as seabornInstance\n",
    "from sklearn.model_selection import train_test_split\n",
    "from sklearn.linear_model import LinearRegression\n",
    "from sklearn import metrics\n",
    "%matplotlib inline"
   ]
  },
  {
   "cell_type": "markdown",
   "metadata": {},
   "source": [
    "# Upload, preprocess and check the data\n",
    "\n",
    "Dataset is from house sales in King County, USA (https://www.kingcounty.gov)."
   ]
  },
  {
   "cell_type": "code",
   "execution_count": null,
   "metadata": {},
   "outputs": [],
   "source": [
    "# Import dataset\n",
    "sales = pd.read_csv('housing.csv')\n",
    "\n",
    "# Look at the table to check potential features\n",
    "sales[:10]"
   ]
  },
  {
   "cell_type": "code",
   "execution_count": null,
   "metadata": {},
   "outputs": [],
   "source": [
    "# Check if the dataset contains NaN (Not-a-Number) values\n",
    "sales.isnull().any()"
   ]
  },
  {
   "cell_type": "code",
   "execution_count": null,
   "metadata": {},
   "outputs": [],
   "source": [
    "# Maybe relevant for Friday/Saturday: Drop all columns / rows with NaN (Not-a-Number) values\n",
    "sales_drop = sales.dropna()"
   ]
  },
  {
   "cell_type": "code",
   "execution_count": null,
   "metadata": {},
   "outputs": [],
   "source": [
    "# Check some statistics of the data\n",
    "sales.describe()\n",
    "\n",
    "# Understand that some variables are no good choices for linear regression, \n",
    "# e.g. zipcode, lat, long, yr_renovated etc."
   ]
  },
  {
   "cell_type": "code",
   "execution_count": null,
   "metadata": {},
   "outputs": [],
   "source": [
    "# Plot Scatter Matrix\n",
    "plot_data_new = sales[['price', 'bedrooms', 'sqft_living', 'sqft_lot', 'sqft_above']] \n",
    "from pandas.plotting import scatter_matrix\n",
    "sm = scatter_matrix(plot_data_new, figsize = (15,15))"
   ]
  },
  {
   "cell_type": "code",
   "execution_count": null,
   "metadata": {},
   "outputs": [],
   "source": [
    "# Plot some feature relations\n",
    "sales.plot(x = 'bedrooms', y = 'price', style = 'o')\n",
    "plt.title('price vs. bedrooms')\n",
    "plt.xlabel('bedrooms')\n",
    "plt.ylabel('price')\n",
    "plt.show()"
   ]
  },
  {
   "cell_type": "code",
   "execution_count": null,
   "metadata": {},
   "outputs": [],
   "source": [
    "# Plot some feature relations\n",
    "sales.plot(x = 'sqft_living', y = 'price', style = 'o')\n",
    "plt.title('price vs. sqft_living')\n",
    "plt.xlabel('sqft_living')\n",
    "plt.ylabel('price')\n",
    "plt.show()"
   ]
  },
  {
   "cell_type": "code",
   "execution_count": null,
   "metadata": {},
   "outputs": [],
   "source": [
    "# Divide the data into some 'attributes' (X) and 'labels' (y) aka input and output.\n",
    "X2 = sales[['bedrooms','bathrooms']]\n",
    "y2 = sales['price']"
   ]
  },
  {
   "cell_type": "markdown",
   "metadata": {},
   "source": [
    "# Split data into training and testing"
   ]
  },
  {
   "cell_type": "code",
   "execution_count": null,
   "metadata": {},
   "outputs": [],
   "source": [
    "# Split data set into 80% train and 20% test data \n",
    "X_train, X_test, y_train, y_test = train_test_split(X2, y2, test_size=0.2, random_state=0)\n",
    "# Look at the shape to check the split ratio\n",
    "X_train.shape, X_test.shape, y_train.shape, y_test.shape"
   ]
  },
  {
   "cell_type": "markdown",
   "metadata": {},
   "source": [
    "# Use a pre-build multiple regression function \n",
    "\n"
   ]
  },
  {
   "cell_type": "code",
   "execution_count": null,
   "metadata": {},
   "outputs": [],
   "source": [
    "# Train a Sklearn built-in function\n",
    "reg = LinearRegression()\n",
    "reg.fit(X_train, y_train)"
   ]
  },
  {
   "cell_type": "code",
   "execution_count": null,
   "metadata": {},
   "outputs": [],
   "source": [
    "X_train.columns"
   ]
  },
  {
   "cell_type": "code",
   "execution_count": null,
   "metadata": {},
   "outputs": [],
   "source": [
    "# See intercept and coefficients chosen by the model\n",
    "print('Intercept:', reg.intercept_)\n",
    "coeff_df = pd.DataFrame({'Features': X2.columns, 'Coefficients': reg.coef_}).set_index('Features')\n",
    "coeff_df"
   ]
  },
  {
   "cell_type": "code",
   "execution_count": null,
   "metadata": {},
   "outputs": [],
   "source": [
    "# Do prediction on test data\n",
    "y_pred = reg.predict(X_test)"
   ]
  },
  {
   "cell_type": "code",
   "execution_count": null,
   "metadata": {},
   "outputs": [],
   "source": [
    "# Check differences between actual and predicted value\n",
    "df = pd.DataFrame({'Actual': y_test, 'Predicted': y_pred, 'Difference': y_pred - y_test},\n",
    "                   columns=['Actual', 'Predicted', 'Difference']).astype(int)\n",
    "df.head()"
   ]
  },
  {
   "cell_type": "code",
   "execution_count": null,
   "metadata": {},
   "outputs": [],
   "source": [
    "# Evaluate the performance\n",
    "print('Mean Absolute Error:', metrics.mean_absolute_error(y_test, y_pred))\n",
    "print('Mean Squared Error:', metrics.mean_squared_error(y_test, y_pred))\n",
    "print('Root Mean Squared Error:', np.sqrt(metrics.mean_squared_error(y_test, y_pred)))"
   ]
  },
  {
   "cell_type": "code",
   "execution_count": null,
   "metadata": {},
   "outputs": [],
   "source": [
    "# Performance of the model => r2_score = 1 - (variation unexplained / total variation)\n",
    "# => How much of the variation is explained?\n",
    "from sklearn.metrics import r2_score\n",
    "r2_score(y_test, y_pred)"
   ]
  },
  {
   "cell_type": "markdown",
   "metadata": {},
   "source": [
    "# Check for overfitting"
   ]
  },
  {
   "cell_type": "code",
   "execution_count": null,
   "metadata": {},
   "outputs": [],
   "source": [
    "# If r2 and RMSE in train and test differ dramatically => Overfitting!\n",
    "# => Compare r2 and RSME in Test and Train!\n",
    "\n",
    "# \"Prework\" needed to do the comparison\n",
    "y_pred_train = reg.predict(X_train)\n",
    "y_pred_test = reg.predict(X_test)\n",
    "\n",
    "# => Compare r2 and RSME in Test and Train!\n",
    "print('RSME Train:', np.sqrt(metrics.mean_squared_error(y_train, y_pred_train)))\n",
    "print('RSME Test: ', np.sqrt(metrics.mean_squared_error(y_test, y_pred_test)))\n",
    "print('R-2 Train:', r2_score(y_train, y_pred_train))\n",
    "print('R-2 Test: ', r2_score(y_test, y_pred_test))"
   ]
  },
  {
   "cell_type": "markdown",
   "metadata": {},
   "source": [
    "# For more information on performance evaluation see also\n",
    "* https://en.wikipedia.org/wiki/Mean_absolute_error\n",
    "* https://en.wikipedia.org/wiki/Mean_squared_error\n",
    "* https://en.wikipedia.org/wiki/Root-mean-square_deviation\n",
    "* https://en.wikipedia.org/wiki/Coefficient_of_determination"
   ]
  },
  {
   "cell_type": "code",
   "execution_count": null,
   "metadata": {},
   "outputs": [],
   "source": []
  }
 ],
 "metadata": {
  "kernelspec": {
   "display_name": "Python 3",
   "language": "python",
   "name": "python3"
  },
  "language_info": {
   "codemirror_mode": {
    "name": "ipython",
    "version": 3
   },
   "file_extension": ".py",
   "mimetype": "text/x-python",
   "name": "python",
   "nbconvert_exporter": "python",
   "pygments_lexer": "ipython3",
   "version": "3.9.1"
  }
 },
 "nbformat": 4,
 "nbformat_minor": 1
}
