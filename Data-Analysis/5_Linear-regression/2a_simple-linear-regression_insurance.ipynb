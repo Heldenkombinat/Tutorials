{
 "cells": [
  {
   "cell_type": "markdown",
   "metadata": {},
   "source": [
    "# Simple Linear Regression"
   ]
  },
  {
   "cell_type": "markdown",
   "metadata": {},
   "source": [
    "In this notebook we use a different data set to practice what we have learned so far:\n",
    "* Upload and preprocess the data\n",
    "* Write a function to compute the Simple Linear Regression weights\n",
    "* Write a function to make predictions of the output given the input feature\n",
    "* Compare different models for predicting Insurance expenses\n",
    "\n",
    "Look at the Simple Linear Regression notebook on house data!"
   ]
  },
  {
   "cell_type": "markdown",
   "metadata": {},
   "source": [
    "# Upload and preprocess the data\n",
    "\n",
    "Dataset on insurance data (insurance.csv) is obtained from the Machine Learning course website (Spring 2017) from Professor Eric Suess at http://www.sci.csueastbay.edu/~esuess/stat6620/#week-6."
   ]
  },
  {
   "cell_type": "code",
   "execution_count": null,
   "metadata": {},
   "outputs": [],
   "source": [
    "import pandas as pd\n",
    "data = pd.read_csv('insurance.csv')\n",
    "# Look at the table to check potential features\n",
    "data[:10]"
   ]
  },
  {
   "cell_type": "markdown",
   "metadata": {},
   "source": [
    "# Split data into training and testing"
   ]
  },
  {
   "cell_type": "code",
   "execution_count": null,
   "metadata": {},
   "outputs": [],
   "source": [
    "from sklearn.model_selection import train_test_split\n",
    "# Split data set into 80% train and 20% test data \n",
    "\n",
    "\n",
    "# Look at the shape to check the split ratio\n",
    "\n"
   ]
  },
  {
   "cell_type": "markdown",
   "metadata": {},
   "source": [
    "# Compute average prices and sum of squares"
   ]
  },
  {
   "cell_type": "code",
   "execution_count": null,
   "metadata": {},
   "outputs": [],
   "source": [
    "# The average expense can be computed in two different ways. First get the expenses:\n",
    "\n",
    "\n",
    "# The arithmetic average (the mean) is the sum of the expenses divided by the total number of entries:\n",
    "\n",
    "\n",
    "# There is already a mean function that we can use\n",
    "\n",
    "\n",
    "#print('Average expense via arithmetic average: ' + str(avg_expense_1))\n",
    "#print('Average expense via mean function: ' + str(avg_expense_2))"
   ]
  },
  {
   "cell_type": "markdown",
   "metadata": {},
   "source": [
    "As we see both ways led to the same result"
   ]
  },
  {
   "cell_type": "code",
   "execution_count": null,
   "metadata": {},
   "outputs": [],
   "source": [
    "# Let's compute the sum of squares of expenses.\n",
    "\n",
    "\n",
    "#print('The sum of expenses squared is: ' + str(sum_expenses_squared))"
   ]
  },
  {
   "cell_type": "markdown",
   "metadata": {},
   "source": [
    "# Build a generic simple linear regression function "
   ]
  },
  {
   "cell_type": "markdown",
   "metadata": {},
   "source": [
    "Let's build a closed form solution (function) to compute the slope and intercept for a simple linear regression."
   ]
  },
  {
   "cell_type": "code",
   "execution_count": null,
   "metadata": {},
   "outputs": [],
   "source": [
    "def simple_linear_regression(input_feature, output):\n",
    "    n = len(input_feature)\n",
    "    # compute the sum of input_feature and output\n",
    "    x_sum = input_feature.sum()\n",
    "    y_sum = output.sum()\n",
    "    # compute the product of the output and the input_feature and its sum\n",
    "    xy = input_feature * output\n",
    "    xy_sum = xy.sum()\n",
    "    # compute the squared value of the input_feature and its sum\n",
    "    x_squared = input_feature * input_feature\n",
    "    x_squared_sum = x_squared.sum()\n",
    "    # use the formula for the slope\n",
    "    slope = (xy_sum - x_sum * y_sum / n) / (x_squared_sum - x_sum * x_sum / n)\n",
    "    # use the formula for the intercept\n",
    "    intercept = y_sum / n - slope * x_sum / n\n",
    "    return (intercept, slope)"
   ]
  },
  {
   "cell_type": "markdown",
   "metadata": {},
   "source": [
    "Now let's use that function of a simple regression model for predicting expenses based on bmi - rembember that we train on train_data!"
   ]
  },
  {
   "cell_type": "code",
   "execution_count": null,
   "metadata": {},
   "outputs": [],
   "source": [
    "# Your code here...\n",
    "\n",
    "#print('Intercept: ' + str(bmi_intercept))\n",
    "#print('Slope: ' + str(bmi_slope))"
   ]
  },
  {
   "cell_type": "markdown",
   "metadata": {},
   "source": [
    "# Predicting values"
   ]
  },
  {
   "cell_type": "markdown",
   "metadata": {},
   "source": [
    "With the model parameters 'intercept & slope' we can now write a function to return the predicted output - given the input_feature, slope and intercept:"
   ]
  },
  {
   "cell_type": "code",
   "execution_count": null,
   "metadata": {},
   "outputs": [],
   "source": [
    "def get_regression_predictions(input_feature, intercept, slope):\n",
    "    # calculate the predicted values:\n",
    "    predicted_values = intercept + input_feature * slope\n",
    "    return predicted_values"
   ]
  },
  {
   "cell_type": "markdown",
   "metadata": {},
   "source": [
    "Now that we have this function let's make a prediction. \n",
    "\n",
    "* What is the estimated expense for an entry according to the bmi model we estimated above?"
   ]
  },
  {
   "cell_type": "code",
   "execution_count": null,
   "metadata": {},
   "outputs": [],
   "source": [
    "my_bmi = 23\n",
    "\n",
    "\n",
    "#print('The estimated expense for a bmi of %d is $%.2f' % (my_bmi, estimated_expense))"
   ]
  },
  {
   "cell_type": "markdown",
   "metadata": {},
   "source": [
    "# Additional Task: For Loops"
   ]
  },
  {
   "cell_type": "code",
   "execution_count": null,
   "metadata": {},
   "outputs": [],
   "source": [
    "# Simple concept of a for loop with range command\n",
    "for i in range(1, 8):\n",
    "    print(i, i ** 2)\n",
    "print('end of loop')"
   ]
  },
  {
   "cell_type": "markdown",
   "metadata": {},
   "source": [
    "## Adapt this to get the respective expenses for bmi in the range of 20 to 40 with stepsize 1"
   ]
  },
  {
   "cell_type": "code",
   "execution_count": null,
   "metadata": {},
   "outputs": [],
   "source": [
    "# Your code here..."
   ]
  },
  {
   "cell_type": "markdown",
   "metadata": {},
   "source": [
    "## Adapt this to get the respective expenses for bmi in the range of 10 to 40 with stepsize 5"
   ]
  },
  {
   "cell_type": "code",
   "execution_count": null,
   "metadata": {},
   "outputs": [],
   "source": [
    "# Your code here..."
   ]
  },
  {
   "cell_type": "markdown",
   "metadata": {},
   "source": [
    "# Your individual task 1: Build models for other features!"
   ]
  },
  {
   "cell_type": "markdown",
   "metadata": {},
   "source": [
    "Answer the following questions by applying what you have learned so far:\n",
    "\n",
    "* What is the estimated expense for an entry at age 36?\n",
    "* What is the estimated expense for an entry 2 children?\n",
    "\n",
    "Go through the entire notebook first and think: What can be reused and what needs to be changed? (15min)\n",
    "\n",
    "=> Present your thoughts to the group!\n",
    "\n",
    "Now add more code and variables where needed! (45min)\n",
    "\n",
    "=> Present your code to the group!\n"
   ]
  },
  {
   "cell_type": "code",
   "execution_count": null,
   "metadata": {},
   "outputs": [],
   "source": [
    "# Your code here..."
   ]
  },
  {
   "cell_type": "markdown",
   "metadata": {},
   "source": [
    "# Residual Sum of Squares"
   ]
  },
  {
   "cell_type": "markdown",
   "metadata": {},
   "source": [
    "Now we want to evaluate our models using Residual Sum of Squares (RSS) via a function. \n",
    "\n",
    "Recall that RSS is the sum of the squares of the residuals and the residuals are the respective differences between the predicted output and the true output. "
   ]
  },
  {
   "cell_type": "code",
   "execution_count": null,
   "metadata": {},
   "outputs": [],
   "source": [
    "def get_residual_sum_of_squares(input_feature, output, intercept, slope):\n",
    "    # First get the predictions\n",
    "    predicted_output = get_regression_predictions(input_feature, intercept, slope)\n",
    "    # Compute the residuals (since we are squaring it doesn't matter which order you subtract)\n",
    "    residuals = predicted_output - output\n",
    "    # Square the residuals and add them up\n",
    "    residuals_squared = residuals * residuals\n",
    "    RSS = residuals_squared.sum()\n",
    "    return(RSS)"
   ]
  },
  {
   "cell_type": "markdown",
   "metadata": {},
   "source": [
    "Now let's use the function to calculate the RSS on training data from the bmi model calculated above."
   ]
  },
  {
   "cell_type": "code",
   "execution_count": null,
   "metadata": {},
   "outputs": [],
   "source": [
    "# Your code here...\n",
    "\n",
    "#print('The RSS of predicting expenses based on bmi is : ' + str(rss_expenses_on_bmi_train))"
   ]
  },
  {
   "cell_type": "markdown",
   "metadata": {},
   "source": [
    "# Your individual task 2: Test your Linear Regression algorithm"
   ]
  },
  {
   "cell_type": "markdown",
   "metadata": {},
   "source": [
    "If we have more models for predicting the expenses of an entry, how do we know which one is better? \n",
    "\n",
    "Calculate the RSS on the TEST data (remember this data wasn't involved in learning the model) and identify which model works best:\n",
    "\n",
    "* Simple Linear Regression on bmi?\n",
    "* Simple Linear Regression on age?\n",
    "* Simple Linear Regression on # children?\n",
    "\n",
    "(45min)"
   ]
  },
  {
   "cell_type": "code",
   "execution_count": null,
   "metadata": {},
   "outputs": [],
   "source": [
    "# Compute RSS when using Square Feet (living) on TEST data:\n",
    "\n",
    "\n",
    "#print('The test data RSS of predicting expenses based on bmi is: ' + str(rss_expenses_on_bmi_test))"
   ]
  },
  {
   "cell_type": "code",
   "execution_count": null,
   "metadata": {},
   "outputs": [],
   "source": []
  },
  {
   "cell_type": "code",
   "execution_count": null,
   "metadata": {},
   "outputs": [],
   "source": []
  }
 ],
 "metadata": {
  "kernelspec": {
   "display_name": "Python 3 (ipykernel)",
   "language": "python",
   "name": "python3"
  },
  "language_info": {
   "codemirror_mode": {
    "name": "ipython",
    "version": 3
   },
   "file_extension": ".py",
   "mimetype": "text/x-python",
   "name": "python",
   "nbconvert_exporter": "python",
   "pygments_lexer": "ipython3",
   "version": "3.9.12"
  }
 },
 "nbformat": 4,
 "nbformat_minor": 1
}
