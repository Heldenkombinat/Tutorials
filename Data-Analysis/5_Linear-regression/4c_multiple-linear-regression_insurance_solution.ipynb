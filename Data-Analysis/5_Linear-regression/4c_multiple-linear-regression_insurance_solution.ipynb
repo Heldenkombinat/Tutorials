{
 "cells": [
  {
   "cell_type": "markdown",
   "metadata": {},
   "source": [
    "# Multipe Regression\n",
    "\n",
    "In this notebook we use a different data set to practice what we have learned so far:\n",
    "* Upload and preprocess the data\n",
    "* Write a function to compute the Multiple Regression weights\n",
    "* Write a function to make predictions of the output given the input feature\n",
    "* Compare different models for predicting the output\n",
    "\n",
    "Look at the Multiple Regression notebook on insurance data!"
   ]
  },
  {
   "cell_type": "markdown",
   "metadata": {},
   "source": [
    "# Import all required libraries"
   ]
  },
  {
   "cell_type": "code",
   "execution_count": null,
   "metadata": {},
   "outputs": [],
   "source": [
    "import pandas as pd\n",
    "import numpy as np\n",
    "import matplotlib.pyplot as plt\n",
    "from sklearn.model_selection import train_test_split\n",
    "from sklearn.linear_model import LinearRegression\n",
    "from sklearn import metrics\n",
    "%matplotlib inline"
   ]
  },
  {
   "cell_type": "markdown",
   "metadata": {},
   "source": [
    "# Upload, preprocess and check the data\n",
    "\n",
    "Dataset on insurance data (insurance.csv) is obtained from the Machine Learning course website (Spring 2017) from Professor Eric Suess at http://www.sci.csueastbay.edu/~esuess/stat6620/#week-6."
   ]
  },
  {
   "cell_type": "code",
   "execution_count": null,
   "metadata": {},
   "outputs": [],
   "source": [
    "# Import dataset\n",
    "data = pd.read_csv('insurance.csv')\n",
    "\n",
    "# Look at the table to check potential features\n",
    "data[:10]"
   ]
  },
  {
   "cell_type": "code",
   "execution_count": null,
   "metadata": {},
   "outputs": [],
   "source": [
    "# Check if the dataset contains NaN values\n",
    "data.isnull().any()"
   ]
  },
  {
   "cell_type": "code",
   "execution_count": null,
   "metadata": {},
   "outputs": [],
   "source": [
    "# Check some statistics of the data\n",
    "data.describe()"
   ]
  },
  {
   "cell_type": "code",
   "execution_count": null,
   "metadata": {},
   "outputs": [],
   "source": [
    "# Plot Scatter Matrix for relevant variables\n",
    "plot_data_new = data[['expenses', 'age', 'bmi', 'children']] \n",
    "from pandas.plotting import scatter_matrix\n",
    "sm = scatter_matrix(plot_data_new, figsize = (10,10))"
   ]
  },
  {
   "cell_type": "code",
   "execution_count": null,
   "metadata": {},
   "outputs": [],
   "source": [
    "# Plot some feature relations\n",
    "data.plot(x='age', y='expenses', style='o')\n",
    "plt.title('expenses vs. age')\n",
    "plt.xlabel('age')\n",
    "plt.ylabel('expenses')\n",
    "plt.show()"
   ]
  },
  {
   "cell_type": "code",
   "execution_count": null,
   "metadata": {},
   "outputs": [],
   "source": [
    "# Plot some feature relations\n",
    "data.plot(x='children', y='expenses', style='o')\n",
    "plt.title('expenses vs. children')\n",
    "plt.xlabel('children')\n",
    "plt.ylabel('expenses')\n",
    "plt.show()"
   ]
  },
  {
   "cell_type": "code",
   "execution_count": null,
   "metadata": {},
   "outputs": [],
   "source": [
    "# Plot some feature relations\n",
    "data.plot(x='bmi', y='expenses', style='o')\n",
    "plt.title('expenses vs. bmi')\n",
    "plt.xlabel('bmi')\n",
    "plt.ylabel('expenses')\n",
    "plt.show()"
   ]
  },
  {
   "cell_type": "code",
   "execution_count": null,
   "metadata": {},
   "outputs": [],
   "source": [
    "# Divide the data into some 'attributes' (X) and 'labels' (y).\n",
    "X = data[['bmi','children', 'age']]\n",
    "y = data['expenses']"
   ]
  },
  {
   "cell_type": "markdown",
   "metadata": {},
   "source": [
    "# Split data into training and testing"
   ]
  },
  {
   "cell_type": "code",
   "execution_count": null,
   "metadata": {},
   "outputs": [],
   "source": [
    "# Split data set into 80% train and 20% test data \n",
    "X_train, X_test, y_train, y_test = train_test_split(X, y, test_size=0.2, random_state=0)\n",
    "# Look at the shape to check the split ratio\n",
    "X_train.shape, X_test.shape, y_train.shape, y_test.shape"
   ]
  },
  {
   "cell_type": "markdown",
   "metadata": {},
   "source": [
    "# Use a pre-build multiple regression function \n",
    "\n"
   ]
  },
  {
   "cell_type": "code",
   "execution_count": null,
   "metadata": {},
   "outputs": [],
   "source": [
    "# Train a Sklearn built-in function\n",
    "reg = LinearRegression()\n",
    "reg.fit(X_train, y_train)"
   ]
  },
  {
   "cell_type": "code",
   "execution_count": null,
   "metadata": {},
   "outputs": [],
   "source": [
    "X.columns"
   ]
  },
  {
   "cell_type": "code",
   "execution_count": null,
   "metadata": {},
   "outputs": [],
   "source": [
    "# See intercept and coefficients chosen by the model\n",
    "\n",
    "print('Intercept:', reg.intercept_)\n",
    "coeff_df = pd.DataFrame({'Features': X.columns, 'Coefficients': reg.coef_}).set_index('Features')\n",
    "coeff_df"
   ]
  },
  {
   "cell_type": "code",
   "execution_count": null,
   "metadata": {},
   "outputs": [],
   "source": [
    "# Do prediction on test data\n",
    "y_pred = reg.predict(X_test)"
   ]
  },
  {
   "cell_type": "code",
   "execution_count": null,
   "metadata": {},
   "outputs": [],
   "source": [
    "# Check differences between actual and predicted value\n",
    "df = pd.DataFrame({'Actual': y_test, 'Predicted': y_pred, 'Difference': y_pred - y_test},\n",
    "                   columns=['Actual', 'Predicted', 'Difference']).astype(int)\n",
    "df.head()"
   ]
  },
  {
   "cell_type": "code",
   "execution_count": null,
   "metadata": {},
   "outputs": [],
   "source": [
    "# Evaluate the performance\n",
    "print('Mean Absolute Error:', metrics.mean_absolute_error(y_test, y_pred))\n",
    "print('Mean Squared Error:', metrics.mean_squared_error(y_test, y_pred))\n",
    "print('Root Mean Squared Error:', np.sqrt(metrics.mean_squared_error(y_test, y_pred)))"
   ]
  },
  {
   "cell_type": "markdown",
   "metadata": {},
   "source": [
    "# Check for overfitting"
   ]
  },
  {
   "cell_type": "code",
   "execution_count": null,
   "metadata": {},
   "outputs": [],
   "source": [
    "# If r2 and RMSE in train and test differ dramatically => Overfitting!\n",
    "# => Compare r2 and RSME in Test and Train!\n",
    "\n",
    "# \"Prework\" needed to do the comparison\n",
    "y_pred_train = reg.predict(X_train)\n",
    "y_pred_test = reg.predict(X_test)\n",
    "from sklearn.metrics import r2_score\n",
    "\n",
    "# => Compare r2 and RSME in Test and Train!\n",
    "print('RSME Train:', np.sqrt(metrics.mean_squared_error(y_train, y_pred_train)))\n",
    "print('RSME Test: ', np.sqrt(metrics.mean_squared_error(y_test, y_pred_test)))\n",
    "print('R-2 Train:', r2_score(y_train, y_pred_train))\n",
    "print('R-2 Test: ', r2_score(y_test, y_pred_test))"
   ]
  },
  {
   "cell_type": "markdown",
   "metadata": {},
   "source": [
    "# Additional task: What is the best combination of input features showing the least MSE\n",
    "## (1) bmi + age + children\n",
    "## (2) bmi + age\n",
    "## (3) bmi + children\n",
    "## (4) age + children"
   ]
  },
  {
   "cell_type": "markdown",
   "metadata": {},
   "source": [
    "# For more information on performance evaluation see also\n",
    "* https://en.wikipedia.org/wiki/Mean_absolute_error\n",
    "* https://en.wikipedia.org/wiki/Mean_squared_error\n",
    "* https://en.wikipedia.org/wiki/Root-mean-square_deviation"
   ]
  },
  {
   "cell_type": "code",
   "execution_count": null,
   "metadata": {},
   "outputs": [],
   "source": []
  }
 ],
 "metadata": {
  "kernelspec": {
   "display_name": "Python 3 (ipykernel)",
   "language": "python",
   "name": "python3"
  },
  "language_info": {
   "codemirror_mode": {
    "name": "ipython",
    "version": 3
   },
   "file_extension": ".py",
   "mimetype": "text/x-python",
   "name": "python",
   "nbconvert_exporter": "python",
   "pygments_lexer": "ipython3",
   "version": "3.9.12"
  }
 },
 "nbformat": 4,
 "nbformat_minor": 1
}
