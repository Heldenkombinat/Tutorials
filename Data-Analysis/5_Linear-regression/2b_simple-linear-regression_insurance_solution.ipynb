{
 "cells": [
  {
   "cell_type": "markdown",
   "metadata": {},
   "source": [
    "# Simple Linear Regression (For Loop)"
   ]
  },
  {
   "cell_type": "markdown",
   "metadata": {},
   "source": [
    "In this notebook we use a different data set to practice what we have learned so far:\n",
    "* Upload and preprocess the data\n",
    "* Write a function to compute the Simple Linear Regression weights\n",
    "* Write a function to make predictions of the output given the input feature\n",
    "* Compare different models for predicting house prices"
   ]
  },
  {
   "cell_type": "markdown",
   "metadata": {},
   "source": [
    "# Upload and preprocess the data\n",
    "\n",
    "Dataset on insurance data (insurance.csv) is obtained from the Machine Learning course website (Spring 2017) from Professor Eric Suess at http://www.sci.csueastbay.edu/~esuess/stat6620/#week-6."
   ]
  },
  {
   "cell_type": "code",
   "execution_count": 1,
   "metadata": {},
   "outputs": [
    {
     "data": {
      "text/html": [
       "<div>\n",
       "<style scoped>\n",
       "    .dataframe tbody tr th:only-of-type {\n",
       "        vertical-align: middle;\n",
       "    }\n",
       "\n",
       "    .dataframe tbody tr th {\n",
       "        vertical-align: top;\n",
       "    }\n",
       "\n",
       "    .dataframe thead th {\n",
       "        text-align: right;\n",
       "    }\n",
       "</style>\n",
       "<table border=\"1\" class=\"dataframe\">\n",
       "  <thead>\n",
       "    <tr style=\"text-align: right;\">\n",
       "      <th></th>\n",
       "      <th>age</th>\n",
       "      <th>sex</th>\n",
       "      <th>bmi</th>\n",
       "      <th>children</th>\n",
       "      <th>smoker</th>\n",
       "      <th>region</th>\n",
       "      <th>expenses</th>\n",
       "    </tr>\n",
       "  </thead>\n",
       "  <tbody>\n",
       "    <tr>\n",
       "      <th>0</th>\n",
       "      <td>19</td>\n",
       "      <td>female</td>\n",
       "      <td>27.9</td>\n",
       "      <td>0</td>\n",
       "      <td>yes</td>\n",
       "      <td>southwest</td>\n",
       "      <td>16884.92</td>\n",
       "    </tr>\n",
       "    <tr>\n",
       "      <th>1</th>\n",
       "      <td>18</td>\n",
       "      <td>male</td>\n",
       "      <td>33.8</td>\n",
       "      <td>1</td>\n",
       "      <td>no</td>\n",
       "      <td>southeast</td>\n",
       "      <td>1725.55</td>\n",
       "    </tr>\n",
       "    <tr>\n",
       "      <th>2</th>\n",
       "      <td>28</td>\n",
       "      <td>male</td>\n",
       "      <td>33.0</td>\n",
       "      <td>3</td>\n",
       "      <td>no</td>\n",
       "      <td>southeast</td>\n",
       "      <td>4449.46</td>\n",
       "    </tr>\n",
       "    <tr>\n",
       "      <th>3</th>\n",
       "      <td>33</td>\n",
       "      <td>male</td>\n",
       "      <td>22.7</td>\n",
       "      <td>0</td>\n",
       "      <td>no</td>\n",
       "      <td>northwest</td>\n",
       "      <td>21984.47</td>\n",
       "    </tr>\n",
       "    <tr>\n",
       "      <th>4</th>\n",
       "      <td>32</td>\n",
       "      <td>male</td>\n",
       "      <td>28.9</td>\n",
       "      <td>0</td>\n",
       "      <td>no</td>\n",
       "      <td>northwest</td>\n",
       "      <td>3866.86</td>\n",
       "    </tr>\n",
       "    <tr>\n",
       "      <th>5</th>\n",
       "      <td>31</td>\n",
       "      <td>female</td>\n",
       "      <td>25.7</td>\n",
       "      <td>0</td>\n",
       "      <td>no</td>\n",
       "      <td>southeast</td>\n",
       "      <td>3756.62</td>\n",
       "    </tr>\n",
       "    <tr>\n",
       "      <th>6</th>\n",
       "      <td>46</td>\n",
       "      <td>female</td>\n",
       "      <td>33.4</td>\n",
       "      <td>1</td>\n",
       "      <td>no</td>\n",
       "      <td>southeast</td>\n",
       "      <td>8240.59</td>\n",
       "    </tr>\n",
       "    <tr>\n",
       "      <th>7</th>\n",
       "      <td>37</td>\n",
       "      <td>female</td>\n",
       "      <td>27.7</td>\n",
       "      <td>3</td>\n",
       "      <td>no</td>\n",
       "      <td>northwest</td>\n",
       "      <td>7281.51</td>\n",
       "    </tr>\n",
       "    <tr>\n",
       "      <th>8</th>\n",
       "      <td>37</td>\n",
       "      <td>male</td>\n",
       "      <td>29.8</td>\n",
       "      <td>2</td>\n",
       "      <td>no</td>\n",
       "      <td>northeast</td>\n",
       "      <td>6406.41</td>\n",
       "    </tr>\n",
       "    <tr>\n",
       "      <th>9</th>\n",
       "      <td>60</td>\n",
       "      <td>female</td>\n",
       "      <td>25.8</td>\n",
       "      <td>0</td>\n",
       "      <td>no</td>\n",
       "      <td>northwest</td>\n",
       "      <td>28923.14</td>\n",
       "    </tr>\n",
       "  </tbody>\n",
       "</table>\n",
       "</div>"
      ],
      "text/plain": [
       "   age     sex   bmi  children smoker     region  expenses\n",
       "0   19  female  27.9         0    yes  southwest  16884.92\n",
       "1   18    male  33.8         1     no  southeast   1725.55\n",
       "2   28    male  33.0         3     no  southeast   4449.46\n",
       "3   33    male  22.7         0     no  northwest  21984.47\n",
       "4   32    male  28.9         0     no  northwest   3866.86\n",
       "5   31  female  25.7         0     no  southeast   3756.62\n",
       "6   46  female  33.4         1     no  southeast   8240.59\n",
       "7   37  female  27.7         3     no  northwest   7281.51\n",
       "8   37    male  29.8         2     no  northeast   6406.41\n",
       "9   60  female  25.8         0     no  northwest  28923.14"
      ]
     },
     "execution_count": 1,
     "metadata": {},
     "output_type": "execute_result"
    }
   ],
   "source": [
    "import pandas as pd\n",
    "data = pd.read_csv('insurance.csv')\n",
    "# Look at the table to check potential features\n",
    "data[:10]"
   ]
  },
  {
   "cell_type": "markdown",
   "metadata": {},
   "source": [
    "# Split data into training and testing"
   ]
  },
  {
   "cell_type": "code",
   "execution_count": 2,
   "metadata": {},
   "outputs": [
    {
     "data": {
      "text/plain": [
       "((1070, 7), (268, 7))"
      ]
     },
     "execution_count": 2,
     "metadata": {},
     "output_type": "execute_result"
    }
   ],
   "source": [
    "from sklearn.model_selection import train_test_split\n",
    "# Split data set into 80% train and 20% test data \n",
    "train_data, test_data = train_test_split(data, test_size=0.2, random_state=42)\n",
    "# Look at the shape to check the split ratio\n",
    "train_data.shape, test_data.shape"
   ]
  },
  {
   "cell_type": "markdown",
   "metadata": {},
   "source": [
    "# Compute average prices and sum of squares"
   ]
  },
  {
   "cell_type": "code",
   "execution_count": 3,
   "metadata": {},
   "outputs": [
    {
     "name": "stdout",
     "output_type": "stream",
     "text": [
      "Average expense via arithmetic average: 13346.089869158879\n",
      "Average expense via mean function: 13346.089869158879\n"
     ]
    }
   ],
   "source": [
    "# The average expense can be computed in two different ways. First get the expenses:\n",
    "expenses = train_data['expenses'] # extract the expense column\n",
    "\n",
    "# The arithmetic average (the mean) is the sum of the expenses divided by the total number of entries:\n",
    "sum_expenses = expenses.sum()\n",
    "num_entries = len(expenses)\n",
    "avg_expense_1 = sum_expenses / num_entries\n",
    "\n",
    "# There is already a mean function that we can use\n",
    "avg_expense_2 = expenses.mean()\n",
    "\n",
    "print('Average expense via arithmetic average: ' + str(avg_expense_1))\n",
    "print('Average expense via mean function: ' + str(avg_expense_2))"
   ]
  },
  {
   "cell_type": "markdown",
   "metadata": {},
   "source": [
    "As we see both ways led to the same result"
   ]
  },
  {
   "cell_type": "code",
   "execution_count": 4,
   "metadata": {},
   "outputs": [
    {
     "name": "stdout",
     "output_type": "stream",
     "text": [
      "The sum of expenses squared is: 345023357811.3642\n"
     ]
    }
   ],
   "source": [
    "# Let's compute the sum of squares of expenses.\n",
    "expenses_squared = expenses*expenses\n",
    "sum_expenses_squared = expenses_squared.sum()\n",
    "print('The sum of expenses squared is: ' + str(sum_expenses_squared))"
   ]
  },
  {
   "cell_type": "markdown",
   "metadata": {},
   "source": [
    "# Build a generic simple linear regression function "
   ]
  },
  {
   "cell_type": "markdown",
   "metadata": {},
   "source": [
    "Let's build a closed form solution (function) to compute the slope and intercept for a simple linear regression."
   ]
  },
  {
   "cell_type": "code",
   "execution_count": 5,
   "metadata": {},
   "outputs": [],
   "source": [
    "def simple_linear_regression(input_feature, output):\n",
    "    n = len(input_feature)\n",
    "    # compute the sum of input_feature and output\n",
    "    x_sum = input_feature.sum()\n",
    "    y_sum = output.sum()\n",
    "    # compute the product of the output and the input_feature and its sum\n",
    "    xy = input_feature * output\n",
    "    xy_sum = xy.sum()\n",
    "    # compute the squared value of the input_feature and its sum\n",
    "    x_squared = input_feature * input_feature\n",
    "    x_squared_sum = x_squared.sum()\n",
    "    # use the formula for the slope\n",
    "    slope = (xy_sum - x_sum * y_sum / n) / (x_squared_sum - x_sum * x_sum / n)\n",
    "    # use the formula for the intercept\n",
    "    intercept = y_sum / n - slope * x_sum / n\n",
    "    return (intercept, slope)"
   ]
  },
  {
   "cell_type": "markdown",
   "metadata": {},
   "source": [
    "Now let's use that function of a simple regression model for predicting expenses based on bmi - rembember that we train on train_data!"
   ]
  },
  {
   "cell_type": "code",
   "execution_count": 6,
   "metadata": {},
   "outputs": [
    {
     "name": "stdout",
     "output_type": "stream",
     "text": [
      "Intercept: 1338.9995321143706\n",
      "Slope: 392.8745366615484\n"
     ]
    }
   ],
   "source": [
    "bmi_intercept, bmi_slope = simple_linear_regression(train_data['bmi'], train_data['expenses'])\n",
    "\n",
    "print('Intercept: ' + str(bmi_intercept))\n",
    "print('Slope: ' + str(bmi_slope))"
   ]
  },
  {
   "cell_type": "markdown",
   "metadata": {},
   "source": [
    "# Predicting values"
   ]
  },
  {
   "cell_type": "markdown",
   "metadata": {},
   "source": [
    "With the model parameters 'intercept & slope' we can now write a function to return the predicted output - given the input_feature, slope and intercept:"
   ]
  },
  {
   "cell_type": "code",
   "execution_count": 7,
   "metadata": {},
   "outputs": [],
   "source": [
    "def get_regression_predictions(input_feature, intercept, slope):\n",
    "    # calculate the predicted values:\n",
    "    predicted_values = intercept + input_feature * slope\n",
    "    return predicted_values"
   ]
  },
  {
   "cell_type": "markdown",
   "metadata": {},
   "source": [
    "Now that we have this function let's make a prediction. \n",
    "\n",
    "* What is the estimated expense for an entry according to the bmi model we estiamted above?"
   ]
  },
  {
   "cell_type": "code",
   "execution_count": 8,
   "metadata": {},
   "outputs": [
    {
     "name": "stdout",
     "output_type": "stream",
     "text": [
      "The estimated expense for a bmi of 23 is $10375.11\n"
     ]
    }
   ],
   "source": [
    "my_bmi = 23\n",
    "estimated_expense = get_regression_predictions(my_bmi, \n",
    "                                             bmi_intercept, \n",
    "                                             bmi_slope)\n",
    "\n",
    "print('The estimated expense for a bmi of %d is $%.2f' % (my_bmi, estimated_expense))"
   ]
  },
  {
   "cell_type": "markdown",
   "metadata": {},
   "source": [
    "# Additional Task: For Loops"
   ]
  },
  {
   "cell_type": "code",
   "execution_count": 9,
   "metadata": {},
   "outputs": [
    {
     "name": "stdout",
     "output_type": "stream",
     "text": [
      "1 1\n",
      "2 4\n",
      "3 9\n",
      "4 16\n",
      "5 25\n",
      "6 36\n",
      "7 49\n",
      "end of loop\n"
     ]
    }
   ],
   "source": [
    "# Simple concept of a for loop with range command\n",
    "for i in range(1, 8):\n",
    "    print(i, i ** 2)\n",
    "print('end of loop')"
   ]
  },
  {
   "cell_type": "markdown",
   "metadata": {},
   "source": [
    "## Adapt this to get the respective expenses for bmi in the range of 20 to 40 with stepsize 1"
   ]
  },
  {
   "cell_type": "code",
   "execution_count": 10,
   "metadata": {},
   "outputs": [
    {
     "name": "stdout",
     "output_type": "stream",
     "text": [
      "The estimated expense for a bmi of 20 is $9196.49\n",
      "The estimated expense for a bmi of 21 is $9589.36\n",
      "The estimated expense for a bmi of 22 is $9982.24\n",
      "The estimated expense for a bmi of 23 is $10375.11\n",
      "The estimated expense for a bmi of 24 is $10767.99\n",
      "The estimated expense for a bmi of 25 is $11160.86\n",
      "The estimated expense for a bmi of 26 is $11553.74\n",
      "The estimated expense for a bmi of 27 is $11946.61\n",
      "The estimated expense for a bmi of 28 is $12339.49\n",
      "The estimated expense for a bmi of 29 is $12732.36\n",
      "The estimated expense for a bmi of 30 is $13125.24\n",
      "The estimated expense for a bmi of 31 is $13518.11\n",
      "The estimated expense for a bmi of 32 is $13910.98\n",
      "The estimated expense for a bmi of 33 is $14303.86\n",
      "The estimated expense for a bmi of 34 is $14696.73\n",
      "The estimated expense for a bmi of 35 is $15089.61\n",
      "The estimated expense for a bmi of 36 is $15482.48\n",
      "The estimated expense for a bmi of 37 is $15875.36\n",
      "The estimated expense for a bmi of 38 is $16268.23\n",
      "The estimated expense for a bmi of 39 is $16661.11\n",
      "The estimated expense for a bmi of 40 is $17053.98\n"
     ]
    }
   ],
   "source": [
    "for i in range(20, 41):\n",
    "    my_bmi = i\n",
    "    estimated_expense = get_regression_predictions(my_bmi, \n",
    "                                             bmi_intercept, \n",
    "                                             bmi_slope)\n",
    "\n",
    "    print('The estimated expense for a bmi of %d is $%.2f' % (my_bmi, estimated_expense))"
   ]
  },
  {
   "cell_type": "markdown",
   "metadata": {},
   "source": [
    "## Adapt this to get the respective expenses for bmi in the range of 10 to 40 with stepsize 5"
   ]
  },
  {
   "cell_type": "code",
   "execution_count": 11,
   "metadata": {},
   "outputs": [
    {
     "name": "stdout",
     "output_type": "stream",
     "text": [
      "The estimated expense for a bmi of 10 is $5267.74\n",
      "The estimated expense for a bmi of 15 is $7232.12\n",
      "The estimated expense for a bmi of 20 is $9196.49\n",
      "The estimated expense for a bmi of 25 is $11160.86\n",
      "The estimated expense for a bmi of 30 is $13125.24\n",
      "The estimated expense for a bmi of 35 is $15089.61\n",
      "The estimated expense for a bmi of 40 is $17053.98\n"
     ]
    }
   ],
   "source": [
    "for i in range(2, 9):\n",
    "    my_bmi = i*5\n",
    "    estimated_expense = get_regression_predictions(my_bmi, \n",
    "                                             bmi_intercept, \n",
    "                                             bmi_slope)\n",
    "\n",
    "    print('The estimated expense for a bmi of %d is $%.2f' % (my_bmi, estimated_expense))"
   ]
  },
  {
   "cell_type": "markdown",
   "metadata": {},
   "source": [
    "# Your individual task 1: Build models for other features!"
   ]
  },
  {
   "cell_type": "markdown",
   "metadata": {},
   "source": [
    "Answer the following questions by applying what you have learned so far:\n",
    "\n",
    "* What is the estimated expense for an entry at age 36?\n",
    "* What is the estimated expense for an entry 2 children?\n",
    "\n",
    "Go through the entire notebook first and think: What can be reused and what needs to be changed? (15min)\n",
    "\n",
    "=> Present your thoughts to the group!\n",
    "\n",
    "Now add more code and variables where needed! (45min)\n",
    "\n",
    "=> Present your code to the group!\n"
   ]
  },
  {
   "cell_type": "code",
   "execution_count": 12,
   "metadata": {},
   "outputs": [
    {
     "data": {
      "image/png": "[encoded data removed]",
      "text/plain": [
       "<Figure size 432x288 with 1 Axes>"
      ]
     },
     "metadata": {
      "needs_background": "light"
     },
     "output_type": "display_data"
    }
   ],
   "source": [
    "# Your code here...\n",
    "import matplotlib.pyplot as plt\n",
    "import numpy as np\n",
    "\n",
    "def get_regression_predictions(input_feature, intercept, slope):\n",
    "    # calculate the predicted values:\n",
    "    predicted_values = intercept + slope * input_feature\n",
    "    return predicted_values\n",
    "\n",
    "def plot_function(intercept, slope):\n",
    "    axes = plt.gca() # get current axes\n",
    "    x_vals = train_data['bmi']\n",
    "    y_vals = get_regression_predictions(train_data['bmi'], intercept, slope)\n",
    "    plt.plot(x_vals, y_vals, 'r-')\n",
    "    \n",
    "# Plot some feature relations\n",
    "\n",
    "data.plot(x='bmi', y='expenses', style='o')\n",
    "plt.title('expenses vs. bmi')\n",
    "plot_function(bmi_intercept, bmi_slope)\n",
    "plt.xlabel('bmi')\n",
    "plt.ylabel('expenses')\n",
    "plt.show()"
   ]
  },
  {
   "cell_type": "code",
   "execution_count": 13,
   "metadata": {},
   "outputs": [
    {
     "data": {
      "image/png": "[encoded data removed]",
      "text/plain": [
       "<Figure size 432x288 with 1 Axes>"
      ]
     },
     "metadata": {
      "needs_background": "light"
     },
     "output_type": "display_data"
    }
   ],
   "source": [
    "import matplotlib.pyplot as plt\n",
    "data.plot(x='age', y='expenses', style='o')\n",
    "plt.title('expenses vs. age')\n",
    "plt.xlabel('age')\n",
    "plt.ylabel('expenses')\n",
    "plt.show()"
   ]
  },
  {
   "cell_type": "code",
   "execution_count": 14,
   "metadata": {},
   "outputs": [
    {
     "data": {
      "image/png": "[encoded data removed]",
      "text/plain": [
       "<Figure size 432x288 with 1 Axes>"
      ]
     },
     "metadata": {
      "needs_background": "light"
     },
     "output_type": "display_data"
    }
   ],
   "source": [
    "import matplotlib.pyplot as plt\n",
    "data.plot(x='children', y='expenses', style='o')\n",
    "plt.title('expenses vs. children')\n",
    "plt.xlabel('children')\n",
    "plt.ylabel('expenses')\n",
    "plt.show()"
   ]
  },
  {
   "cell_type": "markdown",
   "metadata": {},
   "source": [
    "# Residual Sum of Squares"
   ]
  },
  {
   "cell_type": "markdown",
   "metadata": {},
   "source": [
    "Now we want to evaluate our models using Residual Sum of Squares (RSS) via a function. \n",
    "\n",
    "Recall that RSS is the sum of the squares of the residuals and the residuals are the respective differences between the predicted output and the true output. "
   ]
  },
  {
   "cell_type": "code",
   "execution_count": 15,
   "metadata": {},
   "outputs": [],
   "source": [
    "def get_residual_sum_of_squares(input_feature, output, intercept, slope):\n",
    "    # First get the predictions\n",
    "    predicted_output = get_regression_predictions(input_feature, intercept, slope)\n",
    "    # Compute the residuals (since we are squaring it doesn't matter which order you subtract)\n",
    "    residuals = predicted_output - output\n",
    "    # Square the residuals and add them up\n",
    "    residuals_squared = residuals * residuals\n",
    "    RSS = residuals_squared.sum()\n",
    "    return(RSS)"
   ]
  },
  {
   "cell_type": "markdown",
   "metadata": {},
   "source": [
    "Now let's use the function to calculate the RSS on training data from the bmi model calculated above."
   ]
  },
  {
   "cell_type": "code",
   "execution_count": 16,
   "metadata": {},
   "outputs": [
    {
     "name": "stdout",
     "output_type": "stream",
     "text": [
      "The RSS of predicting expenses based on bmi is : 148410978320.20258\n"
     ]
    }
   ],
   "source": [
    "rss_expenses_on_bmi_train = get_residual_sum_of_squares(train_data['bmi'], \n",
    "                                                 train_data['expenses'], \n",
    "                                                 bmi_intercept, \n",
    "                                                 bmi_slope)\n",
    "\n",
    "print('The RSS of predicting expenses based on bmi is : ' + str(rss_expenses_on_bmi_train))"
   ]
  },
  {
   "cell_type": "markdown",
   "metadata": {},
   "source": [
    "# Your individual task 2: Test your Linear Regression algorithm"
   ]
  },
  {
   "cell_type": "markdown",
   "metadata": {},
   "source": [
    "If we have more models for predicting the expenses of an entry, how do we know which one is better? \n",
    "\n",
    "Calculate the RSS on the TEST data (remember this data wasn't involved in learning the model) and identify which model works best:\n",
    "\n",
    "* Simple Linear Regression on bmi?\n",
    "* Simple Linear Regression on age?\n",
    "* Simple Linear Regression on # children?\n",
    "\n",
    "(45min)"
   ]
  },
  {
   "cell_type": "code",
   "execution_count": 17,
   "metadata": {},
   "outputs": [
    {
     "name": "stdout",
     "output_type": "stream",
     "text": [
      "The test data RSS of predicting expenses based on bmi is: 39949730749.649025\n"
     ]
    }
   ],
   "source": [
    "# Compute RSS when using Square Feet (living) on TEST data:\n",
    "rss_expenses_on_bmi_test = get_residual_sum_of_squares(test_data['bmi'], \n",
    "                                                 test_data['expenses'], \n",
    "                                                 bmi_intercept, \n",
    "                                                 bmi_slope)\n",
    "\n",
    "print('The test data RSS of predicting expenses based on bmi is: ' + str(rss_expenses_on_bmi_test))"
   ]
  },
  {
   "cell_type": "markdown",
   "metadata": {},
   "source": [
    "# Additional task: What BMI can you buy for $12000"
   ]
  },
  {
   "cell_type": "code",
   "execution_count": null,
   "metadata": {},
   "outputs": [],
   "source": []
  }
 ],
 "metadata": {
  "kernelspec": {
   "display_name": "Python 3",
   "language": "python",
   "name": "python3"
  },
  "language_info": {
   "codemirror_mode": {
    "name": "ipython",
    "version": 3
   },
   "file_extension": ".py",
   "mimetype": "text/x-python",
   "name": "python",
   "nbconvert_exporter": "python",
   "pygments_lexer": "ipython3",
   "version": "3.9.1"
  }
 },
 "nbformat": 4,
 "nbformat_minor": 1
}
