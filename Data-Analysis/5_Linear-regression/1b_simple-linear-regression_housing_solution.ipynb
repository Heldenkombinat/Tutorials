{
 "cells": [
  {
   "cell_type": "markdown",
   "metadata": {},
   "source": [
    "# Simple Linear Regression"
   ]
  },
  {
   "cell_type": "markdown",
   "metadata": {},
   "source": [
    "In this notebook we will learn the respective steps needed to compute Simple Linear Regression with data on house sales in King County, USA (https://www.kingcounty.gov) to predict house prices. You will:\n",
    "* Upload and preprocess the data\n",
    "* Write a function to compute the Simple Linear Regression weights\n",
    "* Write a function to make predictions of the output given the input feature\n",
    "* Compare different models for predicting house prices"
   ]
  },
  {
   "cell_type": "markdown",
   "metadata": {},
   "source": [
    "# Upload and preprocess the data\n",
    "\n",
    "Dataset is from house sales in King County, USA (https://www.kingcounty.gov)."
   ]
  },
  {
   "cell_type": "code",
   "execution_count": null,
   "metadata": {},
   "outputs": [],
   "source": [
    "import pandas as pd\n",
    "sales = pd.read_csv('housing.csv')\n",
    "# Look at the table to check potential features\n",
    "sales[:10]"
   ]
  },
  {
   "cell_type": "markdown",
   "metadata": {},
   "source": [
    "# Split data into training and testing"
   ]
  },
  {
   "cell_type": "code",
   "execution_count": null,
   "metadata": {},
   "outputs": [],
   "source": [
    "from sklearn.model_selection import train_test_split\n",
    "# Split data set into 80% train and 20% test data \n",
    "train_data, test_data = train_test_split(sales, test_size=0.2, random_state=42)\n",
    "# Look at the shape to check the split ratio\n",
    "train_data.shape, test_data.shape"
   ]
  },
  {
   "cell_type": "markdown",
   "metadata": {},
   "source": [
    "# Build a generic simple linear regression function "
   ]
  },
  {
   "cell_type": "markdown",
   "metadata": {},
   "source": [
    "Let's build a closed form solution (function) to compute the slope and intercept for a simple linear regression."
   ]
  },
  {
   "cell_type": "code",
   "execution_count": null,
   "metadata": {},
   "outputs": [],
   "source": [
    "def simple_linear_regression(input_feature, output):\n",
    "    n = len(input_feature)\n",
    "    # compute the sum of input_feature and output\n",
    "    x_sum = input_feature.sum()\n",
    "    y_sum = output.sum()\n",
    "    # compute the product of the output and the input_feature and its sum\n",
    "    xy = input_feature * output\n",
    "    xy_sum = xy.sum()\n",
    "    # compute the squared value of the input_feature and its sum\n",
    "    x_squared = input_feature * input_feature\n",
    "    x_squared_sum = x_squared.sum()\n",
    "    # use the formula for the slope\n",
    "    slope = (xy_sum - x_sum * y_sum / n) / (x_squared_sum - x_sum * x_sum / n)\n",
    "    # use the formula for the intercept\n",
    "    intercept = y_sum / n - slope * x_sum / n\n",
    "    return (intercept, slope)"
   ]
  },
  {
   "cell_type": "markdown",
   "metadata": {},
   "source": [
    "Now let's use that function of a simple regression model for predicting price based on sqft_living - rembember that we train on train_data!"
   ]
  },
  {
   "cell_type": "code",
   "execution_count": null,
   "metadata": {},
   "outputs": [],
   "source": [
    "sqft_living_intercept, sqft_living_slope = simple_linear_regression(train_data['sqft_living'], train_data['price'])\n",
    "\n",
    "print('Intercept: ' + str(sqft_living_intercept))\n",
    "print('Slope: ' + str(sqft_living_slope))"
   ]
  },
  {
   "cell_type": "markdown",
   "metadata": {},
   "source": [
    "# Predicting values"
   ]
  },
  {
   "cell_type": "markdown",
   "metadata": {},
   "source": [
    "With the model parameters 'intercept & slope' we can now write a function to return the predicted output - given the input_feature, slope and intercept:"
   ]
  },
  {
   "cell_type": "code",
   "execution_count": null,
   "metadata": {},
   "outputs": [],
   "source": [
    "def get_regression_predictions(input_feature, intercept, slope):\n",
    "    # calculate the predicted values:\n",
    "    predicted_values = intercept + input_feature * slope\n",
    "    return predicted_values"
   ]
  },
  {
   "cell_type": "markdown",
   "metadata": {},
   "source": [
    "Now that we have this function let's make a prediction. \n",
    "\n",
    "* What is the estimated price for a house with 2650 squarefeet (living) according to the squarefeet model we estiamted above?"
   ]
  },
  {
   "cell_type": "code",
   "execution_count": null,
   "metadata": {},
   "outputs": [],
   "source": [
    "my_house_sqft_living = 2650\n",
    "estimated_price_living = get_regression_predictions(my_house_sqft_living, \n",
    "                                             sqft_living_intercept, \n",
    "                                             sqft_living_slope)\n",
    "\n",
    "print('The estimated price for a house with %d squarefeet is $%.2f' % (my_house_sqft_living, estimated_price_living))"
   ]
  },
  {
   "cell_type": "markdown",
   "metadata": {},
   "source": [
    "# Your individual task 1: Build models for other features!"
   ]
  },
  {
   "cell_type": "markdown",
   "metadata": {},
   "source": [
    "Answer the following questions by applying what you have learned so far:\n",
    "\n",
    "* What is the estimated price for a house with 2650 squarefeet (lot)?\n",
    "* What is the estimated price for a house with 4 bedrooms?\n",
    "* What is the estimated price for a house with 3 bathrooms?\n",
    "\n",
    "\n",
    "Go through the entire notebook first and think: What can be reused and what needs to be changed? (15min)\n",
    "\n",
    "=> Present your thoughts to the group!\n",
    "\n",
    "Now add more code and variables where needed! (45min)\n",
    "\n",
    "=> Present your code to the group!\n"
   ]
  },
  {
   "cell_type": "code",
   "execution_count": null,
   "metadata": {},
   "outputs": [],
   "source": [
    "# Your code here..."
   ]
  },
  {
   "cell_type": "markdown",
   "metadata": {},
   "source": [
    "# Residual Sum of Squares"
   ]
  },
  {
   "cell_type": "markdown",
   "metadata": {},
   "source": [
    "Now we want to evaluate our models using Residual Sum of Squares (RSS) via a function. \n",
    "\n",
    "Recall that RSS is the sum of the squares of the residuals and the residuals are the respective differences between the predicted output and the true output. "
   ]
  },
  {
   "cell_type": "code",
   "execution_count": null,
   "metadata": {},
   "outputs": [],
   "source": [
    "def get_residual_sum_of_squares(input_feature, output, intercept, slope):\n",
    "    # First get the predictions\n",
    "    predicted_output = get_regression_predictions(input_feature, intercept, slope)\n",
    "    # Compute the residuals (since we are squaring it doesn't matter which order you subtract)\n",
    "    residuals = predicted_output - output\n",
    "    # Square the residuals and add them up\n",
    "    residuals_squared = residuals * residuals\n",
    "    RSS = residuals_squared.sum()\n",
    "    return(RSS)"
   ]
  },
  {
   "cell_type": "markdown",
   "metadata": {},
   "source": [
    "Now let's use the function to calculate the RSS on training data from the squarefeet (living) model calculated above."
   ]
  },
  {
   "cell_type": "code",
   "execution_count": null,
   "metadata": {},
   "outputs": [],
   "source": [
    "rss_prices_on_sqft_living = get_residual_sum_of_squares(train_data['sqft_living'], \n",
    "                                                 train_data['price'], \n",
    "                                                 sqft_living_intercept, \n",
    "                                                 sqft_living_slope)\n",
    "\n",
    "print('The RSS of predicting prices based on Square Feet (living) is : ' + str(rss_prices_on_sqft_living))"
   ]
  },
  {
   "cell_type": "markdown",
   "metadata": {},
   "source": [
    "# Your individual task 2: Test your Linear Regression algorithm"
   ]
  },
  {
   "cell_type": "markdown",
   "metadata": {},
   "source": [
    "If we have more models for predicting the price of a house, how do we know which one is better? \n",
    "\n",
    "Calculate the RSS on the TEST data (remember this data wasn't involved in learning the model) and identify which model works best:\n",
    "\n",
    "* Simple Linear Regression on squarefeet (living)?\n",
    "* Simple Linear Regression on squarefeet (lot)?\n",
    "* Simple Linear Regression on bedrooms?\n",
    "* Simple Linear Regression on bathrooms?\n",
    "\n",
    "(45min)"
   ]
  },
  {
   "cell_type": "code",
   "execution_count": null,
   "metadata": {},
   "outputs": [],
   "source": [
    "# Compute RSS when using Square Feet (living) on TEST data:\n",
    "rss_prices_on_sqft_living = get_residual_sum_of_squares(test_data['sqft_living'], \n",
    "                                                 test_data['price'], \n",
    "                                                 sqft_living_intercept, \n",
    "                                                 sqft_living_slope)\n",
    "\n",
    "print('The test data RSS of predicting prices based on Square Feet (living) is: ' + str(rss_prices_on_sqft_living))"
   ]
  },
  {
   "cell_type": "code",
   "execution_count": null,
   "metadata": {},
   "outputs": [],
   "source": [
    "# Your code here...\n"
   ]
  },
  {
   "cell_type": "markdown",
   "metadata": {},
   "source": [
    "# Additional: Predict the squarefeet given price"
   ]
  },
  {
   "cell_type": "markdown",
   "metadata": {},
   "source": [
    "Now we want to predict the squarefoot given the price. Since we have an equation y = a + b\\*x we can solve the function for x. So that if we have the intercept (a) and the slope (b) and the price (y) we can solve for the estimated squarefeet (x)."
   ]
  },
  {
   "cell_type": "code",
   "execution_count": null,
   "metadata": {},
   "outputs": [],
   "source": [
    "def inverse_regression_predictions(output, intercept, slope):\n",
    "    # Solve output = intercept + slope * input_feature for input_feature. Use this equation to compute the inverse predictions:\n",
    "    estimated_feature = (output - intercept) / slope\n",
    "    return estimated_feature"
   ]
  },
  {
   "cell_type": "markdown",
   "metadata": {},
   "source": [
    "Now that we have a function to compute the squarefeet given the price from our simple regression model let's see how big we might expect a house that costs $750,000 to be."
   ]
  },
  {
   "cell_type": "code",
   "execution_count": null,
   "metadata": {},
   "outputs": [],
   "source": [
    "my_house_price = 750000\n",
    "estimated_squarefeet_living = inverse_regression_predictions(my_house_price, \n",
    "                                                             sqft_living_intercept, \n",
    "                                                             sqft_living_slope)\n",
    "\n",
    "print('The estimated squarefeet (living) for a house worth $%.2f is %d.' % (my_house_price, estimated_squarefeet_living))"
   ]
  },
  {
   "cell_type": "markdown",
   "metadata": {},
   "source": [
    "# Another way to plot multiple variable combinations against each other"
   ]
  },
  {
   "cell_type": "code",
   "execution_count": null,
   "metadata": {},
   "outputs": [],
   "source": [
    "plot_data_new = sales[['price', 'bedrooms', 'sqft_living', 'sqft_lot']] \n",
    "from pandas.plotting import scatter_matrix\n",
    "sm = scatter_matrix(plot_data_new, figsize = (10,10))"
   ]
  },
  {
   "cell_type": "code",
   "execution_count": null,
   "metadata": {},
   "outputs": [],
   "source": []
  }
 ],
 "metadata": {
  "kernelspec": {
   "display_name": "Python 3 (ipykernel)",
   "language": "python",
   "name": "python3"
  },
  "language_info": {
   "codemirror_mode": {
    "name": "ipython",
    "version": 3
   },
   "file_extension": ".py",
   "mimetype": "text/x-python",
   "name": "python",
   "nbconvert_exporter": "python",
   "pygments_lexer": "ipython3",
   "version": "3.9.12"
  }
 },
 "nbformat": 4,
 "nbformat_minor": 1
}
